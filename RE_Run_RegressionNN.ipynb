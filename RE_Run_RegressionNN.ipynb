{
 "cells": [
  {
   "cell_type": "markdown",
   "metadata": {},
   "source": [
    "# Load Layer outputs"
   ]
  },
  {
   "cell_type": "code",
   "execution_count": 1,
   "metadata": {
    "collapsed": false
   },
   "outputs": [],
   "source": [
    "import pickle\n",
    "with open('NN_layer_outputs.dat','rb') as f:\n",
    "    layer_outs,layer_outs_test= pickle.load(f)\n",
    "f.close()"
   ]
  },
  {
   "cell_type": "markdown",
   "metadata": {},
   "source": [
    "# Load recording and test data"
   ]
  },
  {
   "cell_type": "code",
   "execution_count": 2,
   "metadata": {
    "collapsed": false
   },
   "outputs": [
    {
     "name": "stderr",
     "output_type": "stream",
     "text": [
      "Using TensorFlow backend.\n"
     ]
    }
   ],
   "source": [
    "import numpy as np\n",
    "from keras.datasets import mnist\n",
    "from scipy.misc import imresize\n",
    "\n",
    "(Xtrain, Ytrain), (Xtest, Ytest) = mnist.load_data()\n",
    "\n",
    "(ntrain, xdim, ydim) = Xtrain.shape\n",
    "ntest = Xtest.shape[0]\n",
    "\n",
    "# Recording data\n",
    "X_pr = Xtrain[30000:60000, :, :]\n",
    "Y_pr = Ytrain[30000:60000]\n",
    "\n",
    "# downsample\n",
    "factor = 0.25\n",
    "\n",
    "\n",
    "Xtest_down = np.ones((Xtest.shape[0], int(xdim*factor), int(ydim*factor)))\n",
    "for i in range(Xtest.shape[0]):\n",
    "    Xtest_down[i,:,:] = imresize(Xtest[i,:,:], factor)\n",
    "\n",
    "X_pr_down = np.ones((X_pr.shape[0], int(xdim*factor), int(ydim*factor)))\n",
    "for i in range(X_pr.shape[0]):\n",
    "    X_pr_down[i,:,:] = imresize(X_pr[i,:,:], factor)\n",
    "    \n",
    "# VECTORIZE IMAGES\n",
    "Xtest_down = Xtest_down.reshape(ntest, int(xdim*factor)**2).astype('float32') / 255\n",
    "X_pr_down = X_pr_down.reshape(X_pr_down.shape[0], int(xdim*factor)**2).astype('float32') / 255"
   ]
  },
  {
   "cell_type": "markdown",
   "metadata": {},
   "source": [
    "# Run Neural Networks with missing value imputation"
   ]
  },
  {
   "cell_type": "code",
   "execution_count": null,
   "metadata": {
    "collapsed": false
   },
   "outputs": [
    {
     "name": "stdout",
     "output_type": "stream",
     "text": [
      "1\n",
      "Epoch 1/10\n",
      "22s - loss: 0.0846\n",
      "Epoch 2/10\n",
      "23s - loss: 0.0841\n",
      "Epoch 3/10\n",
      "22s - loss: 0.0839\n",
      "Epoch 4/10\n",
      "22s - loss: 0.0837\n",
      "Epoch 5/10\n",
      "23s - loss: 0.0836\n",
      "Epoch 6/10\n",
      "24s - loss: 0.0836\n",
      "Epoch 7/10\n",
      "23s - loss: 0.0836\n",
      "Epoch 8/10\n",
      "23s - loss: 0.0835\n",
      "Epoch 9/10\n"
     ]
    }
   ],
   "source": [
    "from copy import copy, deepcopy\n",
    "from RE_PartialRecData2 import RE_PartialRecData2\n",
    "from sklearn import preprocessing, linear_model\n",
    "import pickle\n",
    "from keras.models import Sequential\n",
    "from keras.layers import Dense\n",
    "from keras.utils import np_utils\n",
    "from keras.models import load_model\n",
    "from keras import backend as K\n",
    "import tensorflow as tf\n",
    "\n",
    "\n",
    "\n",
    "# how many recordings?\n",
    "nRecordings = 10\n",
    "# how many neurons from the firs hidden layer?\n",
    "#subnetSize = [2**x for x in range(8)]\n",
    "subnetSize =[1, 8, 64, 128]\n",
    "nSubnetSize = len(subnetSize)\n",
    "# which layers?\n",
    "iLayer=0\n",
    "# how many samples per recording?\n",
    "nSamples = np.divide(int(X_pr_down.shape[0]/nRecordings),subnetSize)*100\n",
    "#nSamples=[100 for i in range(nSubnetSize)]\n",
    "# how many iterations\n",
    "nIterations = 5\n",
    "\n",
    "# baseline prediction error\n",
    "#bl = np.std(layer_outs_test[oLayer]-np.mean(layer_outs_test[oLayer]));\n",
    "\n",
    "oLayer = len(layer_outs)-1  # index of output layer\n",
    "nOutNeurons = layer_outs[oLayer].shape[1]\n",
    "rmses = np.zeros([nIterations, nOutNeurons, nSubnetSize])\n",
    "for ss in range(nSubnetSize):\n",
    "    r_coefs =np.zeros((nIterations, 10, 128))\n",
    "    #nLayerNeurons = [subnetSize[ss], 0, 0, 0, 10]\n",
    "    nLayerNeurons = subnetSize[ss]\n",
    "    print(subnetSize[ss])\n",
    "    for it in range(nIterations):\n",
    "        # copy data - is this necessary?\n",
    "        layer_outputs = deepcopy(layer_outs)\n",
    "        # subsample\n",
    "        X_subsample, Y_subsample = RE_PartialRecData2(layer_outputs[iLayer], layer_outputs[oLayer], \\\n",
    "                                                      nLayerNeurons, nRecordings, nSamples[ss])\n",
    "        # impute X_subsample with mean value, apply imputation to test set\n",
    "        imp =preprocessing.Imputer(missing_values='NaN', strategy='mean')\n",
    "        impf =imp.fit(X_subsample)\n",
    "        X_new = impf.transform(X_subsample)\n",
    "        # apply the transformation to X_test to drop entirely nan columns\n",
    "        X_test_new= impf.transform(layer_outs_test[iLayer]) \n",
    "        # train the network\n",
    "        model = Sequential()\n",
    "        model.add(Dense(50, input_shape=( X_new.shape[1] ,)))\n",
    "        model.add(Dense(50, activation ='tanh'))\n",
    "        model.add(Dense(50))\n",
    "        model.add(Dense(10))\n",
    "        # Compile model\n",
    "        model.compile(loss='mean_squared_error', optimizer='adam')        \n",
    "        model.fit(X_new, Y_subsample, verbose=2, batch_size=500)\n",
    "        rmses[it, :,ss] =np.sqrt(np.mean((model.predict(X_test_new, verbose=0)-layer_outs_test[oLayer])**2, axis=0))\n",
    "        \n",
    "        # fit regression model\n",
    "        #regr = linear_model.Lasso(0.01) \n",
    "        print ('predicting, mean RMSEs=%f' %np.mean(rmses[it, :, ss]))\n",
    "#         if np.mean(rmses[it, :, ss])>1:\n",
    "#             breakflag=True\n",
    "#             break\n",
    "#     if breakflag:\n",
    "#         break\n",
    "\n",
    "            \n",
    "# # save the rmse's\n",
    "# with open('RMSE_Layer1_NLNN.dat','wb') as f:\n",
    "#     pickle.dump(rmses, f)\n",
    "# f.close()\n"
   ]
  },
  {
   "cell_type": "code",
   "execution_count": 4,
   "metadata": {
    "collapsed": false
   },
   "outputs": [
    {
     "data": {
      "text/plain": [
       "(0, 2.5)"
      ]
     },
     "execution_count": 4,
     "metadata": {},
     "output_type": "execute_result"
    },
    {
     "data": {
      "image/png": "[encoded data removed]",
      "text/plain": [
       "<matplotlib.figure.Figure at 0x7f7ef80ed790>"
      ]
     },
     "metadata": {},
     "output_type": "display_data"
    }
   ],
   "source": [
    "\n",
    "import matplotlib.pyplot as pl\n",
    "%matplotlib inline\n",
    "import numpy as np\n",
    "\n",
    "fig=pl.figure(figsize=(10,6))\n",
    "ax1 = fig.add_subplot(111)\n",
    "ax1.set_xlim([0, 128])\n",
    "ax2 = ax1.twiny()\n",
    "\n",
    "x = subnetSize;\n",
    "y = np.mean(np.median(rmses, axis=1), axis=0)\n",
    "error = np.std(np.mean(rmses, axis=1), axis=0)\n",
    "bl = np.std(layer_outs_test[oLayer]-np.mean(layer_outs_test[oLayer]));\n",
    "\n",
    "pl.plot(x, y, 'k-')\n",
    "horiz_line_data = np.array([bl for i in xrange(len(x))])\n",
    "pl.plot(x, horiz_line_data, 'k--') \n",
    "pl.fill_between(x, y-error, y+error, alpha=0.2, facecolor='#808080')\n",
    "\n",
    "ax1.set_xlabel('# observed neurons on Layer 1 (out of 128)', fontsize=18)\n",
    "ax2.set_xlabel('Samples per recording',  fontsize=16)\n",
    "\n",
    "new_tick_locations =range(len(nSamples))\n",
    "ax2.set_xlim(ax1.get_xlim())\n",
    "ax2.set_xticks(new_tick_locations)\n",
    "ax2.set_xticklabels(nSamples)\n",
    "\n",
    "\n",
    "# ax2.set_xticks(nSamples)\n",
    "# ax2.set_xticklabels(nSamples[range(0, 5, 20)])\n",
    "ax1.set_ylabel('RMSE', fontsize=18)\n",
    "ax1.set_ylim([0, 2.5])\n",
    "\n",
    "#pl.text(110,bl+0.005, 'baseline')"
   ]
  },
  {
   "cell_type": "code",
   "execution_count": null,
   "metadata": {
    "collapsed": false
   },
   "outputs": [],
   "source": [
    "nRecordings=10\n",
    "hLayerOuts =layer_outs[iLayer]\n",
    "nSamples = 20\n",
    "nLayerNeurons =64\n",
    "oLayerOuts = layer_outs[oLayer]\n",
    "import numpy as np\n",
    "# returns a data set where, nLayerNeurons are recorded from a hidden layer, for each of nRecordings.\n",
    "# Each partial recording has nSamples.\n",
    "layerArray = np.zeros((nRecordings, nLayerNeurons), dtype=int)\n",
    "for iRec in range(nRecordings):\n",
    "    layerArray[iRec, :]= np.sort(np.random.choice(range(hLayerOuts.shape[1]), size=nLayerNeurons, replace=False))      \n",
    "\n",
    "#print(layerArray)\n",
    "X = np.nan*np.zeros((nRecordings*nSamples, hLayerOuts.shape[1]))\n",
    "Y = np.nan*np.zeros((nRecordings*nSamples, oLayerOuts.shape[1]))\n",
    "\n",
    "# get the data\n",
    "sample_ind=0\n",
    "for iRec in range(nRecordings):\n",
    "    rec_inds = np.random.choice(range(hLayerOuts.shape[0]), size=nSamples, replace=True)\n",
    "    #print(rec_inds)\n",
    "    cols = layerArray[iRec, :]\n",
    "    cols = cols[:, None]\n",
    "    inds = np.array(range(sample_ind,((iRec+1)*nSamples)), dtype=int)\n",
    "    X[inds, cols] = hLayerOuts[rec_inds, cols]\n",
    "    Y[inds, :] = oLayerOuts[rec_inds, :]\n",
    "    sample_ind = sample_ind + nSamples"
   ]
  },
  {
   "cell_type": "code",
   "execution_count": null,
   "metadata": {
    "collapsed": false
   },
   "outputs": [],
   "source": [
    "print(oLayerOuts[rec_inds, :])\n",
    "print(Y[inds, :])"
   ]
  }
 ],
 "metadata": {
  "kernelspec": {
   "display_name": "Python [Root]",
   "language": "python",
   "name": "Python [Root]"
  },
  "language_info": {
   "codemirror_mode": {
    "name": "ipython",
    "version": 2
   },
   "file_extension": ".py",
   "mimetype": "text/x-python",
   "name": "python",
   "nbconvert_exporter": "python",
   "pygments_lexer": "ipython2",
   "version": "2.7.12"
  }
 },
 "nbformat": 4,
 "nbformat_minor": 0
}

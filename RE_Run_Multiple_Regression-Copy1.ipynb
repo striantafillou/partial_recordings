{
 "cells": [
  {
   "cell_type": "markdown",
   "metadata": {},
   "source": [
    "# Load Layer outputs"
   ]
  },
  {
   "cell_type": "code",
   "execution_count": 4,
   "metadata": {
    "collapsed": false
   },
   "outputs": [],
   "source": [
    "nn = 'LNN'\n",
    "\n",
    "import pickle\n",
    "with open('results/' +nn +'_layer_outputs.dat','rb') as f:\n",
    "    layer_outs,layer_outs_test= pickle.load(f)\n",
    "f.close()"
   ]
  },
  {
   "cell_type": "markdown",
   "metadata": {},
   "source": [
    "# Load recording and test data"
   ]
  },
  {
   "cell_type": "code",
   "execution_count": 5,
   "metadata": {
    "collapsed": false
   },
   "outputs": [
    {
     "name": "stderr",
     "output_type": "stream",
     "text": [
      "Using TensorFlow backend.\n"
     ]
    }
   ],
   "source": [
    "import numpy as np\n",
    "from keras.datasets import mnist\n",
    "from scipy.misc import imresize\n",
    "\n",
    "(Xtrain, Ytrain), (Xtest, Ytest) = mnist.load_data()\n",
    "\n",
    "(ntrain, xdim, ydim) = Xtrain.shape\n",
    "ntest = Xtest.shape[0]\n",
    "\n",
    "# Recording data\n",
    "X_pr = Xtrain[30000:60000, :, :]\n",
    "Y_pr = Ytrain[30000:60000]\n",
    "\n",
    "# downsample\n",
    "factor = 0.25\n",
    "\n",
    "Xtest_down = np.ones((Xtest.shape[0], int(xdim*factor), int(ydim*factor)))\n",
    "for i in range(Xtest.shape[0]):\n",
    "    Xtest_down[i,:,:] = imresize(Xtest[i,:,:], factor)\n",
    "\n",
    "X_pr_down = np.ones((X_pr.shape[0], int(xdim*factor), int(ydim*factor)))\n",
    "for i in range(X_pr.shape[0]):\n",
    "    X_pr_down[i,:,:] = imresize(X_pr[i,:,:], factor)\n",
    "    \n",
    "# VECTORIZE IMAGES\n",
    "Xtest_down = Xtest_down.reshape(ntest, int(xdim*factor)**2).astype('float32') / 255\n",
    "X_pr_down = X_pr_down.reshape(X_pr_down.shape[0], int(xdim*factor)**2).astype('float32') / 255"
   ]
  },
  {
   "cell_type": "markdown",
   "metadata": {},
   "source": [
    "# Run Multiple Regressions"
   ]
  },
  {
   "cell_type": "code",
   "execution_count": 19,
   "metadata": {
    "collapsed": false
   },
   "outputs": [
    {
     "name": "stdout",
     "output_type": "stream",
     "text": [
      "1\n",
      "('# nan values: ', 0.0)\n",
      "2\n",
      "('# nan values: ', 0.0)\n",
      "4\n",
      "('# nan values: ', 0.0)\n",
      "8\n",
      "('# nan values: ', 0.0)\n",
      "16\n",
      "('# nan values: ', 0.0)\n",
      "32\n",
      "('# nan values: ', 0.0)\n",
      "64\n",
      "('# nan values: ', 0.0)\n",
      "128\n",
      "('# nan values: ', 0.0)\n",
      "1\n",
      "('# nan values: ', 0.0)\n",
      "2\n",
      "('# nan values: ', 0.0)\n",
      "4\n",
      "('# nan values: ', 0.0)\n",
      "8\n",
      "('# nan values: ', 0.0)\n",
      "16\n",
      "('# nan values: ', 0.0)\n",
      "32\n",
      "('# nan values: ', 0.0)\n",
      "64\n",
      "('# nan values: ', 0.0)\n",
      "128\n",
      "('# nan values: ', 0.0)\n",
      "1\n",
      "('# nan values: ', 0.0)\n",
      "2\n",
      "('# nan values: ', 0.0)\n",
      "4\n",
      "('# nan values: ', 0.0)\n",
      "8\n",
      "('# nan values: ', 0.0)\n",
      "16\n",
      "('# nan values: ', 0.0)\n",
      "32\n",
      "('# nan values: ', 0.0)\n",
      "64\n",
      "('# nan values: ', 0.0)\n",
      "128\n",
      "('# nan values: ', 0.0)\n",
      "1\n",
      "('# nan values: ', 0.0)\n",
      "2\n",
      "('# nan values: ', 0.0)\n",
      "4\n",
      "('# nan values: ', 0.0)\n",
      "8\n",
      "('# nan values: ', 0.0)\n",
      "16\n",
      "('# nan values: ', 0.0)\n",
      "32\n",
      "('# nan values: ', 0.0)\n",
      "64\n",
      "('# nan values: ', 0.0)\n",
      "128\n",
      "('# nan values: ', 0.0)\n"
     ]
    }
   ],
   "source": [
    "from copy import copy, deepcopy\n",
    "from RE_PartialRecData2 import RE_PartialRecData2\n",
    "from sklearn import preprocessing, linear_model\n",
    "import pickle\n",
    "\n",
    "\n",
    "# how many recordings?\n",
    "nRecordings = 10\n",
    "# how many neurons from the firs hidden layer?\n",
    "subnetSize = [2**x for x in range(8)]\n",
    "#subnetSize =[1, 2,8, 64]\n",
    "nSubnetSize = len(subnetSize)\n",
    "# which layers?\n",
    "iLayer=0\n",
    "# how many samples per recording?\n",
    "nSamples = np.divide(int(X_pr_down.shape[0]/nRecordings),subnetSize)*100\n",
    "# how many iterations\n",
    "nIterations = 1\n",
    "\n",
    "# baseline prediction error\n",
    "#bl = np.std(layer_outs_test[oLayer]-np.mean(layer_outs_test[oLayer]));\n",
    "\n",
    "oLayer = len(layer_outs)-1  # index of output layer\n",
    "nOutNeurons = layer_outs[oLayer].shape[1]\n",
    "rmses = np.zeros([nIterations, nOutNeurons, nSubnetSize])\n",
    "\n",
    "for iLayer in range(len(layer_outs)-1):\n",
    "    for ss in range(nSubnetSize):\n",
    "        #r_coefs =np.zeros((nIterations, 10, 128))\n",
    "        #nLayerNeurons = [subnetSize[ss], 0, 0, 0, 10]\n",
    "        nLayerNeurons = subnetSize[ss]\n",
    "        print(subnetSize[ss])\n",
    "        for it in range(nIterations):\n",
    "            # copy data - is this necessary?\n",
    "            layer_outputs = deepcopy(layer_outs)\n",
    "            # subsample\n",
    "            X_subsample, Y_subsample = RE_PartialRecData2(layer_outputs[iLayer], layer_outputs[oLayer], \\\n",
    "                                                          nLayerNeurons, nRecordings, nSamples[ss])\n",
    "            print('# nan values: ', np.divide(np.count_nonzero(np.isnan(X_subsample)), \\\n",
    "                                              float(np.count_nonzero(np.ones(X_subsample.shape)))))\n",
    "            # impute X_subsample with mean value, apply imputation to test set\n",
    "#             imp =preprocessing.Imputer(missing_values='NaN', strategy='mean')\n",
    "#             impf =imp.fit(X_subsample)\n",
    "#             X_new = impf.transform(X_subsample)\n",
    "#             (rem_cols, ) = np.where(np.sum(X_new, axis=0)==0)\n",
    "#             if rem_cols.shape[0]>0:\n",
    "#                 print('Removing cols #', rem_cols)\n",
    "#             X_test_new= impf.transform(layer_outs_test[iLayer])\n",
    "#             # fit regression model\n",
    "#             #regr = linear_model.Lasso(0.01)\n",
    "#             regr =linear_model.LinearRegression()\n",
    "#             regr.fit(X_new, Y_subsample)\n",
    "#             #r_coefs[it,:, ]=regr.coef_\n",
    "#             # calculate rmse\n",
    "#             rmses[it,:,ss] = np.sqrt(np.mean((regr.predict(X_test_new) - layer_outs_test[oLayer])**2, axis=0))\n",
    "\n",
    "#             print ('predicting, mean RMSEs=%f' %np.mean(rmses[it, :, ss]))\n",
    "\n",
    "#     fName = 'LR_RMSES_Layer'+str(iLayer) + 'nRec' + str(nRecordings) + nn + '.dat'\n",
    "#     # save the rmse's\n",
    "#     with open(fName,'wb') as f:\n",
    "#         pickle.dump(rmses, f)\n",
    "#     f.close()"
   ]
  },
  {
   "cell_type": "code",
   "execution_count": 13,
   "metadata": {
    "collapsed": false
   },
   "outputs": [
    {
     "data": {
      "text/plain": [
       "0.9921875"
      ]
     },
     "execution_count": 13,
     "metadata": {},
     "output_type": "execute_result"
    }
   ],
   "source": [
    "np.divide(np.count_nonzero(np.isnan(X_subsample)), \\\n",
    "                                              float(np.count_nonzero(np.ones(X_subsample.shape))))"
   ]
  },
  {
   "cell_type": "code",
   "execution_count": 6,
   "metadata": {
    "collapsed": false
   },
   "outputs": [
    {
     "data": {
      "text/plain": [
       "(0, 0.35)"
      ]
     },
     "execution_count": 6,
     "metadata": {},
     "output_type": "execute_result"
    },
    {
     "data": {
      "image/png": "[encoded data removed]",
      "text/plain": [
       "<matplotlib.figure.Figure at 0x7f10a3be9410>"
      ]
     },
     "metadata": {},
     "output_type": "display_data"
    }
   ],
   "source": [
    "\n",
    "import matplotlib.pyplot as pl\n",
    "%matplotlib inline\n",
    "import numpy as np\n",
    "\n",
    "fig=pl.figure(figsize=(10,6))\n",
    "ax1 = fig.add_subplot(111)\n",
    "ax1.set_xlim([0, 128])\n",
    "ax2 = ax1.twiny()\n",
    "\n",
    "x = subnetSize;\n",
    "y = np.mean(np.median(rmses, axis=1), axis=0)\n",
    "error = np.std(np.mean(rmses, axis=1), axis=0)\n",
    "bl = np.std(layer_outs_test[oLayer]-np.mean(layer_outs_test[oLayer]));\n",
    "\n",
    "pl.plot(x, y, 'k-')\n",
    "# horiz_line_data = np.array([bl for i in xrange(len(x))])\n",
    "# pl.plot(x, horiz_line_data, 'k--') \n",
    "pl.fill_between(x, y-error, y+error, alpha=0.2, facecolor='#808080')\n",
    "\n",
    "ax1.set_xlabel('# observed neurons on Layer 1 (out of 128)', fontsize=18)\n",
    "ax2.set_xlabel('Samples per recording',  fontsize=16)\n",
    "\n",
    "new_tick_locations =range(len(nSamples))\n",
    "ax2.set_xlim(ax1.get_xlim())\n",
    "ax2.set_xticks(new_tick_locations)\n",
    "ax2.set_xticklabels(nSamples)\n",
    "\n",
    "\n",
    "# ax2.set_xticks(nSamples)\n",
    "# ax2.set_xticklabels(nSamples[range(0, 5, 20)])\n",
    "ax1.set_ylabel('RMSE', fontsize=18)\n",
    "ax1.set_ylim([0, .35])\n",
    "\n",
    "#pl.text(110,bl+0.005, 'baseline')\n"
   ]
  }
 ],
 "metadata": {
  "kernelspec": {
   "display_name": "Python [Root]",
   "language": "python",
   "name": "Python [Root]"
  },
  "language_info": {
   "codemirror_mode": {
    "name": "ipython",
    "version": 2
   },
   "file_extension": ".py",
   "mimetype": "text/x-python",
   "name": "python",
   "nbconvert_exporter": "python",
   "pygments_lexer": "ipython2",
   "version": "2.7.12"
  }
 },
 "nbformat": 4,
 "nbformat_minor": 0
}

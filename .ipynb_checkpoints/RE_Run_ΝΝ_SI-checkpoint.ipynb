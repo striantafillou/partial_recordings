{
 "cells": [
  {
   "cell_type": "markdown",
   "metadata": {},
   "source": [
    "# Load Layer outputs"
   ]
  },
  {
   "cell_type": "code",
   "execution_count": 1,
   "metadata": {
    "collapsed": false
   },
   "outputs": [],
   "source": [
    "nn = 'NN'\n",
    "\n",
    "import pickle\n",
    "with open('results/' + nn + '_layer_outputs.dat', 'rb') as f:\n",
    "    layer_outs,layer_outs_test= pickle.load(f)\n",
    "f.close()\n"
   ]
  },
  {
   "cell_type": "markdown",
   "metadata": {},
   "source": [
    "# Load recording and test data"
   ]
  },
  {
   "cell_type": "code",
   "execution_count": 2,
   "metadata": {
    "collapsed": false
   },
   "outputs": [
    {
     "name": "stderr",
     "output_type": "stream",
     "text": [
      "Using Theano backend.\n"
     ]
    }
   ],
   "source": [
    "import numpy as np\n",
    "from keras.datasets import mnist\n",
    "from scipy.misc import imresize\n",
    "\n",
    "(Xtrain, Ytrain), (Xtest, Ytest) = mnist.load_data()\n",
    "\n",
    "(ntrain, xdim, ydim) = Xtrain.shape\n",
    "ntest = Xtest.shape[0]\n",
    "\n",
    "# Recording data\n",
    "X_pr = Xtrain[30000:60000, :, :]\n",
    "Y_pr = Ytrain[30000:60000]\n",
    "\n",
    "# downsample\n",
    "factor = 1\n",
    "if factor<1:\n",
    "    Xtest_down = np.ones((Xtest.shape[0], int(xdim*factor), int(ydim*factor)))\n",
    "    for i in range(Xtest.shape[0]):\n",
    "        Xtest_down[i,:,:] = imresize(Xtest[i,:,:], factor)\n",
    "\n",
    "    X_pr_down = np.ones((X_pr.shape[0], int(xdim*factor), int(ydim*factor)))\n",
    "    for i in range(X_pr.shape[0]):\n",
    "        X_pr_down[i,:,:] = imresize(X_pr[i,:,:], factor)\n",
    "else:\n",
    "    Xtest_down = Xtest\n",
    "    X_pr_down = X_pr\n",
    "    \n",
    "# VECTORIZE IMAGES\n",
    "Xtest_down = Xtest_down.reshape(ntest, int(xdim*factor)**2).astype('float32') / 255\n",
    "X_pr_down = X_pr_down.reshape(X_pr_down.shape[0], int(xdim*factor)**2).astype('float32') / 255\n"
   ]
  },
  {
   "cell_type": "markdown",
   "metadata": {},
   "source": [
    "# Run Neural Networks and average outputs"
   ]
  },
  {
   "cell_type": "code",
   "execution_count": 19,
   "metadata": {
    "collapsed": false
   },
   "outputs": [
    {
     "name": "stdout",
     "output_type": "stream",
     "text": [
      "('Layer #', 2)\n",
      "1\n",
      "334.759911776\n",
      "276.151154041\n",
      "342.553281069\n",
      "232.664113045\n",
      "222.363751888\n",
      "predicting, mean RMSEs=0.269388\n",
      "2\n",
      "110.859133005\n",
      "138.803819895\n",
      "109.97574091\n",
      "110.076933146\n",
      "112.194404125\n",
      "predicting, mean RMSEs=0.236929\n",
      "4\n",
      "57.3970489502\n",
      "56.3840720654\n",
      "112.867753029\n",
      "71.7912681103\n",
      "58.8643679619\n",
      "predicting, mean RMSEs=0.168191\n",
      "8\n",
      "47.2966868877\n",
      "51.7811229229\n",
      "37.0745921135\n",
      "30.7590818405\n",
      "30.1793830395\n",
      "predicting, mean RMSEs=0.115498\n",
      "16\n",
      "27.4414460659\n",
      "24.4718751907\n",
      "24.0244050026\n",
      "17.1482930183\n",
      "35.2680840492\n",
      "predicting, mean RMSEs=0.055487\n",
      "32\n",
      "19.1918208599\n",
      "9.28709793091\n",
      "28.5367939472\n",
      "13.0579311848\n",
      "29.1725740433\n",
      "predicting, mean RMSEs=0.034947\n",
      "64\n",
      "6.00766205788\n",
      "11.8777480125\n",
      "5.05918598175\n",
      "7.99431180954\n",
      "7.5226688385\n",
      "predicting, mean RMSEs=0.024479\n",
      "128\n",
      "4.00517010689\n",
      "4.72115397453\n",
      "3.68935894966\n",
      "4.24210691452\n",
      "3.27150511742\n",
      "predicting, mean RMSEs=0.026235\n"
     ]
    }
   ],
   "source": [
    "from copy import copy, deepcopy\n",
    "from RE_PartialRecData2 import RE_PartialRecData2\n",
    "from sklearn import preprocessing, linear_model\n",
    "import pickle\n",
    "from keras.models import Sequential\n",
    "from keras.layers import Dense\n",
    "from keras.utils import np_utils\n",
    "from keras.models import load_model\n",
    "from keras.callbacks import EarlyStopping\n",
    "#from keras import backend as K\n",
    "#import tensorflow as tf\n",
    "import time\n",
    "\n",
    "# how many recordings?\n",
    "nRecordings = 10\n",
    "# how many neurons from the firs hidden layer?\n",
    "subnetSize = [2**x for x in range(8)]\n",
    "nSubnetSize = len(subnetSize)\n",
    "# which layers?\n",
    "#iLayer = 0\n",
    "# how many samples per recording?\n",
    "nSamples = np.divide(int(X_pr_down.shape[0]/nRecordings),subnetSize)*100\n",
    "# how many iterations\n",
    "nIterations = 5\n",
    "\n",
    "# baseline prediction error\n",
    "#bl = np.std(layer_outs_test[oLayer]-np.mean(layer_outs_test[oLayer]));\n",
    "\n",
    "oLayer = len(layer_outs)-1  # index of output layer\n",
    "nOutNeurons = layer_outs[oLayer].shape[1]\n",
    "rmses = np.zeros([nIterations, nOutNeurons, nSubnetSize])\n",
    "\n",
    "for iLayer in range(2, len(layer_outs)-1,2):\n",
    "    print('Layer #', iLayer)\n",
    "    for ss in range(nSubnetSize):\n",
    "        #r_coefs = np.zeros((nIterations, 10, 128))\n",
    "        #nLayerNeurons = [subnetSize[ss], 0, 0, 0, 10]\n",
    "        nLayerNeurons = subnetSize[ss]\n",
    "        print(subnetSize[ss])    \n",
    "        for it in range(nIterations):\n",
    "            start = time.time()\n",
    "            # copy data - is this necessary?\n",
    "            layer_outputs = deepcopy(layer_outs)          \n",
    "            # subsample\n",
    "            X_subsample, Y_subsample = RE_PartialRecData2(layer_outputs[iLayer], layer_outputs[oLayer], \n",
    "                                                          nLayerNeurons, nRecordings, nSamples[ss])\n",
    "            # impute X_subsample with mean value, apply imputation to test set\n",
    "            imp = preprocessing.Imputer(missing_values='NaN', strategy='mean')\n",
    "            impf = imp.fit(X_subsample)\n",
    "            X_new = impf.transform(X_subsample)\n",
    "            X_test_new = impf.transform(layer_outs_test[iLayer])\n",
    "            # fit ΝΝ\n",
    "            model = Sequential()\n",
    "            model.add(Dense(16, input_shape=(X_new.shape[1],), activation='relu'))\n",
    "            model.add(Dense(16, activation='relu'))\n",
    "            model.add(Dense(16, activation='relu'))                \n",
    "            model.add(Dense(10, activation='softmax'))\n",
    "            # Compile model\n",
    "            model.compile(loss='mean_squared_error', optimizer='adam')\n",
    "            callbacks = [EarlyStopping(monitor='val_loss', min_delta=0.0001, patience=2, verbose=0)]\n",
    "            model.fit(X_new, Y_subsample, epochs=30, batch_size=16, shuffle=True, verbose=0, \n",
    "                      validation_split=0.1, callbacks=callbacks)\n",
    "            stop = time.time()\n",
    "            duration = stop-start\n",
    "            print(duration)\n",
    "            rmses[it,:,ss] = np.sqrt(np.mean((model.predict(X_test_new) - layer_outs_test[oLayer])**2, axis=0))\n",
    "        print ('predicting, mean RMSEs=%f' %np.mean(rmses[it, :, ss]))\n",
    "    fName = 'results/NNMVI_RMSES_Layer' + str(iLayer) + 'nRec' + str(nRecordings) + nn + '.dat'\n",
    "    with open(fName,'wb') as f:\n",
    "        pickle.dump(rmses, f)\n",
    "    f.close()"
   ]
  }
 ],
 "metadata": {
  "kernelspec": {
   "display_name": "Python [Root]",
   "language": "python",
   "name": "Python [Root]"
  },
  "language_info": {
   "codemirror_mode": {
    "name": "ipython",
    "version": 2
   },
   "file_extension": ".py",
   "mimetype": "text/x-python",
   "name": "python",
   "nbconvert_exporter": "python",
   "pygments_lexer": "ipython2",
   "version": "2.7.12"
  }
 },
 "nbformat": 4,
 "nbformat_minor": 0
}

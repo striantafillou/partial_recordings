{
 "cells": [
  {
   "cell_type": "markdown",
   "metadata": {},
   "source": [
    "# Load DATA"
   ]
  },
  {
   "cell_type": "code",
   "execution_count": 4,
   "metadata": {
    "collapsed": false
   },
   "outputs": [
    {
     "name": "stdout",
     "output_type": "stream",
     "text": [
      "(15536, 171)\n"
     ]
    }
   ],
   "source": [
    "import numpy as np\n",
    "\n",
    "dataIN = np.transpose(np.load('/home/klab/Public/Stevenson_spikes_50ms.npy'))\n",
    "# print(dataIN.shape)\n",
    "meanFR = np.mean(dataIN, axis=0)\n",
    "\n",
    "sortedInds = np.argsort(-np.mean(dataIN, axis=0))\n",
    "\n",
    "outNeurons = sortedInds[0:10]\n",
    "inNeurons = sortedInds[10:]\n",
    "data = dataIN[np.random.permutation(dataIN.shape[0]) , :]\n",
    "\n",
    "X = data[:, inNeurons]\n",
    "Y = data[:, outNeurons]\n",
    "\n",
    "testSamples  = range(0,1554)\n",
    "trainSamples = range(1554, 15536)    \n",
    "\n",
    "X_test = X[testSamples, :]\n",
    "Y_test = Y[testSamples, :]\n",
    "\n",
    "X_train = X[trainSamples, :]\n",
    "Y_train = Y[trainSamples, :]"
   ]
  },
  {
   "cell_type": "markdown",
   "metadata": {},
   "source": [
    "# Run Neural Networks and average outputs"
   ]
  },
  {
   "cell_type": "code",
   "execution_count": 3,
   "metadata": {
    "collapsed": false
   },
   "outputs": [
    {
     "name": "stderr",
     "output_type": "stream",
     "text": [
      "Using Theano backend.\n",
      "WARNING (theano.sandbox.cuda): The cuda backend is deprecated and will be removed in the next release (v0.10).  Please switch to the gpuarray backend. You can get more information about how to switch at this URL:\n",
      " https://github.com/Theano/Theano/wiki/Converting-to-the-new-gpu-back-end%28gpuarray%29\n",
      "\n",
      "Using gpu device 1: GeForce GTX TITAN X (CNMeM is enabled with initial size: 50.0% of memory, cuDNN 5103)\n"
     ]
    },
    {
     "name": "stdout",
     "output_type": "stream",
     "text": [
      "1\n"
     ]
    },
    {
     "name": "stderr",
     "output_type": "stream",
     "text": [
      "/opt/anaconda/anaconda2/lib/python2.7/site-packages/keras/models.py:826: UserWarning: The `nb_epoch` argument in `fit` has been renamed `epochs`.\n",
      "  warnings.warn('The `nb_epoch` argument in `fit` '\n"
     ]
    },
    {
     "name": "stdout",
     "output_type": "stream",
     "text": [
      "63.4046730995\n",
      "\n",
      "acc: 50.71%\n",
      "2\n",
      "31.3581790924\n",
      "\n",
      "acc: 50.13%\n",
      "4\n",
      "17.3027029037\n",
      "\n",
      "acc: 45.24%\n",
      "8\n",
      "9.16770505905\n",
      "\n",
      "acc: 47.36%\n",
      "16\n",
      "5.44630002975\n",
      "\n",
      "acc: 47.68%\n",
      "32\n",
      "4.72152709961\n",
      "\n",
      "acc: 47.94%\n",
      "64\n",
      "3.44629812241\n",
      "\n",
      "acc: 50.26%\n",
      "128\n",
      "2.26113295555\n",
      "\n",
      "acc: 49.61%\n"
     ]
    }
   ],
   "source": [
    "from copy import copy, deepcopy\n",
    "from RE_PartialRecData2 import RE_PartialRecData2\n",
    "from sklearn import preprocessing, linear_model\n",
    "import pickle\n",
    "from keras.models import Sequential\n",
    "from keras.layers import Dense\n",
    "from keras.utils import np_utils\n",
    "from keras.models import load_model\n",
    "from keras.callbacks import EarlyStopping\n",
    "import time\n",
    "from sklearn.metrics import coverage_error\n",
    "\n",
    "# how many recordings?\n",
    "nRecordings = 10\n",
    "# how many iterations\n",
    "nIterations = 1\n",
    "\n",
    "# how many neurons from the firs hidden layer?\n",
    "subnetSize = [2**x for x in range(8)]\n",
    "nSubnetSize = len(subnetSize)\n",
    "# how many samples per recording?\n",
    "nSamples = np.divide(int(X_train.shape[0]/nRecordings),subnetSize)\n",
    "nOutNeurons = len(outNeurons)\n",
    "rmses = np.zeros([nIterations, nOutNeurons, nSubnetSize])    \n",
    "    \n",
    "for ss in range(len(subnetSize)):\n",
    "    nLayerNeurons = subnetSize[ss]\n",
    "    print(subnetSize[ss]) \n",
    "\n",
    "    for it in range(nIterations):\n",
    "        start = time.time()         \n",
    "        # subsample\n",
    "        X_subsample, Y_subsample = RE_PartialRecData2(X_train, Y_train, nLayerNeurons, nRecordings, nSamples[ss])\n",
    "\n",
    "        # impute X_subsample with mean value, apply imputation to test set\n",
    "        imp = preprocessing.Imputer(missing_values='NaN', strategy='mean')\n",
    "        impf = imp.fit(X_subsample)\n",
    "        X_new = impf.transform(X_subsample)\n",
    "        X_test_new = impf.transform(X_test)\n",
    "\n",
    "        # fit ΝΝ\n",
    "        model = Sequential()\n",
    "        model.add(Dense(16, input_shape=(X_new.shape[1],), activation='sigmoid'))\n",
    "        model.add(Dense(16, activation='sigmoid'))\n",
    "        model.add(Dense(16, activation='sigmoid'))                \n",
    "        model.add(Dense(10, activation='softmax'))\n",
    "\n",
    "        # Compile model\n",
    "#         model.compile(loss='mean_squared_error', optimizer='adam')\n",
    "#         callbacks = [EarlyStopping(monitor='val_loss', min_delta=0.0001, patience=5, verbose=0)]\n",
    "#         model.fit(X_new, Y_subsample, epochs=100, batch_size=16, shuffle=True, verbose=0, \n",
    "#                   validation_split=0.1, callbacks=callbacks)\n",
    "        model.compile(loss='categorical_crossentropy', optimizer='adam', metrics=['accuracy'])\n",
    "        model.fit(X_new, Y_subsample, nb_epoch=50, batch_size=8, verbose=0)\n",
    "\n",
    "        stop = time.time()\n",
    "        duration = stop-start\n",
    "        print(duration)\n",
    "        #rmses[it,:,ss] = np.sqrt(np.mean((model.predict(X_test_new) - Y_test)**2, axis=0))\n",
    "        \n",
    "        # evaluate the model\n",
    "        rmses[it,:,ss] = model.evaluate(X_test_new, Y_test, verbose=0)[1]*100\n",
    "    print(\"\\n%s: %.2f%%\" % (model.metrics_names[1], np.mean(rmses[it,:,ss])))\n",
    "    \n",
    "#     print ('predicting, mean RMSEs=%f' %np.mean(rmses[it, :, ss]))\n",
    "\n",
    "\n",
    "fName = 'results/NNMVI_RMSES_' + '_nRec' + str(nRecordings) + '_Spiking.dat'\n",
    "with open(fName,'wb') as f:\n",
    "    pickle.dump(rmses, f)\n",
    "f.close()\n"
   ]
  },
  {
   "cell_type": "code",
   "execution_count": null,
   "metadata": {
    "collapsed": true
   },
   "outputs": [],
   "source": []
  }
 ],
 "metadata": {
  "kernelspec": {
   "display_name": "Python [Root]",
   "language": "python",
   "name": "Python [Root]"
  },
  "language_info": {
   "codemirror_mode": {
    "name": "ipython",
    "version": 2
   },
   "file_extension": ".py",
   "mimetype": "text/x-python",
   "name": "python",
   "nbconvert_exporter": "python",
   "pygments_lexer": "ipython2",
   "version": "2.7.12"
  }
 },
 "nbformat": 4,
 "nbformat_minor": 0
}

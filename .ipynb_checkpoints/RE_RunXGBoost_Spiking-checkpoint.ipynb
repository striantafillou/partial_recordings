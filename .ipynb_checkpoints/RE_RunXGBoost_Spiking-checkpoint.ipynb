{
 "cells": [
  {
   "cell_type": "markdown",
   "metadata": {},
   "source": [
    "# Load data"
   ]
  },
  {
   "cell_type": "code",
   "execution_count": 1,
   "metadata": {
    "collapsed": false
   },
   "outputs": [],
   "source": [
    "import numpy as np\n",
    "\n",
    "dataIN = np.transpose(np.load('/home/klab/Public/Stevenson_spikes_50ms.npy'))\n",
    "\n",
    "meanFR = np.mean(dataIN, axis=0)\n",
    "\n",
    "sortedInds = np.argsort(-np.mean(dataIN, axis=0))\n",
    "\n",
    "outNeurons = sortedInds[0:10]\n",
    "inNeurons = sortedInds[10:]\n",
    "data = dataIN[np.random.permutation(dataIN.shape[0]) , :]\n",
    "\n",
    "X = data[:, inNeurons]\n",
    "Y = data[:, outNeurons]\n",
    "\n",
    "testSamples  = range(0,1554)\n",
    "trainSamples = range(1554, 15536)    \n",
    "\n",
    "X_test = X[testSamples, :]\n",
    "Y_test = Y[testSamples, :]\n",
    "\n",
    "X_train = X[trainSamples, :]\n",
    "Y_train = Y[trainSamples, :]"
   ]
  },
  {
   "cell_type": "markdown",
   "metadata": {},
   "source": [
    "# Run XGBOOST"
   ]
  },
  {
   "cell_type": "code",
   "execution_count": 2,
   "metadata": {
    "collapsed": false
   },
   "outputs": [
    {
     "name": "stdout",
     "output_type": "stream",
     "text": [
      "1\n",
      "predicting, mean RMSEs=1.691960\n",
      "1\n",
      "predicting, mean RMSEs=1.683829\n",
      "1\n",
      "predicting, mean RMSEs=1.667396\n",
      "1\n",
      "predicting, mean RMSEs=1.670366\n",
      "1\n",
      "predicting, mean RMSEs=1.688365\n",
      "2\n",
      "predicting, mean RMSEs=1.722028\n",
      "2\n",
      "predicting, mean RMSEs=1.728011\n",
      "2\n",
      "predicting, mean RMSEs=1.721952\n",
      "2\n",
      "predicting, mean RMSEs=1.714663\n",
      "2\n",
      "predicting, mean RMSEs=1.726066\n",
      "4\n",
      "predicting, mean RMSEs=1.911137\n",
      "4\n",
      "predicting, mean RMSEs=1.851793\n",
      "4\n",
      "predicting, mean RMSEs=1.868553\n",
      "4\n",
      "predicting, mean RMSEs=1.912273\n",
      "4\n",
      "predicting, mean RMSEs=1.870790\n",
      "8\n",
      "predicting, mean RMSEs=2.150026\n",
      "8\n",
      "predicting, mean RMSEs=2.156561\n",
      "8\n",
      "predicting, mean RMSEs=2.105616\n",
      "8\n",
      "predicting, mean RMSEs=2.164074\n",
      "8\n",
      "predicting, mean RMSEs=2.156322\n",
      "16\n",
      "predicting, mean RMSEs=2.340616\n",
      "16\n",
      "predicting, mean RMSEs=2.356366\n",
      "16\n",
      "predicting, mean RMSEs=2.430891\n",
      "16\n",
      "predicting, mean RMSEs=2.382367\n",
      "16\n",
      "predicting, mean RMSEs=2.368314\n",
      "32\n",
      "predicting, mean RMSEs=2.310302\n",
      "32\n",
      "predicting, mean RMSEs=2.309878\n",
      "32\n",
      "predicting, mean RMSEs=2.428785\n",
      "32\n",
      "predicting, mean RMSEs=2.442961\n",
      "32\n",
      "predicting, mean RMSEs=2.307635\n",
      "64\n",
      "predicting, mean RMSEs=2.217224\n",
      "64\n",
      "predicting, mean RMSEs=2.140602\n",
      "64\n",
      "predicting, mean RMSEs=2.176497\n",
      "64\n",
      "predicting, mean RMSEs=2.149003\n",
      "64\n",
      "predicting, mean RMSEs=2.195583\n",
      "128\n",
      "predicting, mean RMSEs=1.944866\n",
      "128\n",
      "predicting, mean RMSEs=1.941397\n",
      "128\n",
      "predicting, mean RMSEs=1.961695\n",
      "128\n",
      "predicting, mean RMSEs=1.993444\n",
      "128\n",
      "predicting, mean RMSEs=1.964401\n"
     ]
    }
   ],
   "source": [
    "from copy import copy, deepcopy\n",
    "from RE_PartialRecData import RE_PartialRecData\n",
    "from RE_PartialRecData2 import RE_PartialRecData2\n",
    "import os\n",
    "import xgboost as xgb\n",
    "import sklearn\n",
    "from xgboost.sklearn import XGBClassifier\n",
    "import pickle\n",
    "from sklearn import preprocessing\n",
    "\n",
    "params = {}\n",
    "# use softmax multi-class classification 'multi:softmax'\n",
    "# use linear regression 'reg:linear'\n",
    "params['objective'] = 'reg:linear'\n",
    "\n",
    "# scale weight of positive examples\n",
    "params['eta'] = 0.5               # Makes the model more robust by shrinking the weights on each step (0.01-0.2)\n",
    "params['max_depth'] = 6           # Used to control over-fitting as higher depth will allow model to learn relations \n",
    "                                  # very specific to a particular sample. (3-10)\n",
    "params['silent'] = 1\n",
    "params['nthread'] = 4\n",
    "# params['num_class'] = np.max(X_train)\n",
    "num_round = 20\n",
    "\n",
    "nRecordings = 10\n",
    "nIterations = 5\n",
    "nOutNeurons = 10\n",
    "\n",
    "subnetSize = [2**x for x in range(8)]\n",
    "nSubnetSize = len(subnetSize)\n",
    "\n",
    "nSamples = np.divide(int(X_train.shape[0]/nRecordings),subnetSize)\n",
    "rmses = np.zeros([nIterations, nOutNeurons, nSubnetSize])\n",
    "\n",
    "for ss in range(nSubnetSize):\n",
    "    for it in range(nIterations):\n",
    "        print(subnetSize[ss])\n",
    "        nLayerNeurons = subnetSize[ss]\n",
    "        X_subsample, Y_subsample = RE_PartialRecData2(X_train, Y_train, \n",
    "                                                              nLayerNeurons, nRecordings, nSamples[ss])\n",
    "\n",
    "        # impute X_subsample with mean value, apply imputation to test set\n",
    "        imp = preprocessing.Imputer(missing_values='NaN', strategy='mean')\n",
    "        impf = imp.fit(X_subsample)\n",
    "        X_new = impf.transform(X_subsample)\n",
    "        X_test_new = impf.transform(X_test)\n",
    "\n",
    "        for iN in range(nOutNeurons):\n",
    "            #print('#neuron, #iteratin, subnetsize: ', iN,it,subnetSize[ss])\n",
    "            xg_train  = xgb.DMatrix(X_new, label=Y_subsample[:, iN])\n",
    "            xg_test   = xgb.DMatrix(X_test_new, label=Y_test[:, iN])\n",
    "            watchlist = [(xg_train, 'train'), (xg_test, 'test')]\n",
    "            # train XGboost\n",
    "            bst = xgb.train(params, xg_train, num_round, watchlist, verbose_eval=False)\n",
    "            # get predictions\n",
    "            pred = bst.predict(xg_test)\n",
    "            rmses[it, iN, ss] = np.sqrt(np.mean((bst.predict(xg_test)-Y_test[:, iN])**2))\n",
    "            \n",
    "        print ('predicting, mean RMSEs=%f' %np.mean(rmses[it, :, ss]))\n",
    "\n",
    "fName = 'results/XGB_RMSES_nRec' + str(nRecordings) + '_Spiking.dat'\n",
    "# save the rmse's\n",
    "with open(fName,'wb') as f:\n",
    "    pickle.dump(rmses, f)\n",
    "f.close()"
   ]
  },
  {
   "cell_type": "code",
   "execution_count": 3,
   "metadata": {
    "collapsed": false
   },
   "outputs": [
    {
     "data": {
      "image/png": "[encoded data removed]",
      "text/plain": [
       "<matplotlib.figure.Figure at 0x7f0500077690>"
      ]
     },
     "metadata": {},
     "output_type": "display_data"
    }
   ],
   "source": [
    "import matplotlib.pyplot as plt\n",
    "%matplotlib inline\n",
    "\n",
    "x = [2**x for x in range(10)]\n",
    "x = range(len(x))\n",
    "y = np.mean(np.mean(rmses, axis=1), axis=0)\n",
    "error = np.std(np.mean(rmses, axis=1), axis=0)\n",
    "\n",
    "figName = '../partial_recordings/figures/XGBMVI_RMSEs_Spiking'\n",
    "fig, ax1 = plt.subplots(1,1, figsize=(8, 5), facecolor='w', edgecolor='k')\n",
    "fig.subplots_adjust(hspace = .35, wspace=.15)\n",
    "ax1.plot(x[0:rmses.shape[2]], y, linewidth=2.5, color='m')\n",
    "plt.fill_between(x[0:rmses.shape[2]], y-error, y+error, alpha=0.2, color='m')\n",
    "\n",
    "ax1.set_xlabel('# observed neurons', fontsize=20)\n",
    "ax1.set_xlim([0,7])\n",
    "ax1.set_xticklabels( [2**x for x in range(8)], fontsize=14)\n",
    "ax1.set_ylabel('RMSE', fontsize=20)\n",
    "ylim = ax1.get_ylim()\n",
    "ax1.set_ylim(ylim)\n",
    "ax1.tick_params('both', labelsize=14)\n",
    "\n",
    "plt.draw()\n",
    "plt.savefig(figName +'.pdf', format='pdf')\n",
    "plt.savefig(figName +'.eps', format='eps', dpi=1000)"
   ]
  },
  {
   "cell_type": "code",
   "execution_count": null,
   "metadata": {
    "collapsed": true
   },
   "outputs": [],
   "source": []
  }
 ],
 "metadata": {
  "kernelspec": {
   "display_name": "Python [Root]",
   "language": "python",
   "name": "Python [Root]"
  },
  "language_info": {
   "codemirror_mode": {
    "name": "ipython",
    "version": 2
   },
   "file_extension": ".py",
   "mimetype": "text/x-python",
   "name": "python",
   "nbconvert_exporter": "python",
   "pygments_lexer": "ipython2",
   "version": "2.7.12"
  }
 },
 "nbformat": 4,
 "nbformat_minor": 0
}

{
 "cells": [
  {
   "cell_type": "markdown",
   "metadata": {},
   "source": [
    "# Load Layer outputs"
   ]
  },
  {
   "cell_type": "code",
   "execution_count": 1,
   "metadata": {
    "collapsed": false
   },
   "outputs": [
    {
     "name": "stderr",
     "output_type": "stream",
     "text": [
      "WARNING (theano.sandbox.cuda): The cuda backend is deprecated and will be removed in the next release (v0.10).  Please switch to the gpuarray backend. You can get more information about how to switch at this URL:\n",
      " https://github.com/Theano/Theano/wiki/Converting-to-the-new-gpu-back-end%28gpuarray%29\n",
      "\n",
      "ERROR (theano.sandbox.cuda): ERROR: Not using GPU. Initialisation of device 1 failed:\n",
      "initCnmem: cnmemInit call failed! Reason=CNMEM_STATUS_OUT_OF_MEMORY. numdev=1\n",
      "\n",
      "WARNING (theano.sandbox.cuda): The cuda backend is deprecated and will be removed in the next release (v0.10).  Please switch to the gpuarray backend. You can get more information about how to switch at this URL:\n",
      " https://github.com/Theano/Theano/wiki/Converting-to-the-new-gpu-back-end%28gpuarray%29\n",
      "\n",
      "ERROR (theano.sandbox.cuda): ERROR: Not using GPU. Initialisation of device gpu failed:\n",
      "initCnmem: cnmemInit call failed! Reason=CNMEM_STATUS_OUT_OF_MEMORY. numdev=1\n",
      "\n"
     ]
    },
    {
     "ename": "RuntimeError",
     "evalue": "('initCnmem: cnmemInit call failed! Reason=CNMEM_STATUS_OUT_OF_MEMORY. numdev=1\\n', 'You asked to force this device and it failed. No fallback to the cpu or other gpu device.')",
     "output_type": "error",
     "traceback": [
      "\u001b[1;31m---------------------------------------------------------------------------\u001b[0m",
      "\u001b[1;31mRuntimeError\u001b[0m                              Traceback (most recent call last)",
      "\u001b[1;32m<ipython-input-1-efd629549af4>\u001b[0m in \u001b[0;36m<module>\u001b[1;34m()\u001b[0m\n\u001b[0;32m      6\u001b[0m \u001b[0mf\u001b[0m\u001b[1;33m.\u001b[0m\u001b[0mclose\u001b[0m\u001b[1;33m(\u001b[0m\u001b[1;33m)\u001b[0m\u001b[1;33m\u001b[0m\u001b[0m\n\u001b[0;32m      7\u001b[0m \u001b[1;33m\u001b[0m\u001b[0m\n\u001b[1;32m----> 8\u001b[1;33m \u001b[1;32mimport\u001b[0m \u001b[0mtheano\u001b[0m\u001b[1;33m\u001b[0m\u001b[0m\n\u001b[0m\u001b[0;32m      9\u001b[0m \u001b[0mGPU_ID\u001b[0m \u001b[1;33m=\u001b[0m \u001b[1;36m2\u001b[0m \u001b[1;31m# Switch between 0 and 1 depending on the GPU you want to use.\u001b[0m\u001b[1;33m\u001b[0m\u001b[0m\n\u001b[0;32m     10\u001b[0m \u001b[0mtheano\u001b[0m\u001b[1;33m.\u001b[0m\u001b[0mset_mode_gpu\u001b[0m\u001b[1;33m(\u001b[0m\u001b[1;33m)\u001b[0m\u001b[1;33m\u001b[0m\u001b[0m\n",
      "\u001b[1;32m/opt/anaconda/anaconda2/lib/python2.7/site-packages/theano/__init__.pyc\u001b[0m in \u001b[0;36m<module>\u001b[1;34m()\u001b[0m\n\u001b[0;32m    114\u001b[0m \u001b[1;33m\u001b[0m\u001b[0m\n\u001b[0;32m    115\u001b[0m         \u001b[1;32mif\u001b[0m \u001b[0mconfig\u001b[0m\u001b[1;33m.\u001b[0m\u001b[0menable_initial_driver_test\u001b[0m\u001b[1;33m:\u001b[0m\u001b[1;33m\u001b[0m\u001b[0m\n\u001b[1;32m--> 116\u001b[1;33m             \u001b[0mtheano\u001b[0m\u001b[1;33m.\u001b[0m\u001b[0msandbox\u001b[0m\u001b[1;33m.\u001b[0m\u001b[0mcuda\u001b[0m\u001b[1;33m.\u001b[0m\u001b[0mtests\u001b[0m\u001b[1;33m.\u001b[0m\u001b[0mtest_driver\u001b[0m\u001b[1;33m.\u001b[0m\u001b[0mtest_nvidia_driver1\u001b[0m\u001b[1;33m(\u001b[0m\u001b[1;33m)\u001b[0m\u001b[1;33m\u001b[0m\u001b[0m\n\u001b[0m\u001b[0;32m    117\u001b[0m \u001b[1;33m\u001b[0m\u001b[0m\n\u001b[0;32m    118\u001b[0m if (config.device.startswith('cuda') or\n",
      "\u001b[1;32m/opt/anaconda/anaconda2/lib/python2.7/site-packages/theano/sandbox/cuda/tests/test_driver.pyc\u001b[0m in \u001b[0;36mtest_nvidia_driver1\u001b[1;34m()\u001b[0m\n\u001b[0;32m     28\u001b[0m     \"\"\"\n\u001b[0;32m     29\u001b[0m     \u001b[0ma\u001b[0m \u001b[1;33m=\u001b[0m \u001b[0mnumpy\u001b[0m\u001b[1;33m.\u001b[0m\u001b[0mrandom\u001b[0m\u001b[1;33m.\u001b[0m\u001b[0mrand\u001b[0m\u001b[1;33m(\u001b[0m\u001b[1;36m10000\u001b[0m\u001b[1;33m)\u001b[0m\u001b[1;33m.\u001b[0m\u001b[0mastype\u001b[0m\u001b[1;33m(\u001b[0m\u001b[1;34m\"float32\"\u001b[0m\u001b[1;33m)\u001b[0m\u001b[1;33m\u001b[0m\u001b[0m\n\u001b[1;32m---> 30\u001b[1;33m     \u001b[0mA\u001b[0m \u001b[1;33m=\u001b[0m \u001b[0mcuda\u001b[0m\u001b[1;33m.\u001b[0m\u001b[0mshared_constructor\u001b[0m\u001b[1;33m(\u001b[0m\u001b[0ma\u001b[0m\u001b[1;33m)\u001b[0m\u001b[1;33m\u001b[0m\u001b[0m\n\u001b[0m\u001b[0;32m     31\u001b[0m     f = theano.function(inputs=[], outputs=A.sum(), mode=mode_with_gpu,\n\u001b[0;32m     32\u001b[0m                         profile=False)\n",
      "\u001b[1;32m/opt/anaconda/anaconda2/lib/python2.7/site-packages/theano/sandbox/cuda/var.pyc\u001b[0m in \u001b[0;36mfloat32_shared_constructor\u001b[1;34m(value, name, strict, allow_downcast, borrow, broadcastable, target)\u001b[0m\n\u001b[0;32m    164\u001b[0m                                 \u001b[0mdefault_to_move_computation_to_gpu\u001b[0m\u001b[1;33m=\u001b[0m\u001b[0mFalse\u001b[0m\u001b[1;33m,\u001b[0m\u001b[1;33m\u001b[0m\u001b[0m\n\u001b[0;32m    165\u001b[0m                                 \u001b[0mmove_shared_float32_to_gpu\u001b[0m\u001b[1;33m=\u001b[0m\u001b[0mFalse\u001b[0m\u001b[1;33m,\u001b[0m\u001b[1;33m\u001b[0m\u001b[0m\n\u001b[1;32m--> 166\u001b[1;33m                                 enable_cuda=False)\n\u001b[0m\u001b[0;32m    167\u001b[0m \u001b[1;33m\u001b[0m\u001b[0m\n\u001b[0;32m    168\u001b[0m     \u001b[1;31m# if value isn't a float32 ndarray, or a CudaNdarray then raise\u001b[0m\u001b[1;33m\u001b[0m\u001b[1;33m\u001b[0m\u001b[0m\n",
      "\u001b[1;32m/opt/anaconda/anaconda2/lib/python2.7/site-packages/theano/sandbox/cuda/__init__.pyc\u001b[0m in \u001b[0;36muse\u001b[1;34m(device, force, default_to_move_computation_to_gpu, move_shared_float32_to_gpu, enable_cuda, test_driver)\u001b[0m\n\u001b[0;32m    587\u001b[0m                 \u001b[0muse\u001b[0m\u001b[1;33m.\u001b[0m\u001b[0mdevice_number\u001b[0m \u001b[1;33m=\u001b[0m \u001b[0mactive_device_number\u001b[0m\u001b[1;33m(\u001b[0m\u001b[1;33m)\u001b[0m\u001b[1;33m\u001b[0m\u001b[0m\n\u001b[0;32m    588\u001b[0m                 \u001b[1;31m# This is needed to initialize the cublas handle.\u001b[0m\u001b[1;33m\u001b[0m\u001b[1;33m\u001b[0m\u001b[0m\n\u001b[1;32m--> 589\u001b[1;33m                 \u001b[0mgpu_init\u001b[0m\u001b[1;33m(\u001b[0m\u001b[0muse\u001b[0m\u001b[1;33m.\u001b[0m\u001b[0mdevice_number\u001b[0m\u001b[1;33m,\u001b[0m \u001b[0mconfig\u001b[0m\u001b[1;33m.\u001b[0m\u001b[0mlib\u001b[0m\u001b[1;33m.\u001b[0m\u001b[0mcnmem\u001b[0m\u001b[1;33m)\u001b[0m\u001b[1;33m\u001b[0m\u001b[0m\n\u001b[0m\u001b[0;32m    590\u001b[0m \u001b[1;33m\u001b[0m\u001b[0m\n\u001b[0;32m    591\u001b[0m             \u001b[1;32mif\u001b[0m \u001b[0mtest_driver\u001b[0m\u001b[1;33m:\u001b[0m\u001b[1;33m\u001b[0m\u001b[0m\n",
      "\u001b[1;31mRuntimeError\u001b[0m: ('initCnmem: cnmemInit call failed! Reason=CNMEM_STATUS_OUT_OF_MEMORY. numdev=1\\n', 'You asked to force this device and it failed. No fallback to the cpu or other gpu device.')"
     ]
    }
   ],
   "source": [
    "nn = 'NN'\n",
    "\n",
    "import pickle\n",
    "with open('results/' + nn + '_layer_outputs.dat', 'rb') as f:\n",
    "    layer_outs,layer_outs_test= pickle.load(f)\n",
    "f.close()\n",
    "\n",
    "# import theano\n",
    "# GPU_ID = 2 # Switch between 0 and 1 depending on the GPU you want to use.\n",
    "# theano.set_mode_gpu()\n",
    "# keras.set_device(GPU_ID)"
   ]
  },
  {
   "cell_type": "markdown",
   "metadata": {},
   "source": [
    "# Load recording and test data"
   ]
  },
  {
   "cell_type": "code",
   "execution_count": null,
   "metadata": {
    "collapsed": false
   },
   "outputs": [],
   "source": [
    "import numpy as np\n",
    "from keras.datasets import mnist\n",
    "from scipy.misc import imresize\n",
    "\n",
    "(Xtrain, Ytrain), (Xtest, Ytest) = mnist.load_data()\n",
    "\n",
    "(ntrain, xdim, ydim) = Xtrain.shape\n",
    "ntest = Xtest.shape[0]\n",
    "\n",
    "# Recording data\n",
    "X_pr = Xtrain[30000:60000, :, :]\n",
    "Y_pr = Ytrain[30000:60000]\n",
    "\n",
    "# downsample\n",
    "factor = 1\n",
    "if factor<1:\n",
    "    Xtest_down = np.ones((Xtest.shape[0], int(xdim*factor), int(ydim*factor)))\n",
    "    for i in range(Xtest.shape[0]):\n",
    "        Xtest_down[i,:,:] = imresize(Xtest[i,:,:], factor)\n",
    "\n",
    "    X_pr_down = np.ones((X_pr.shape[0], int(xdim*factor), int(ydim*factor)))\n",
    "    for i in range(X_pr.shape[0]):\n",
    "        X_pr_down[i,:,:] = imresize(X_pr[i,:,:], factor)\n",
    "else:\n",
    "    Xtest_down = Xtest\n",
    "    X_pr_down = X_pr\n",
    "    \n",
    "# VECTORIZE IMAGES\n",
    "Xtest_down = Xtest_down.reshape(ntest, int(xdim*factor)**2).astype('float32') / 255\n",
    "X_pr_down = X_pr_down.reshape(X_pr_down.shape[0], int(xdim*factor)**2).astype('float32') / 255\n"
   ]
  },
  {
   "cell_type": "markdown",
   "metadata": {},
   "source": [
    "# Run Neural Networks and average outputs"
   ]
  },
  {
   "cell_type": "code",
   "execution_count": null,
   "metadata": {
    "collapsed": false,
    "scrolled": true
   },
   "outputs": [],
   "source": [
    "from copy import copy, deepcopy\n",
    "from RE_PartialRecData2 import RE_PartialRecData2\n",
    "from sklearn import preprocessing, linear_model\n",
    "import pickle\n",
    "from keras.models import Sequential\n",
    "from keras.layers import Dense\n",
    "from keras.utils import np_utils\n",
    "from keras.models import load_model\n",
    "from keras.callbacks import EarlyStopping\n",
    "#from keras import backend as K\n",
    "import time\n",
    "\n",
    "# how many recordings?\n",
    "recordings = [3**i for i in range(4)]\n",
    "# which layers?\n",
    "layers = [0,2]\n",
    "# how many iterations\n",
    "nIterations = 5\n",
    "# noise levels\n",
    "noises = [0.20,0.50,1.00]\n",
    "\n",
    "# baseline prediction error\n",
    "#bl = np.std(layer_outs_test[oLayer]-np.mean(layer_outs_test[oLayer]));\n",
    "\n",
    "oLayer = len(layer_outs)-1  # index of output layer\n",
    "nOutNeurons = layer_outs[oLayer].shape[1]\n",
    "\n",
    "\n",
    "for iNoise in noises:\n",
    "    noise = iNoise\n",
    "    for iLayer in layers:\n",
    "        # how many neurons from the firs hidden layer?\n",
    "        subnetSize = [2**x for x in range(np.int(np.log2(layer_outs[iLayer].shape[1])+1))]\n",
    "        nSubnetSize = len(subnetSize)\n",
    "        rmses = np.zeros([nIterations, nOutNeurons, nSubnetSize, len(recordings)])\n",
    "\n",
    "        for nRec in range(len(recordings)):\n",
    "            nRecordings = recordings[nRec]\n",
    "            # how many samples per recording?\n",
    "            nSamples = np.divide(int(X_pr_down.shape[0]/nRecordings),subnetSize)*100\n",
    "\n",
    "            print('Layer #', iLayer)\n",
    "\n",
    "            for ss in range(nSubnetSize):\n",
    "                nLayerNeurons = subnetSize[ss]\n",
    "                print(subnetSize[ss]) \n",
    "\n",
    "                for it in range(nIterations):\n",
    "                    start = time.time()\n",
    "                    # copy data - is this necessary?\n",
    "                    layer_outputs = deepcopy(layer_outs)          \n",
    "                    # subsample\n",
    "                    X_subsample, Y_subsample = RE_PartialRecData2(layer_outputs[iLayer], layer_outputs[oLayer], \n",
    "                                                                  nLayerNeurons, nRecordings, nSamples[ss])\n",
    "                    \n",
    "                    # add noise (method2)\n",
    "                    X_noise = np.random.normal(0,1,X_subsample.shape)\n",
    "                    X_corrupted = X_subsample + np.multiply(X_noise,np.sqrt(np.absolute(X_subsample)))*noise\n",
    "                    Y_noise = np.random.normal(0,1,Y_subsample.shape)\n",
    "                    Y_corrupted = Y_subsample + np.multiply(Y_noise,np.sqrt(np.absolute(Y_subsample)))*noise\n",
    "\n",
    "                    # impute X_subsample with mean value, apply imputation to test set\n",
    "                    imp = preprocessing.Imputer(missing_values='NaN', strategy='mean')\n",
    "                    impf = imp.fit(X_corrupted)\n",
    "                    X_new = impf.transform(X_corrupted)\n",
    "                    X_test_new = impf.transform(layer_outs_test[iLayer])\n",
    "\n",
    "                    # fit ΝΝ\n",
    "                    model = Sequential()\n",
    "                    model.add(Dense(16, input_shape=(X_new.shape[1],), activation='relu'))\n",
    "                    model.add(Dense(16, activation='relu'))\n",
    "                    model.add(Dense(16, activation='relu'))                \n",
    "                    model.add(Dense(10, activation='softmax'))\n",
    "\n",
    "                    # Compile model\n",
    "                    model.compile(loss='mean_squared_error', optimizer='adam')\n",
    "                    callbacks = [EarlyStopping(monitor='val_loss', min_delta=0.0001, patience=2, verbose=0)]\n",
    "                    model.fit(X_new, Y_corrupted, epochs=30, batch_size=16, shuffle=True, verbose=0, \n",
    "                              validation_split=0.1, callbacks=callbacks)\n",
    "                    stop = time.time()\n",
    "                    duration = stop-start\n",
    "                    print(duration)\n",
    "                    rmses[it,:,ss,nRec] = np.sqrt(np.mean((model.predict(X_test_new) - layer_outs_test[oLayer])**2, axis=0))\n",
    "\n",
    "                print ('predicting, mean RMSEs=%f' %np.mean(rmses[it, :, ss, nRec]))\n",
    "\n",
    "\n",
    "        fName = 'results/NNMVI_RMSES_Layer' + str(iLayer) + '_multiRec_' + nn + '_Noise' + str(noise) + '.dat'\n",
    "        with open(fName,'wb') as f:\n",
    "            pickle.dump(rmses, f)\n",
    "        f.close()\n"
   ]
  },
  {
   "cell_type": "code",
   "execution_count": null,
   "metadata": {
    "collapsed": true
   },
   "outputs": [],
   "source": []
  }
 ],
 "metadata": {
  "kernelspec": {
   "display_name": "Python [Root]",
   "language": "python",
   "name": "Python [Root]"
  },
  "language_info": {
   "codemirror_mode": {
    "name": "ipython",
    "version": 2
   },
   "file_extension": ".py",
   "mimetype": "text/x-python",
   "name": "python",
   "nbconvert_exporter": "python",
   "pygments_lexer": "ipython2",
   "version": "2.7.12"
  }
 },
 "nbformat": 4,
 "nbformat_minor": 0
}

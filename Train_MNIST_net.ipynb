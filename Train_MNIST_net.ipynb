{
 "cells": [
  {
   "cell_type": "code",
   "execution_count": 57,
   "metadata": {
    "collapsed": false
   },
   "outputs": [],
   "source": [
    "import numpy as np\n",
    "from keras.models import Sequential\n",
    "from keras.layers import Dense\n",
    "from keras.utils import np_utils\n",
    "from scipy.misc import imresize\n",
    "import matplotlib.pyplot as plt\n",
    "%matplotlib inline\n",
    "\n",
    "# fix random seed for reproducibility\n",
    "np.random.seed(7)\n",
    "\n",
    "# Load MNIST dataset\n",
    "from keras.datasets import mnist\n",
    "(Xtrain, Ytrain), (Xtest, Ytest) = mnist.load_data()\n",
    "(ntrain, xdim, ydim) = Xtrain.shape\n",
    "ntest = Xtest.shape[0]"
   ]
  },
  {
   "cell_type": "code",
   "execution_count": 58,
   "metadata": {
    "collapsed": false
   },
   "outputs": [],
   "source": [
    "# # Downsample the images by factor 2\n",
    "# ratio = 1/2\n",
    "\n",
    "# Xtrain_down = np.ones((ntrain, xdim*ratio, ydim*ratio))\n",
    "# for i in range(ntrain):\n",
    "#     Xtrain_down[i, :, :] = imresize(Xtrain[i,:,:], downsample_ratio)\n",
    "\n",
    "# Xtest_down = np.ones((ntest, xdim*ratio, ydim*ratio))\n",
    "# for i in range(ntest):\n",
    "#     Xtest_down[i,:,:] = imresize(Xtest[i,:,:], downsample_ratio)\n",
    "\n",
    "# plt.imshow(Xtrain[1,:,:])\n",
    "# plt.imshow(Xtrain_down[1,:,:])"
   ]
  },
  {
   "cell_type": "code",
   "execution_count": 59,
   "metadata": {
    "collapsed": false
   },
   "outputs": [
    {
     "name": "stdout",
     "output_type": "stream",
     "text": [
      "(60000, 784)\n",
      "(60000, 10)\n"
     ]
    }
   ],
   "source": [
    "# vectorize the input images\n",
    "# Xtrain_down = Xtrain_down.reshape(ntrain, xdim*ratio**2).astype('float32') / 255\n",
    "# Xtest_down = Xtest_down.reshape(ntest, xdim*ratio**2).astype('float32') / 255\n",
    "Xtrain = Xtrain.reshape(ntrain, xdim**2).astype('float32') / 255\n",
    "Xtest = Xtest.reshape(ntest, xdim**2).astype('float32') / 255\n",
    "Ytrain = np_utils.to_categorical(Ytrain, 10)\n",
    "Ytest = np_utils.to_categorical(Ytest, 10)\n",
    "\n",
    "print(Xtrain.shape)\n",
    "print(Ytrain.shape)"
   ]
  },
  {
   "cell_type": "code",
   "execution_count": 60,
   "metadata": {
    "collapsed": false
   },
   "outputs": [
    {
     "name": "stderr",
     "output_type": "stream",
     "text": [
      "/Users/elahe/anaconda3/lib/python3.5/site-packages/keras/models.py:834: UserWarning: The `nb_epoch` argument in `fit` has been renamed `epochs`.\n",
      "  warnings.warn('The `nb_epoch` argument in `fit` '\n"
     ]
    },
    {
     "name": "stdout",
     "output_type": "stream",
     "text": [
      "Epoch 1/25\n",
      "60000/60000 [==============================] - 18s - loss: 0.2290 - acc: 0.9314    \n",
      "Epoch 2/25\n",
      "60000/60000 [==============================] - 25s - loss: 0.1054 - acc: 0.9675    \n",
      "Epoch 3/25\n",
      "60000/60000 [==============================] - 21s - loss: 0.0777 - acc: 0.9764    \n",
      "Epoch 4/25\n",
      "60000/60000 [==============================] - 20s - loss: 0.0619 - acc: 0.9807    \n",
      "Epoch 5/25\n",
      "60000/60000 [==============================] - 24s - loss: 0.0519 - acc: 0.9830    \n",
      "Epoch 6/25\n",
      "60000/60000 [==============================] - 35s - loss: 0.0432 - acc: 0.9865    \n",
      "Epoch 7/25\n",
      "60000/60000 [==============================] - 23s - loss: 0.0372 - acc: 0.9884    \n",
      "Epoch 8/25\n",
      "60000/60000 [==============================] - 19s - loss: 0.0344 - acc: 0.9893    \n",
      "Epoch 9/25\n",
      "60000/60000 [==============================] - 19s - loss: 0.0318 - acc: 0.9898    \n",
      "Epoch 10/25\n",
      "60000/60000 [==============================] - 17s - loss: 0.0274 - acc: 0.9915    \n",
      "Epoch 11/25\n",
      "60000/60000 [==============================] - 17s - loss: 0.0269 - acc: 0.9914    \n",
      "Epoch 12/25\n",
      "60000/60000 [==============================] - 19s - loss: 0.0248 - acc: 0.9926    \n",
      "Epoch 13/25\n",
      "60000/60000 [==============================] - 21s - loss: 0.0269 - acc: 0.9919    \n",
      "Epoch 14/25\n",
      "60000/60000 [==============================] - 19s - loss: 0.0226 - acc: 0.9926    \n",
      "Epoch 15/25\n",
      "60000/60000 [==============================] - 21s - loss: 0.0194 - acc: 0.9943    \n",
      "Epoch 16/25\n",
      "60000/60000 [==============================] - 19s - loss: 0.0190 - acc: 0.9944    \n",
      "Epoch 17/25\n",
      "60000/60000 [==============================] - 19s - loss: 0.0193 - acc: 0.9946    \n",
      "Epoch 18/25\n",
      "60000/60000 [==============================] - 18s - loss: 0.0183 - acc: 0.9949    \n",
      "Epoch 19/25\n",
      "60000/60000 [==============================] - 18s - loss: 0.0191 - acc: 0.9943    \n",
      "Epoch 20/25\n",
      "60000/60000 [==============================] - 17s - loss: 0.0158 - acc: 0.9954    \n",
      "Epoch 21/25\n",
      "60000/60000 [==============================] - 17s - loss: 0.0169 - acc: 0.9954    \n",
      "Epoch 22/25\n",
      "60000/60000 [==============================] - 17s - loss: 0.0175 - acc: 0.9950    \n",
      "Epoch 23/25\n",
      "60000/60000 [==============================] - 17s - loss: 0.0159 - acc: 0.9962    \n",
      "Epoch 24/25\n",
      "60000/60000 [==============================] - 17s - loss: 0.0134 - acc: 0.9961    \n",
      "Epoch 25/25\n",
      "60000/60000 [==============================] - 18s - loss: 0.0192 - acc: 0.9951    \n",
      "\n",
      "acc: 97.79%\n"
     ]
    }
   ],
   "source": [
    "##### TRAIN A FULLY-CONNECTED NN WITH TWO HIDDEN LAYERS\n",
    "\n",
    "# create model\n",
    "model = Sequential()\n",
    "model.add(Dense(100, input_shape=(xdim**2,), activation='relu'))\n",
    "model.add(Dense(100, activation='relu'))\n",
    "model.add(Dense(100, activation='relu'))\n",
    "model.add(Dense(10, activation='softmax'))\n",
    "\n",
    "# Compile model\n",
    "model.compile(loss='categorical_crossentropy', optimizer='adam', metrics=['accuracy'])\n",
    "\n",
    "# Fit the model\n",
    "model.fit(Xtrain, Ytrain, nb_epoch=25, batch_size=16)\n",
    "\n",
    "# evaluate the model\n",
    "scores = model.evaluate(Xtest, Ytest, verbose=0)\n",
    "print(\"\\n%s: %.2f%%\" % (model.metrics_names[1], scores[1]*100))\n",
    "\n",
    "# # calculate predictions\n",
    "# predictions = model.predict(Xtest)\n",
    "# # round predictions\n",
    "# rounded = [round(x[0]) for x in predictions]\n",
    "# print(rounded)"
   ]
  },
  {
   "cell_type": "code",
   "execution_count": 61,
   "metadata": {
    "collapsed": false
   },
   "outputs": [],
   "source": [
    "# from PIL import Image\n",
    "# from resizeimage import resizeimage\n",
    "\n",
    "# img = Xtrain[1,:,:]\n",
    "# new_img = resizeimage.resize_width(img, 7)\n",
    "# plt.imshow(new_img)\n"
   ]
  }
 ],
 "metadata": {
  "anaconda-cloud": {},
  "kernelspec": {
   "display_name": "Python [default]",
   "language": "python",
   "name": "python3"
  },
  "language_info": {
   "codemirror_mode": {
    "name": "ipython",
    "version": 3
   },
   "file_extension": ".py",
   "mimetype": "text/x-python",
   "name": "python",
   "nbconvert_exporter": "python",
   "pygments_lexer": "ipython3",
   "version": "3.5.2"
  }
 },
 "nbformat": 4,
 "nbformat_minor": 1
}

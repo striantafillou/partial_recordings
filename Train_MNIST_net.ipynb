{
 "cells": [
  {
   "cell_type": "code",
   "execution_count": 12,
   "metadata": {
    "collapsed": false
   },
   "outputs": [],
   "source": [
    "import numpy as np\n",
    "from keras.models import Sequential\n",
    "from keras.layers import Dense\n",
    "from keras.utils import np_utils\n",
    "from scipy.misc import imresize\n",
    "import matplotlib.pyplot as plt\n",
    "%matplotlib inline\n",
    "\n",
    "# fix random seed for reproducibility\n",
    "np.random.seed(7)\n",
    "\n",
    "# Load MNIST dataset\n",
    "from keras.datasets import mnist\n",
    "(Xtrain, Ytrain), (Xtest, Ytest) = mnist.load_data()\n",
    "\n",
    "(ntrain, xdim, ydim) = Xtrain.shape\n",
    "ntest = Xtest.shape[0]\n",
    "\n",
    "# split train data in two\n",
    "X_pr = Xtrain[30001:60000, :, :]\n",
    "Y_pr = Ytrain[30001:60000]\n",
    "\n",
    "Xtrain = Xtrain[0:30000, :, :];\n",
    "Ytrain = Ytrain[0:30000]\n"
   ]
  },
  {
   "cell_type": "code",
   "execution_count": 13,
   "metadata": {
    "collapsed": false
   },
   "outputs": [],
   "source": [
    "# *** DOWNSAMPLE THE IMAGES ***\n",
    "factor = 0.25\n",
    "\n",
    "Xtrain_down = np.ones((Xtrain.shape[0], int(xdim*factor), int(ydim*factor)))\n",
    "for i in range(Xtrain.shape[0]):\n",
    "    Xtrain_down[i, :, :] = imresize(Xtrain[i,:,:], factor)\n",
    "\n",
    "Xtest_down = np.ones((Xtest.shape[0], int(xdim*factor), int(ydim*factor)))\n",
    "for i in range(Xtest.shape[0]):\n",
    "    Xtest_down[i,:,:] = imresize(Xtest[i,:,:], factor)\n",
    "\n",
    "    \n",
    "X_pr_down = np.ones((X_pr.shape[0], int(xdim*factor), int(ydim*factor)))\n",
    "for i in range(X_pr.shape[0]):\n",
    "    X_pr_down[i,:,:] = imresize(X_pr[i,:,:], factor)"
   ]
  },
  {
   "cell_type": "code",
   "execution_count": 4,
   "metadata": {
    "collapsed": false
   },
   "outputs": [],
   "source": [
    "# *** VECTORIZE IMAGES ***\n",
    "Xtrain_down = Xtrain_down.reshape(ntrain, int(xdim*factor)**2).astype('float32') / 255\n",
    "Xtest_down = Xtest_down.reshape(ntest, int(xdim*factor)**2).astype('float32') / 255\n",
    "Xtrain = Xtrain.reshape(ntrain, xdim**2).astype('float32') / 255\n",
    "Xtest = Xtest.reshape(ntest, xdim**2).astype('float32') / 255\n",
    "# Categorical labels\n",
    "Ytrain = np_utils.to_categorical(Ytrain, 10)\n",
    "Ytest = np_utils.to_categorical(Ytest, 10)\n"
   ]
  },
  {
   "cell_type": "code",
   "execution_count": 5,
   "metadata": {
    "collapsed": false
   },
   "outputs": [
    {
     "data": {
      "image/png": "[encoded data removed]",
      "text/plain": [
       "<matplotlib.figure.Figure at 0x7f3a23f81910>"
      ]
     },
     "metadata": {},
     "output_type": "display_data"
    }
   ],
   "source": [
    "# *** VISUALIZATION 20 RANDOM TRAINING SAMPLES ***\n",
    "# Create 20 subplots\n",
    "fig, axes = plt.subplots(2, 10, figsize=(10, 2))\n",
    "\n",
    "for i in range(2):\n",
    "    for j in range(10):\n",
    "        axes[i][j].imshow(Xtrain_down[np.random.randint(0, 6000),:].reshape(int(xdim*factor), \n",
    "                          int(ydim*factor)), cmap='gray_r', interpolation='nearest')\n",
    "        axes[i][j].set_xticks([])\n",
    "        axes[i][j].set_yticks([])\n",
    "        "
   ]
  },
  {
   "cell_type": "code",
   "execution_count": null,
   "metadata": {
    "collapsed": false
   },
   "outputs": [],
   "source": [
    "# # *** LDA ***\n",
    "# from sklearn.discriminant_analysis import LinearDiscriminantAnalysis\n",
    "\n",
    "# # Original images\n",
    "# clf = LinearDiscriminantAnalysis()\n",
    "# clf.fit(Xtrain, Ytrain)\n",
    "# LinearDiscriminantAnalysis(n_components=9, priors=None, shrinkage=None,\n",
    "#               solver='svd', store_covariance=False, tol=0.0001)\n",
    "\n",
    "# # Returns the mean accuracy on the given test data and labels.\n",
    "# score = clf.score(Xtest, Ytest, sample_weight=None)\n",
    "# print(score)\n",
    "\n",
    "# # Down-sampled images\n",
    "# clf = LinearDiscriminantAnalysis()\n",
    "# clf.fit(Xtrain_down, Ytrain)\n",
    "# LinearDiscriminantAnalysis(n_components=9, priors=None, shrinkage=None,\n",
    "#               solver='svd', store_covariance=False, tol=0.0001)\n",
    "\n",
    "# # Returns the mean accuracy on the given test data and labels.\n",
    "# score = clf.score(Xtest_down, Ytest, sample_weight=None)\n",
    "# print(score)\n",
    "# # print(clf.predict(Xtest))\n"
   ]
  },
  {
   "cell_type": "code",
   "execution_count": 6,
   "metadata": {
    "collapsed": false
   },
   "outputs": [
    {
     "name": "stdout",
     "output_type": "stream",
     "text": [
      "Epoch 1/50\n",
      "60000/60000 [==============================] - 7s - loss: 0.3334 - acc: 0.8981     \n",
      "Epoch 2/50\n",
      "60000/60000 [==============================] - 7s - loss: 0.1678 - acc: 0.9469     \n",
      "Epoch 3/50\n",
      "60000/60000 [==============================] - 7s - loss: 0.1371 - acc: 0.9560     \n",
      "Epoch 4/50\n",
      "60000/60000 [==============================] - 6s - loss: 0.1184 - acc: 0.9624     \n",
      "Epoch 5/50\n",
      "60000/60000 [==============================] - 7s - loss: 0.1055 - acc: 0.9661     \n",
      "Epoch 6/50\n",
      "60000/60000 [==============================] - 7s - loss: 0.0972 - acc: 0.9683     \n",
      "Epoch 7/50\n",
      "60000/60000 [==============================] - 7s - loss: 0.0892 - acc: 0.9709     \n",
      "Epoch 8/50\n",
      "60000/60000 [==============================] - 7s - loss: 0.0816 - acc: 0.9725     \n",
      "Epoch 9/50\n",
      "60000/60000 [==============================] - 7s - loss: 0.0762 - acc: 0.9749     \n",
      "Epoch 10/50\n",
      "60000/60000 [==============================] - 7s - loss: 0.0721 - acc: 0.9758     \n",
      "Epoch 11/50\n",
      "60000/60000 [==============================] - 7s - loss: 0.0667 - acc: 0.9774     \n",
      "Epoch 12/50\n",
      "60000/60000 [==============================] - 7s - loss: 0.0622 - acc: 0.9794     \n",
      "Epoch 13/50\n",
      "60000/60000 [==============================] - 7s - loss: 0.0585 - acc: 0.9801     \n",
      "Epoch 14/50\n",
      "60000/60000 [==============================] - 7s - loss: 0.0575 - acc: 0.9801     \n",
      "Epoch 15/50\n",
      "60000/60000 [==============================] - 7s - loss: 0.0526 - acc: 0.9826     \n",
      "Epoch 16/50\n",
      "60000/60000 [==============================] - 7s - loss: 0.0512 - acc: 0.9826     \n",
      "Epoch 17/50\n",
      "60000/60000 [==============================] - 7s - loss: 0.0482 - acc: 0.9834     \n",
      "Epoch 18/50\n",
      "60000/60000 [==============================] - 7s - loss: 0.0458 - acc: 0.9842     \n",
      "Epoch 19/50\n",
      "60000/60000 [==============================] - 7s - loss: 0.0432 - acc: 0.9849     \n",
      "Epoch 20/50\n",
      "60000/60000 [==============================] - 7s - loss: 0.0421 - acc: 0.9855     \n",
      "Epoch 21/50\n",
      "60000/60000 [==============================] - 7s - loss: 0.0402 - acc: 0.9862     \n",
      "Epoch 22/50\n",
      "60000/60000 [==============================] - 7s - loss: 0.0382 - acc: 0.9862     \n",
      "Epoch 23/50\n",
      "60000/60000 [==============================] - 7s - loss: 0.0360 - acc: 0.9875     \n",
      "Epoch 24/50\n",
      "60000/60000 [==============================] - 7s - loss: 0.0368 - acc: 0.9871     \n",
      "Epoch 25/50\n",
      "60000/60000 [==============================] - 7s - loss: 0.0344 - acc: 0.9879     \n",
      "Epoch 26/50\n",
      "60000/60000 [==============================] - 7s - loss: 0.0334 - acc: 0.9882     \n",
      "Epoch 27/50\n",
      "60000/60000 [==============================] - 7s - loss: 0.0314 - acc: 0.9889     \n",
      "Epoch 28/50\n",
      "60000/60000 [==============================] - 7s - loss: 0.0308 - acc: 0.9893     \n",
      "Epoch 29/50\n",
      "60000/60000 [==============================] - 7s - loss: 0.0302 - acc: 0.9893     \n",
      "Epoch 30/50\n",
      "60000/60000 [==============================] - 7s - loss: 0.0287 - acc: 0.9903     \n",
      "Epoch 31/50\n",
      "60000/60000 [==============================] - 7s - loss: 0.0280 - acc: 0.9898     \n",
      "Epoch 32/50\n",
      "60000/60000 [==============================] - 7s - loss: 0.0272 - acc: 0.9904     \n",
      "Epoch 33/50\n",
      "60000/60000 [==============================] - 7s - loss: 0.0259 - acc: 0.9907     \n",
      "Epoch 34/50\n",
      "60000/60000 [==============================] - 7s - loss: 0.0262 - acc: 0.9908     \n",
      "Epoch 35/50\n",
      "60000/60000 [==============================] - 7s - loss: 0.0237 - acc: 0.9917     \n",
      "Epoch 36/50\n",
      "60000/60000 [==============================] - 7s - loss: 0.0245 - acc: 0.9918     \n",
      "Epoch 37/50\n",
      "60000/60000 [==============================] - 7s - loss: 0.0255 - acc: 0.9914     \n",
      "Epoch 38/50\n",
      "60000/60000 [==============================] - 7s - loss: 0.0247 - acc: 0.9914     \n",
      "Epoch 39/50\n",
      "60000/60000 [==============================] - 7s - loss: 0.0215 - acc: 0.9921     \n",
      "Epoch 40/50\n",
      "60000/60000 [==============================] - 7s - loss: 0.0240 - acc: 0.9917     \n",
      "Epoch 41/50\n",
      "60000/60000 [==============================] - 7s - loss: 0.0211 - acc: 0.9929     \n",
      "Epoch 42/50\n",
      "60000/60000 [==============================] - 7s - loss: 0.0202 - acc: 0.9929     \n",
      "Epoch 43/50\n",
      "60000/60000 [==============================] - 6s - loss: 0.0218 - acc: 0.9921     \n",
      "Epoch 44/50\n",
      "60000/60000 [==============================] - 7s - loss: 0.0210 - acc: 0.9931     \n",
      "Epoch 45/50\n",
      "60000/60000 [==============================] - 8s - loss: 0.0208 - acc: 0.9929     \n",
      "Epoch 46/50\n",
      "60000/60000 [==============================] - 7s - loss: 0.0217 - acc: 0.9928     \n",
      "Epoch 47/50\n",
      "60000/60000 [==============================] - 7s - loss: 0.0191 - acc: 0.9935     \n",
      "Epoch 48/50\n",
      "60000/60000 [==============================] - 7s - loss: 0.0183 - acc: 0.9940     \n",
      "Epoch 49/50\n",
      "60000/60000 [==============================] - 7s - loss: 0.0188 - acc: 0.9932     \n",
      "Epoch 50/50\n",
      "60000/60000 [==============================] - 7s - loss: 0.0183 - acc: 0.9940     \n",
      "\n",
      "acc: 97.56%\n"
     ]
    }
   ],
   "source": [
    "# *** TRAIN A FULLY-CONNECTED NN WITH TWO HIDDEN LAYERS ***\n",
    "# create model\n",
    "model = Sequential()\n",
    "model.add(Dense(100, input_shape=(int(xdim*factor)**2,), activation='relu'))\n",
    "model.add(Dense(100, activation='relu'))\n",
    "model.add(Dense(100, activation='relu'))\n",
    "model.add(Dense(10, activation='softmax'))\n",
    "\n",
    "# Compile model\n",
    "model.compile(loss='categorical_crossentropy', optimizer='adam', metrics=['accuracy'])\n",
    "# model.compile(loss='sparse_categorical_crossentropy', optimizer='adam', metrics=['accuracy'])\n",
    "\n",
    "# Fit the model\n",
    "model.fit(Xtrain_down, Ytrain, nb_epoch=50, batch_size=16)\n",
    "\n",
    "# evaluate the model\n",
    "scores = model.evaluate(Xtest_down, Ytest, verbose=0)\n",
    "print(\"\\n%s: %.2f%%\" % (model.metrics_names[1], scores[1]*100))\n",
    "\n",
    "# # calculate predictions\n",
    "# Ypredict = model.predict(Xtest)\n",
    "# # round predictions\n",
    "# rounded = [round(x[0]) for x in Ypredict]\n",
    "# print(rounded)\n"
   ]
  },
  {
   "cell_type": "code",
   "execution_count": 10,
   "metadata": {
    "collapsed": false
   },
   "outputs": [],
   "source": [
    "from keras.models import load_model\n",
    "\n",
    "model.save('nn.h5')"
   ]
  },
  {
   "cell_type": "code",
   "execution_count": null,
   "metadata": {
    "collapsed": false
   },
   "outputs": [],
   "source": [
    "# GET THE OUTPUT OF EACH LAYER AFTER TRAINING\n",
    "from keras import backend as K\n",
    "\n",
    "inp = model.input                                           # input placeholder\n",
    "outputs = [layer.output for layer in model.layers]          # all layer outputs\n",
    "#functors = [K.function([inp], [out]) for out in outputs]    # evaluation functions\n",
    "functor = K.function([inp]+ [K.learning_phase()], outputs ) # evaluation function\n",
    "\n",
    "# Testing\n",
    "layer_outs = functor([Xtest_down, 1.])\n",
    "print(layer_outs)"
   ]
  },
  {
   "cell_type": "code",
   "execution_count": null,
   "metadata": {
    "collapsed": true
   },
   "outputs": [],
   "source": []
  }
 ],
 "metadata": {
  "anaconda-cloud": {},
  "kernelspec": {
   "display_name": "Python [Root]",
   "language": "python",
   "name": "Python [Root]"
  },
  "language_info": {
   "codemirror_mode": {
    "name": "ipython",
    "version": 2
   },
   "file_extension": ".py",
   "mimetype": "text/x-python",
   "name": "python",
   "nbconvert_exporter": "python",
   "pygments_lexer": "ipython2",
   "version": "2.7.12"
  }
 },
 "nbformat": 4,
 "nbformat_minor": 1
}

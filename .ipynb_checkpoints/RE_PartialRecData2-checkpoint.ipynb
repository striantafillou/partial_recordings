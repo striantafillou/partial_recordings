{
 "cells": [
  {
   "cell_type": "code",
   "execution_count": 1,
   "metadata": {
    "collapsed": false
   },
   "outputs": [],
   "source": [
    "def RE_PartialRecData2(hLayerOuts, oLayerOuts, nLayerNeurons, nRecordings, nSamples):\n",
    "    import numpy as np\n",
    "    # returns a data set where, nLayerNeurons are recorded from a hidden layer, for each of nRecordings.\n",
    "    # Each partial recording has nSamples.\n",
    "    layerArray = np.zeros((nRecordings, nLayerNeurons), dtype=int)\n",
    "    for iRec in range(nRecordings):\n",
    "        layerArray[iRec, :]= np.sort(np.random.choice(range(hLayerOuts.shape[1]), size=nLayerNeurons, replace=False))      \n",
    "\n",
    "    #print(layerArray)\n",
    "    X = np.nan*np.zeros((nRecordings*nSamples, hLayerOuts.shape[1]))\n",
    "    Y = np.nan*np.zeros((nRecordings*nSamples, oLayerOuts.shape[1]))\n",
    "\n",
    "    # get the data\n",
    "    sample_ind=0\n",
    "    for iRec in range(nRecordings):\n",
    "        rec_inds = np.random.choice(range(hLayerOuts.shape[0]), size=nSamples, replace=True)\n",
    "        #print(rec_inds)\n",
    "        cols = layerArray[iRec, :]\n",
    "        cols = cols[:, None]\n",
    "        inds = np.array(range(sample_ind,((iRec+1)*nSamples)), dtype=int)\n",
    "        X[inds, cols] = hLayerOuts[rec_inds, cols]\n",
    "        Y[inds, :] = oLayerOuts[rec_inds, :]\n",
    "        sample_ind = sample_ind + nSamples\n",
    "    return X, Y;"
   ]
  }
 ],
 "metadata": {
  "kernelspec": {
   "display_name": "Python [Root]",
   "language": "python",
   "name": "Python [Root]"
  },
  "language_info": {
   "codemirror_mode": {
    "name": "ipython",
    "version": 2
   },
   "file_extension": ".py",
   "mimetype": "text/x-python",
   "name": "python",
   "nbconvert_exporter": "python",
   "pygments_lexer": "ipython2",
   "version": "2.7.12"
  }
 },
 "nbformat": 4,
 "nbformat_minor": 0
}

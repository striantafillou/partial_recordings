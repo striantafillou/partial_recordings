{
 "cells": [
  {
   "cell_type": "code",
   "execution_count": 1,
   "metadata": {
    "collapsed": false
   },
   "outputs": [
    {
     "name": "stderr",
     "output_type": "stream",
     "text": [
      "Using TensorFlow backend.\n"
     ]
    }
   ],
   "source": [
    "import numpy as np\n",
    "from keras.models import Sequential\n",
    "from keras.layers import Dense\n",
    "from keras.utils import np_utils\n",
    "from scipy.misc import imresize\n",
    "import matplotlib.pyplot as plt\n",
    "%matplotlib inline\n",
    "\n",
    "# fix random seed for reproducibility\n",
    "np.random.seed(7)\n",
    "\n",
    "# Load MNIST dataset\n",
    "from keras.datasets import mnist\n",
    "(Xtrain, Ytrain), (Xtest, Ytest) = mnist.load_data()\n",
    "\n",
    "(ntrain, xdim, ydim) = Xtrain.shape\n",
    "ntest = Xtest.shape[0]\n",
    "\n",
    "# split train data in two\n",
    "X_pr = Xtrain[30000:60000, :, :]\n",
    "Y_pr = Ytrain[30000:60000]\n",
    "\n",
    "Xtrain = Xtrain[0:30000, :, :];\n",
    "Ytrain = Ytrain[0:30000]\n"
   ]
  },
  {
   "cell_type": "code",
   "execution_count": 3,
   "metadata": {
    "collapsed": false
   },
   "outputs": [],
   "source": [
    "# *** DOWNSAMPLE THE IMAGES ***\n",
    "factor = 0.25\n",
    "\n",
    "Xtrain_down = np.ones((Xtrain.shape[0], int(xdim*factor), int(ydim*factor)))\n",
    "for i in range(Xtrain.shape[0]):\n",
    "    Xtrain_down[i, :, :] = imresize(Xtrain[i,:,:], factor)\n",
    "\n",
    "Xtest_down = np.ones((Xtest.shape[0], int(xdim*factor), int(ydim*factor)))\n",
    "for i in range(Xtest.shape[0]):\n",
    "    Xtest_down[i,:,:] = imresize(Xtest[i,:,:], factor)\n",
    "\n",
    "    \n",
    "X_pr_down = np.ones((X_pr.shape[0], int(xdim*factor), int(ydim*factor)))\n",
    "for i in range(X_pr.shape[0]):\n",
    "    X_pr_down[i,:,:] = imresize(X_pr[i,:,:], factor)"
   ]
  },
  {
   "cell_type": "code",
   "execution_count": 13,
   "metadata": {
    "collapsed": false
   },
   "outputs": [],
   "source": [
    "# *** VECTORIZE IMAGES ***\n",
    "Xtrain_down = Xtrain_down.reshape(Xtrain.shape[0], int(xdim*factor)**2).astype('float32') / 255\n",
    "Xtest_down  = Xtest_down.reshape(ntest, int(xdim*factor)**2).astype('float32') / 255\n",
    "X_pr_down   = X_pr_down.reshape(X_pr.shape[0], int(xdim*factor)**2).astype('float32') / 255\n",
    "Xtrain      = Xtrain.reshape(Xtrain.shape[0], xdim**2).astype('float32') / 255\n",
    "Xtest       = Xtest.reshape(ntest, xdim**2).astype('float32') / 255\n",
    "# Categorical labels\n",
    "Ytrain = np_utils.to_categorical(Ytrain, 10)\n",
    "Ytest = np_utils.to_categorical(Ytest, 10)\n"
   ]
  },
  {
   "cell_type": "code",
   "execution_count": 7,
   "metadata": {
    "collapsed": false
   },
   "outputs": [
    {
     "data": {
      "image/png": "[encoded data removed]",
      "text/plain": [
       "<matplotlib.figure.Figure at 0x13483d390>"
      ]
     },
     "metadata": {},
     "output_type": "display_data"
    }
   ],
   "source": [
    "# *** VISUALIZATION 20 RANDOM TRAINING SAMPLES ***\n",
    "# Create 20 subplots\n",
    "fig, axes = plt.subplots(2, 10, figsize=(10, 2))\n",
    "\n",
    "for i in range(2):\n",
    "    for j in range(10):\n",
    "        axes[i][j].imshow(Xtrain_down[np.random.randint(0, 3000),:].reshape(int(xdim*factor), \n",
    "                          int(ydim*factor)), cmap='gray_r', interpolation='nearest')\n",
    "        axes[i][j].set_xticks([])\n",
    "        axes[i][j].set_yticks([])\n",
    "        "
   ]
  },
  {
   "cell_type": "code",
   "execution_count": 8,
   "metadata": {
    "collapsed": false
   },
   "outputs": [
    {
     "data": {
      "text/plain": [
       "(30000, 49)"
      ]
     },
     "execution_count": 8,
     "metadata": {},
     "output_type": "execute_result"
    }
   ],
   "source": [
    "# # *** LDA ***\n",
    "# from sklearn.discriminant_analysis import LinearDiscriminantAnalysis\n",
    "\n",
    "# # Original images\n",
    "# clf = LinearDiscriminantAnalysis()\n",
    "# clf.fit(Xtrain, Ytrain)\n",
    "# LinearDiscriminantAnalysis(n_components=9, priors=None, shrinkage=None,\n",
    "#               solver='svd', store_covariance=False, tol=0.0001)\n",
    "\n",
    "# # Returns the mean accuracy on the given test data and labels.\n",
    "# score = clf.score(Xtest, Ytest, sample_weight=None)\n",
    "# print(score)\n",
    "\n",
    "# # Down-sampled images\n",
    "# clf = LinearDiscriminantAnalysis()\n",
    "# clf.fit(Xtrain_down, Ytrain)\n",
    "# LinearDiscriminantAnalysis(n_components=9, priors=None, shrinkage=None,\n",
    "#               solver='svd', store_covariance=False, tol=0.0001)\n",
    "\n",
    "# # Returns the mean accuracy on the given test data and labels.\n",
    "# score = clf.score(Xtest_down, Ytest, sample_weight=None)\n",
    "# print(score)\n",
    "# # print(clf.predict(Xtest))\n"
   ]
  },
  {
   "cell_type": "code",
   "execution_count": 9,
   "metadata": {
    "collapsed": false
   },
   "outputs": [
    {
     "name": "stderr",
     "output_type": "stream",
     "text": [
      "/Users/elahe/anaconda3/lib/python3.5/site-packages/keras/models.py:834: UserWarning: The `nb_epoch` argument in `fit` has been renamed `epochs`.\n",
      "  warnings.warn('The `nb_epoch` argument in `fit` '\n"
     ]
    },
    {
     "name": "stdout",
     "output_type": "stream",
     "text": [
      "Epoch 1/50\n",
      "30000/30000 [==============================] - 8s - loss: 1.8931 - acc: 0.2582     \n",
      "Epoch 2/50\n",
      "30000/30000 [==============================] - 7s - loss: 1.6495 - acc: 0.3505     \n",
      "Epoch 3/50\n",
      "30000/30000 [==============================] - 7s - loss: 1.6003 - acc: 0.3724     \n",
      "Epoch 4/50\n",
      "30000/30000 [==============================] - 8s - loss: 1.5600 - acc: 0.3846     \n",
      "Epoch 5/50\n",
      "30000/30000 [==============================] - 8s - loss: 1.4522 - acc: 0.4308     \n",
      "Epoch 6/50\n",
      "30000/30000 [==============================] - 8s - loss: 1.2546 - acc: 0.5220     \n",
      "Epoch 7/50\n",
      "30000/30000 [==============================] - 8s - loss: 1.0957 - acc: 0.5935     \n",
      "Epoch 8/50\n",
      "30000/30000 [==============================] - 7s - loss: 0.9205 - acc: 0.6717     \n",
      "Epoch 9/50\n",
      "30000/30000 [==============================] - 7s - loss: 0.7945 - acc: 0.7305     \n",
      "Epoch 10/50\n",
      "30000/30000 [==============================] - 8s - loss: 0.7220 - acc: 0.7606     \n",
      "Epoch 11/50\n",
      "30000/30000 [==============================] - 7s - loss: 0.6644 - acc: 0.7834     \n",
      "Epoch 12/50\n",
      "30000/30000 [==============================] - 8s - loss: 0.5914 - acc: 0.8104     \n",
      "Epoch 13/50\n",
      "30000/30000 [==============================] - 7s - loss: 0.5527 - acc: 0.8243     \n",
      "Epoch 14/50\n",
      "30000/30000 [==============================] - 7s - loss: 0.5275 - acc: 0.8328     \n",
      "Epoch 15/50\n",
      "30000/30000 [==============================] - 7s - loss: 0.5018 - acc: 0.8432     \n",
      "Epoch 16/50\n",
      "30000/30000 [==============================] - 7s - loss: 0.4800 - acc: 0.8483     \n",
      "Epoch 17/50\n",
      "30000/30000 [==============================] - 7s - loss: 0.4593 - acc: 0.8579     \n",
      "Epoch 18/50\n",
      "30000/30000 [==============================] - 7s - loss: 0.4446 - acc: 0.8581     \n",
      "Epoch 19/50\n",
      "30000/30000 [==============================] - 8s - loss: 0.4296 - acc: 0.8655     \n",
      "Epoch 20/50\n",
      "30000/30000 [==============================] - 8s - loss: 0.4200 - acc: 0.8676     \n",
      "Epoch 21/50\n",
      "30000/30000 [==============================] - 8s - loss: 0.4045 - acc: 0.8733     \n",
      "Epoch 22/50\n",
      "30000/30000 [==============================] - 8s - loss: 0.3959 - acc: 0.8764     \n",
      "Epoch 23/50\n",
      "30000/30000 [==============================] - 7s - loss: 0.3884 - acc: 0.8784     \n",
      "Epoch 24/50\n",
      "30000/30000 [==============================] - 8s - loss: 0.3784 - acc: 0.8810     \n",
      "Epoch 25/50\n",
      "30000/30000 [==============================] - 8s - loss: 0.3702 - acc: 0.8830     \n",
      "Epoch 26/50\n",
      "30000/30000 [==============================] - 8s - loss: 0.3609 - acc: 0.8849     \n",
      "Epoch 27/50\n",
      "30000/30000 [==============================] - 7s - loss: 0.3505 - acc: 0.8895     \n",
      "Epoch 28/50\n",
      "30000/30000 [==============================] - 7s - loss: 0.3453 - acc: 0.8914     \n",
      "Epoch 29/50\n",
      "30000/30000 [==============================] - 11s - loss: 0.3358 - acc: 0.8937    \n",
      "Epoch 30/50\n",
      "30000/30000 [==============================] - 9s - loss: 0.3245 - acc: 0.8980     \n",
      "Epoch 31/50\n",
      "30000/30000 [==============================] - 8s - loss: 0.3238 - acc: 0.8966     \n",
      "Epoch 32/50\n",
      "30000/30000 [==============================] - 9s - loss: 0.3164 - acc: 0.8981     \n",
      "Epoch 33/50\n",
      "30000/30000 [==============================] - 7s - loss: 0.3093 - acc: 0.9013     \n",
      "Epoch 34/50\n",
      "30000/30000 [==============================] - 7s - loss: 0.3071 - acc: 0.9037     \n",
      "Epoch 35/50\n",
      "30000/30000 [==============================] - 7s - loss: 0.2987 - acc: 0.9041     \n",
      "Epoch 36/50\n",
      "30000/30000 [==============================] - 8s - loss: 0.2914 - acc: 0.9074     \n",
      "Epoch 37/50\n",
      "30000/30000 [==============================] - 7s - loss: 0.2833 - acc: 0.9079     \n",
      "Epoch 38/50\n",
      "30000/30000 [==============================] - 8s - loss: 0.2855 - acc: 0.9095     \n",
      "Epoch 39/50\n",
      "30000/30000 [==============================] - 7s - loss: 0.2755 - acc: 0.9124     \n",
      "Epoch 40/50\n",
      "30000/30000 [==============================] - 8s - loss: 0.2752 - acc: 0.9116     \n",
      "Epoch 41/50\n",
      "30000/30000 [==============================] - 7s - loss: 0.2686 - acc: 0.9149     \n",
      "Epoch 42/50\n",
      "30000/30000 [==============================] - 7s - loss: 0.2657 - acc: 0.9152     \n",
      "Epoch 43/50\n",
      "30000/30000 [==============================] - 8s - loss: 0.2625 - acc: 0.9159     \n",
      "Epoch 44/50\n",
      "30000/30000 [==============================] - 7s - loss: 0.2570 - acc: 0.9181     \n",
      "Epoch 45/50\n",
      "30000/30000 [==============================] - 8s - loss: 0.2560 - acc: 0.9174     \n",
      "Epoch 46/50\n",
      "30000/30000 [==============================] - 8s - loss: 0.2513 - acc: 0.9190     \n",
      "Epoch 47/50\n",
      "30000/30000 [==============================] - 7s - loss: 0.2458 - acc: 0.9202     \n",
      "Epoch 48/50\n",
      "30000/30000 [==============================] - 7s - loss: 0.2449 - acc: 0.9205     \n",
      "Epoch 49/50\n",
      "30000/30000 [==============================] - 7s - loss: 0.2431 - acc: 0.9216     \n",
      "Epoch 50/50\n",
      "30000/30000 [==============================] - 7s - loss: 0.2394 - acc: 0.9243     \n",
      "\n",
      "acc: 92.35%\n"
     ]
    }
   ],
   "source": [
    "# *** TRAIN A FULLY-CONNECTED NN WITH TWO HIDDEN LAYERS ***\n",
    "# create model\n",
    "model = Sequential()\n",
    "model.add(Dense(100, input_shape=(int(xdim*factor)**2,), activation='relu'))\n",
    "model.add(Dense(100, activation='relu'))\n",
    "model.add(Dense(100, activation='relu'))\n",
    "model.add(Dense(10, activation='softmax'))\n",
    "\n",
    "# Compile model\n",
    "model.compile(loss='categorical_crossentropy', optimizer='adam', metrics=['accuracy'])\n",
    "# model.compile(loss='sparse_categorical_crossentropy', optimizer='adam', metrics=['accuracy'])\n",
    "\n",
    "# Fit the model\n",
    "model.fit(Xtrain_down, Ytrain, nb_epoch=50, batch_size=16)\n",
    "\n",
    "# evaluate the model\n",
    "scores = model.evaluate(Xtest_down, Ytest, verbose=0)\n",
    "print(\"\\n%s: %.2f%%\" % (model.metrics_names[1], scores[1]*100))\n",
    "\n",
    "# # calculate predictions\n",
    "# Ypredict = model.predict(Xtest)\n",
    "# # round predictions\n",
    "# rounded = [round(x[0]) for x in Ypredict]\n",
    "# print(rounded)\n"
   ]
  },
  {
   "cell_type": "code",
   "execution_count": 10,
   "metadata": {
    "collapsed": false
   },
   "outputs": [],
   "source": [
    "from keras.models import load_model\n",
    "\n",
    "model.save('nn.h5')"
   ]
  },
  {
   "cell_type": "code",
   "execution_count": 14,
   "metadata": {
    "collapsed": false
   },
   "outputs": [
    {
     "name": "stdout",
     "output_type": "stream",
     "text": [
      "[array([[ 0.02202845,  0.        ,  0.32602513, ...,  0.11971657,\n",
      "         0.        ,  3.90735912],\n",
      "       [ 0.        ,  0.        ,  0.3178001 , ...,  0.01852087,\n",
      "         0.        ,  0.71622854],\n",
      "       [ 0.18396944,  0.        ,  0.46906987, ...,  0.18578941,\n",
      "         0.        ,  3.42192411],\n",
      "       ..., \n",
      "       [ 0.05356272,  0.        ,  0.27201772, ...,  0.02083855,\n",
      "         0.        ,  4.19081211],\n",
      "       [ 0.        ,  0.        ,  0.19928239, ...,  0.0611527 ,\n",
      "         0.        ,  0.        ],\n",
      "       [ 0.        ,  0.        ,  0.23968501, ...,  0.        ,\n",
      "         0.        ,  0.        ]], dtype=float32), array([[  2.7717042 ,  11.38095188,   8.93695259, ...,   0.        ,\n",
      "          0.        ,   7.36273623],\n",
      "       [  0.        ,   3.8440032 ,  18.38563538, ...,   0.16622734,\n",
      "          0.        ,   3.1886692 ],\n",
      "       [  2.14769006,   7.95462322,  17.96408844, ...,   0.        ,\n",
      "          0.        ,   7.72371817],\n",
      "       ..., \n",
      "       [ 11.93557549,  13.88940144,   0.        , ...,   0.        ,\n",
      "          0.        ,   1.59990537],\n",
      "       [ 13.27334118,   0.        ,   0.        , ...,   0.15421379,\n",
      "         12.53028393,   0.        ],\n",
      "       [ 10.64247513,  14.00748062,  22.31798363, ...,   0.        ,\n",
      "          0.        ,   1.55679011]], dtype=float32), array([[   0.        ,  190.75239563,    0.        , ...,    0.        ,\n",
      "           0.        ,    0.        ],\n",
      "       [   0.        ,    2.9031291 ,    4.01677942, ...,    0.        ,\n",
      "           0.        ,    0.        ],\n",
      "       [   0.        ,  192.00434875,    0.        , ...,    0.        ,\n",
      "           0.        ,    0.        ],\n",
      "       ..., \n",
      "       [   0.        ,  205.04066467,    0.        , ...,    0.        ,\n",
      "           0.        ,    0.        ],\n",
      "       [   0.        ,  106.84342194,    0.        , ...,    0.        ,\n",
      "           0.        ,    0.        ],\n",
      "       [   0.        ,    9.45107269,    0.        , ...,    0.        ,\n",
      "           0.        ,    0.        ]], dtype=float32), array([[  0.00000000e+00,   0.00000000e+00,   0.00000000e+00, ...,\n",
      "          0.00000000e+00,   0.00000000e+00,   0.00000000e+00],\n",
      "       [  0.00000000e+00,   0.00000000e+00,   7.98491016e-21, ...,\n",
      "          1.00000000e+00,   0.00000000e+00,   0.00000000e+00],\n",
      "       [  0.00000000e+00,   0.00000000e+00,   0.00000000e+00, ...,\n",
      "          0.00000000e+00,   0.00000000e+00,   0.00000000e+00],\n",
      "       ..., \n",
      "       [  0.00000000e+00,   0.00000000e+00,   0.00000000e+00, ...,\n",
      "          0.00000000e+00,   0.00000000e+00,   0.00000000e+00],\n",
      "       [  0.00000000e+00,   0.00000000e+00,   0.00000000e+00, ...,\n",
      "          0.00000000e+00,   0.00000000e+00,   0.00000000e+00],\n",
      "       [  0.00000000e+00,   0.00000000e+00,   0.00000000e+00, ...,\n",
      "          0.00000000e+00,   1.00000000e+00,   0.00000000e+00]], dtype=float32)]\n"
     ]
    }
   ],
   "source": [
    "# GET THE OUTPUT OF EACH LAYER AFTER TRAINING\n",
    "from keras import backend as K\n",
    "\n",
    "inp = model.input                                           # input placeholder\n",
    "outputs = [layer.output for layer in model.layers]          # all layer outputs\n",
    "#functors = [K.function([inp], [out]) for out in outputs]    # evaluation functions\n",
    "functor = K.function([inp]+ [K.learning_phase()], outputs ) # evaluation function\n",
    "\n",
    "# Testing\n",
    "layer_outs = functor([X_pr_down, 1.])\n",
    "print(layer_outs)"
   ]
  },
  {
   "cell_type": "code",
   "execution_count": null,
   "metadata": {
    "collapsed": true
   },
   "outputs": [],
   "source": []
  }
 ],
 "metadata": {
  "anaconda-cloud": {},
  "kernelspec": {
   "display_name": "Python [default]",
   "language": "python",
   "name": "python3"
  },
  "language_info": {
   "codemirror_mode": {
    "name": "ipython",
    "version": 3
   },
   "file_extension": ".py",
   "mimetype": "text/x-python",
   "name": "python",
   "nbconvert_exporter": "python",
   "pygments_lexer": "ipython3",
   "version": "3.5.2"
  }
 },
 "nbformat": 4,
 "nbformat_minor": 1
}

{
 "cells": [
  {
   "cell_type": "code",
   "execution_count": 1,
   "metadata": {
    "collapsed": false
   },
   "outputs": [
    {
     "name": "stderr",
     "output_type": "stream",
     "text": [
      "Using TensorFlow backend.\n"
     ]
    }
   ],
   "source": [
    "import numpy as np\n",
    "from keras.models import Sequential\n",
    "from keras.layers import Dense\n",
    "from keras.utils import np_utils\n",
    "from keras.models import load_model\n",
    "from keras import backend as K\n",
    "import tensorflow as tf\n",
    "from scipy.misc import imresize\n",
    "import matplotlib.pyplot as plt\n",
    "%matplotlib inline\n",
    "\n",
    "# fix random seed for reproducibility\n",
    "np.random.seed(10)\n"
   ]
  },
  {
   "cell_type": "markdown",
   "metadata": {},
   "source": [
    "# Load data "
   ]
  },
  {
   "cell_type": "code",
   "execution_count": 2,
   "metadata": {
    "collapsed": false
   },
   "outputs": [],
   "source": [
    "from keras.datasets import mnist\n",
    "(Xtrain, Ytrain), (Xtest, Ytest) = mnist.load_data()\n",
    "\n",
    "(ntrain, xdim, ydim) = Xtrain.shape\n",
    "ntest = Xtest.shape[0]\n",
    "\n",
    "# split train data in two\n",
    "X_pr = Xtrain[30000:60000, :, :]\n",
    "Y_pr = Ytrain[30000:60000]\n",
    "\n",
    "Xtrain = Xtrain[0:30000, :, :];\n",
    "Ytrain = Ytrain[0:30000]\n",
    "\n",
    "# downsample\n",
    "factor = 1\n",
    "\n",
    "if factor<1:\n",
    "    Xtrain_down = np.ones((Xtrain.shape[0], int(xdim*factor), int(ydim*factor)))\n",
    "    for i in range(Xtrain.shape[0]):\n",
    "        Xtrain_down[i, :, :] = imresize(Xtrain[i,:,:], factor)\n",
    "\n",
    "    Xtest_down = np.ones((Xtest.shape[0], int(xdim*factor), int(ydim*factor)))\n",
    "    for i in range(Xtest.shape[0]):\n",
    "        Xtest_down[i,:,:] = imresize(Xtest[i,:,:], factor)\n",
    "\n",
    "    X_pr_down = np.ones((X_pr.shape[0], int(xdim*factor), int(ydim*factor)))\n",
    "    for i in range(X_pr.shape[0]):\n",
    "        X_pr_down[i,:,:] = imresize(X_pr[i,:,:], factor)\n",
    "else:\n",
    "    Xtrain_down = Xtrain\n",
    "    Xtest_down = Xtest\n",
    "    X_pr_down = X_pr\n",
    "    \n",
    "# VECTORIZE IMAGES\n",
    "Xtrain_down = Xtrain_down.reshape(Xtrain_down.shape[0], int(xdim*factor)**2).astype('float32') / 255\n",
    "Xtest_down = Xtest_down.reshape(ntest, int(xdim*factor)**2).astype('float32') / 255\n",
    "X_pr_down = X_pr_down.reshape(X_pr_down.shape[0], int(xdim*factor)**2).astype('float32') / 255\n",
    "\n",
    "# CATEGORICAL OUTPUTS\n",
    "Ytrain_cat = np_utils.to_categorical(Ytrain, 10)\n",
    "Ytest_cat = np_utils.to_categorical(Ytest, 10)\n"
   ]
  },
  {
   "cell_type": "markdown",
   "metadata": {},
   "source": [
    "# TRAIN A FULLY-CONNECTED NN WITH 4 ReLU HIDDEN LAYERS "
   ]
  },
  {
   "cell_type": "code",
   "execution_count": 3,
   "metadata": {
    "collapsed": false
   },
   "outputs": [
    {
     "name": "stdout",
     "output_type": "stream",
     "text": [
      "Epoch 1/30\n",
      "12s - loss: 0.3305 - acc: 0.9035\n",
      "Epoch 2/30\n",
      "10s - loss: 0.1641 - acc: 0.9562\n",
      "Epoch 3/30\n",
      "10s - loss: 0.1224 - acc: 0.9678\n",
      "Epoch 4/30\n",
      "11s - loss: 0.0991 - acc: 0.9750\n",
      "Epoch 5/30\n",
      "11s - loss: 0.0836 - acc: 0.9783\n",
      "Epoch 6/30\n",
      "10s - loss: 0.0675 - acc: 0.9831\n",
      "Epoch 7/30\n",
      "10s - loss: 0.0659 - acc: 0.9833\n",
      "Epoch 8/30\n",
      "10s - loss: 0.0601 - acc: 0.9862\n",
      "Epoch 9/30\n",
      "10s - loss: 0.0527 - acc: 0.9874\n",
      "Epoch 10/30\n",
      "11s - loss: 0.0563 - acc: 0.9869\n",
      "Epoch 11/30\n",
      "11s - loss: 0.0429 - acc: 0.9899\n",
      "Epoch 12/30\n",
      "10s - loss: 0.0453 - acc: 0.9899\n",
      "Epoch 13/30\n",
      "10s - loss: 0.0399 - acc: 0.9906\n",
      "Epoch 14/30\n",
      "10s - loss: 0.0377 - acc: 0.9921\n",
      "Epoch 15/30\n",
      "11s - loss: 0.0376 - acc: 0.9918\n",
      "Epoch 16/30\n",
      "11s - loss: 0.0388 - acc: 0.9914\n",
      "Epoch 17/30\n",
      "11s - loss: 0.0413 - acc: 0.9913\n",
      "Epoch 18/30\n",
      "10s - loss: 0.0356 - acc: 0.9929\n",
      "Epoch 19/30\n",
      "10s - loss: 0.0483 - acc: 0.9913\n",
      "Epoch 20/30\n",
      "10s - loss: 0.0234 - acc: 0.9949\n",
      "Epoch 21/30\n",
      "10s - loss: 0.0354 - acc: 0.9924\n",
      "Epoch 22/30\n",
      "10s - loss: 0.0343 - acc: 0.9933\n",
      "Epoch 23/30\n",
      "10s - loss: 0.0215 - acc: 0.9953\n",
      "Epoch 24/30\n",
      "10s - loss: 0.0318 - acc: 0.9935\n",
      "Epoch 25/30\n",
      "10s - loss: 0.0275 - acc: 0.9945\n",
      "Epoch 26/30\n",
      "10s - loss: 0.0312 - acc: 0.9940\n",
      "Epoch 27/30\n",
      "10s - loss: 0.0281 - acc: 0.9946\n",
      "Epoch 28/30\n",
      "10s - loss: 0.0528 - acc: 0.9922\n",
      "Epoch 29/30\n",
      "10s - loss: 0.0447 - acc: 0.9925\n",
      "Epoch 30/30\n",
      "10s - loss: 0.0233 - acc: 0.9955\n",
      "\n",
      "acc: 97.78%\n"
     ]
    }
   ],
   "source": [
    "# create model\n",
    "model = Sequential()\n",
    "model.add(Dense(512, input_shape=(int(xdim*factor)**2,), activation='relu'))\n",
    "model.add(Dense(256, activation='relu'))\n",
    "model.add(Dense(256, activation='relu'))\n",
    "model.add(Dense(128, activation='relu'))\n",
    "model.add(Dense(128, activation='relu'))\n",
    "model.add(Dense(128, activation='relu'))\n",
    "model.add(Dense(128, activation='relu'))\n",
    "model.add(Dense(10, activation='softmax'))\n",
    "\n",
    "# Compile model\n",
    "model.compile(loss='categorical_crossentropy', optimizer='adam', metrics=['accuracy'])\n",
    "# model.compile(loss='sparse_categorical_crossentropy', optimizer='adam', metrics=['accuracy'])\n",
    " \n",
    "\n",
    "# Fit the model\n",
    "with tf.device('/gpu:4'):\n",
    "    model.fit(Xtrain_down, Ytrain_cat, nb_epoch=30, batch_size=16, verbose=2)\n",
    "\n",
    "# evaluate the model\n",
    "scores = model.evaluate(Xtest_down, Ytest_cat, verbose=0)\n",
    "print(\"\\n%s: %.2f%%\" % (model.metrics_names[1], scores[1]*100))\n",
    "\n",
    "# Load NN and get output values\n",
    "# from keras import backend as K\n",
    "# from keras.models import load_model\n",
    "\n",
    "# Save the model\n",
    "# model.save('nonlinear_nn.h5')\n",
    "\n",
    "# GET THE OUTPUT OF EACH LAYER AFTER TRAINING\n",
    "inp = model.input                                           # input placeholder\n",
    "outputs = [layer.output for layer in model.layers]          # all layer outputs\n",
    "functor = K.function([inp]+ [K.learning_phase()], outputs ) # evaluation function\n",
    "layer_outs = functor([X_pr_down, 1.])                       # compute on 2nd training set\n",
    "layer_outs_test = functor([Xtest_down, 1.])                 # compute on test set\n",
    "#print(layer_outs)\n"
   ]
  },
  {
   "cell_type": "markdown",
   "metadata": {},
   "source": [
    "# Save Layer Outputs"
   ]
  },
  {
   "cell_type": "code",
   "execution_count": 6,
   "metadata": {
    "collapsed": false
   },
   "outputs": [],
   "source": [
    "import pickle\n",
    "with open('results/DNN_layer_outputs.dat','wb') as f:\n",
    "    pickle.dump([layer_outs, layer_outs_test], f)\n",
    "f.close()\n"
   ]
  },
  {
   "cell_type": "code",
   "execution_count": null,
   "metadata": {
    "collapsed": true
   },
   "outputs": [],
   "source": []
  }
 ],
 "metadata": {
  "kernelspec": {
   "display_name": "Python [Root]",
   "language": "python",
   "name": "Python [Root]"
  },
  "language_info": {
   "codemirror_mode": {
    "name": "ipython",
    "version": 2
   },
   "file_extension": ".py",
   "mimetype": "text/x-python",
   "name": "python",
   "nbconvert_exporter": "python",
   "pygments_lexer": "ipython2",
   "version": "2.7.12"
  }
 },
 "nbformat": 4,
 "nbformat_minor": 0
}

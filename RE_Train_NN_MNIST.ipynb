{
 "cells": [
  {
   "cell_type": "code",
   "execution_count": 1,
   "metadata": {
    "collapsed": false
   },
   "outputs": [
    {
     "name": "stderr",
     "output_type": "stream",
     "text": [
      "Using TensorFlow backend.\n"
     ]
    }
   ],
   "source": [
    "import numpy as np\n",
    "from keras.models import Sequential\n",
    "from keras.layers import Dense\n",
    "from keras.utils import np_utils\n",
    "from keras.models import load_model\n",
    "from keras import backend as K\n",
    "import tensorflow as tf\n",
    "from scipy.misc import imresize\n",
    "import matplotlib.pyplot as plt\n",
    "%matplotlib inline\n",
    "\n",
    "# fix random seed for reproducibility\n",
    "np.random.seed(7)\n"
   ]
  },
  {
   "cell_type": "markdown",
   "metadata": {},
   "source": [
    "# Load data "
   ]
  },
  {
   "cell_type": "code",
   "execution_count": 2,
   "metadata": {
    "collapsed": false
   },
   "outputs": [],
   "source": [
    "from keras.datasets import mnist\n",
    "(Xtrain, Ytrain), (Xtest, Ytest) = mnist.load_data()\n",
    "\n",
    "(ntrain, xdim, ydim) = Xtrain.shape\n",
    "ntest = Xtest.shape[0]\n",
    "\n",
    "# split train data in two\n",
    "X_pr = Xtrain[30000:60000, :, :]\n",
    "Y_pr = Ytrain[30000:60000]\n",
    "\n",
    "Xtrain = Xtrain[0:30000, :, :];\n",
    "Ytrain = Ytrain[0:30000]\n",
    "\n",
    "# downsample\n",
    "factor = 0.25\n",
    "\n",
    "Xtrain_down = np.ones((Xtrain.shape[0], int(xdim*factor), int(ydim*factor)))\n",
    "for i in range(Xtrain.shape[0]):\n",
    "    Xtrain_down[i, :, :] = imresize(Xtrain[i,:,:], factor)\n",
    "\n",
    "Xtest_down = np.ones((Xtest.shape[0], int(xdim*factor), int(ydim*factor)))\n",
    "for i in range(Xtest.shape[0]):\n",
    "    Xtest_down[i,:,:] = imresize(Xtest[i,:,:], factor)\n",
    "\n",
    "X_pr_down = np.ones((X_pr.shape[0], int(xdim*factor), int(ydim*factor)))\n",
    "for i in range(X_pr.shape[0]):\n",
    "    X_pr_down[i,:,:] = imresize(X_pr[i,:,:], factor)\n",
    "    \n",
    "# VECTORIZE IMAGES\n",
    "Xtrain_down = Xtrain_down.reshape(Xtrain_down.shape[0], int(xdim*factor)**2).astype('float32') / 255\n",
    "Xtest_down = Xtest_down.reshape(ntest, int(xdim*factor)**2).astype('float32') / 255\n",
    "X_pr_down = X_pr_down.reshape(X_pr_down.shape[0], int(xdim*factor)**2).astype('float32') / 255\n",
    "\n",
    "# CATEGORICAL OUTPUTS\n",
    "Ytrain_cat = np_utils.to_categorical(Ytrain, 10)\n",
    "Ytest_cat = np_utils.to_categorical(Ytest, 10)"
   ]
  },
  {
   "cell_type": "markdown",
   "metadata": {},
   "source": [
    "# TRAIN A FULLY-CONNECTED NN WITH 4 ReLU HIDDEN LAYERS "
   ]
  },
  {
   "cell_type": "code",
   "execution_count": 5,
   "metadata": {
    "collapsed": false
   },
   "outputs": [
    {
     "name": "stdout",
     "output_type": "stream",
     "text": [
      "Epoch 1/50\n",
      "9s - loss: 0.4067 - acc: 0.8732\n",
      "Epoch 2/50\n",
      "9s - loss: 0.1959 - acc: 0.9376\n",
      "Epoch 3/50\n",
      "9s - loss: 0.1606 - acc: 0.9482\n",
      "Epoch 4/50\n",
      "9s - loss: 0.1373 - acc: 0.9548\n",
      "Epoch 5/50\n",
      "9s - loss: 0.1207 - acc: 0.9614\n",
      "Epoch 6/50\n",
      "9s - loss: 0.1117 - acc: 0.9629\n",
      "Epoch 7/50\n",
      "9s - loss: 0.0998 - acc: 0.9670\n",
      "Epoch 8/50\n",
      "9s - loss: 0.0937 - acc: 0.9685\n",
      "Epoch 9/50\n",
      "9s - loss: 0.0877 - acc: 0.9707\n",
      "Epoch 10/50\n",
      "9s - loss: 0.0784 - acc: 0.9746\n",
      "Epoch 11/50\n",
      "9s - loss: 0.0760 - acc: 0.9756\n",
      "Epoch 12/50\n",
      "9s - loss: 0.0647 - acc: 0.9778\n",
      "Epoch 13/50\n",
      "9s - loss: 0.0649 - acc: 0.9793\n",
      "Epoch 14/50\n",
      "9s - loss: 0.0610 - acc: 0.9798\n",
      "Epoch 15/50\n",
      "9s - loss: 0.0567 - acc: 0.9809\n",
      "Epoch 16/50\n",
      "8s - loss: 0.0555 - acc: 0.9821\n",
      "Epoch 17/50\n",
      "9s - loss: 0.0509 - acc: 0.9830\n",
      "Epoch 18/50\n",
      "9s - loss: 0.0468 - acc: 0.9841\n",
      "Epoch 19/50\n",
      "9s - loss: 0.0502 - acc: 0.9829\n",
      "Epoch 20/50\n",
      "10s - loss: 0.0459 - acc: 0.9845\n",
      "Epoch 21/50\n",
      "8s - loss: 0.0434 - acc: 0.9844\n",
      "Epoch 22/50\n",
      "8s - loss: 0.0365 - acc: 0.9871\n",
      "Epoch 23/50\n",
      "9s - loss: 0.0399 - acc: 0.9862\n",
      "Epoch 24/50\n",
      "9s - loss: 0.0355 - acc: 0.9881\n",
      "Epoch 25/50\n",
      "9s - loss: 0.0380 - acc: 0.9868\n",
      "Epoch 26/50\n",
      "9s - loss: 0.0314 - acc: 0.9896\n",
      "Epoch 27/50\n",
      "9s - loss: 0.0339 - acc: 0.9880\n",
      "Epoch 28/50\n",
      "9s - loss: 0.0310 - acc: 0.9898\n",
      "Epoch 29/50\n",
      "9s - loss: 0.0294 - acc: 0.9898\n",
      "Epoch 30/50\n",
      "9s - loss: 0.0292 - acc: 0.9904\n",
      "Epoch 31/50\n",
      "9s - loss: 0.0291 - acc: 0.9896\n",
      "Epoch 32/50\n",
      "10s - loss: 0.0310 - acc: 0.9901\n",
      "Epoch 33/50\n",
      "9s - loss: 0.0283 - acc: 0.9902\n",
      "Epoch 34/50\n",
      "9s - loss: 0.0301 - acc: 0.9903\n",
      "Epoch 35/50\n",
      "10s - loss: 0.0245 - acc: 0.9914\n",
      "Epoch 36/50\n",
      "9s - loss: 0.0244 - acc: 0.9921\n",
      "Epoch 37/50\n",
      "10s - loss: 0.0281 - acc: 0.9908\n",
      "Epoch 38/50\n",
      "9s - loss: 0.0255 - acc: 0.9910\n",
      "Epoch 39/50\n",
      "10s - loss: 0.0280 - acc: 0.9915\n",
      "Epoch 40/50\n",
      "9s - loss: 0.0217 - acc: 0.9930\n",
      "Epoch 41/50\n",
      "9s - loss: 0.0254 - acc: 0.9917\n",
      "Epoch 42/50\n",
      "9s - loss: 0.0237 - acc: 0.9922\n",
      "Epoch 43/50\n",
      "9s - loss: 0.0202 - acc: 0.9938\n",
      "Epoch 44/50\n",
      "9s - loss: 0.0246 - acc: 0.9920\n",
      "Epoch 45/50\n",
      "9s - loss: 0.0222 - acc: 0.9930\n",
      "Epoch 46/50\n",
      "9s - loss: 0.0216 - acc: 0.9930\n",
      "Epoch 47/50\n",
      "9s - loss: 0.0215 - acc: 0.9930\n",
      "Epoch 48/50\n",
      "9s - loss: 0.0212 - acc: 0.9930\n",
      "Epoch 49/50\n",
      "10s - loss: 0.0191 - acc: 0.9941\n",
      "Epoch 50/50\n",
      "10s - loss: 0.0197 - acc: 0.9935\n",
      "\n",
      "acc: 96.78%\n"
     ]
    }
   ],
   "source": [
    "# create model\n",
    "model = Sequential()\n",
    "model.add(Dense(128, input_shape=(int(xdim*factor)**2,), activation='relu'))\n",
    "model.add(Dense(128, activation='relu'))\n",
    "model.add(Dense(128, activation='relu'))\n",
    "model.add(Dense(128, activation='relu'))\n",
    "model.add(Dense(10, activation='softmax'))\n",
    "\n",
    "# Compile model\n",
    "model.compile(loss='categorical_crossentropy', optimizer='adam', metrics=['accuracy'])\n",
    "# model.compile(loss='sparse_categorical_crossentropy', optimizer='adam', metrics=['accuracy'])\n",
    " \n",
    "\n",
    "# Fit the model\n",
    "with tf.device('/gpu:4'):\n",
    "    model.fit(Xtrain_down, Ytrain_cat, nb_epoch=50, batch_size=16, verbose=2)\n",
    "\n",
    "# evaluate the model\n",
    "scores = model.evaluate(Xtest_down, Ytest_cat, verbose=0)\n",
    "print(\"\\n%s: %.2f%%\" % (model.metrics_names[1], scores[1]*100))\n",
    "\n",
    "# Load NN and get output values\n",
    "# from keras import backend as K\n",
    "# from keras.models import load_model\n",
    "\n",
    "# Save the model\n",
    "model.save('nonlinear_nn.h5')\n",
    "\n",
    "# GET THE OUTPUT OF EACH LAYER AFTER TRAINING\n",
    "inp = model.input                                           # input placeholder\n",
    "outputs = [layer.output for layer in model.layers]          # all layer outputs\n",
    "functor = K.function([inp]+ [K.learning_phase()], outputs ) # evaluation function\n",
    "layer_outs = functor([X_pr_down, 1.])                       # compute on 2nd training set\n",
    "layer_outs_test = functor([Xtest_down, 1.])                 # compute on test set\n",
    "#print(layer_outs)\n",
    "\n"
   ]
  },
  {
   "cell_type": "markdown",
   "metadata": {},
   "source": [
    "# Save Layer Outputs"
   ]
  },
  {
   "cell_type": "code",
   "execution_count": 6,
   "metadata": {
    "collapsed": true
   },
   "outputs": [],
   "source": [
    "import pickle\n",
    "with open('NN_layer_outputs.dat','wb') as f:\n",
    "    pickle.dump([layer_outs, layer_outs_test], f)\n",
    "f.close()"
   ]
  },
  {
   "cell_type": "code",
   "execution_count": null,
   "metadata": {
    "collapsed": true
   },
   "outputs": [],
   "source": []
  }
 ],
 "metadata": {
  "anaconda-cloud": {},
  "kernelspec": {
   "display_name": "Python [Root]",
   "language": "python",
   "name": "Python [Root]"
  },
  "language_info": {
   "codemirror_mode": {
    "name": "ipython",
    "version": 2
   },
   "file_extension": ".py",
   "mimetype": "text/x-python",
   "name": "python",
   "nbconvert_exporter": "python",
   "pygments_lexer": "ipython2",
   "version": "2.7.12"
  }
 },
 "nbformat": 4,
 "nbformat_minor": 0
}

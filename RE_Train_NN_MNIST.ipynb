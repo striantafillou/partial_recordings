{
 "cells": [
  {
   "cell_type": "code",
   "execution_count": 1,
   "metadata": {
    "collapsed": false
   },
   "outputs": [
    {
     "name": "stderr",
     "output_type": "stream",
     "text": [
      "Using Theano backend.\n",
      "WARNING (theano.sandbox.cuda): The cuda backend is deprecated and will be removed in the next release (v0.10).  Please switch to the gpuarray backend. You can get more information about how to switch at this URL:\n",
      " https://github.com/Theano/Theano/wiki/Converting-to-the-new-gpu-back-end%28gpuarray%29\n",
      "\n",
      "Using gpu device 1: GeForce GTX TITAN X (CNMeM is enabled with initial size: 50.0% of memory, cuDNN 5103)\n"
     ]
    }
   ],
   "source": [
    "import numpy as np\n",
    "from keras.models import Sequential\n",
    "from keras.layers import Dense\n",
    "from keras.utils import np_utils\n",
    "from keras.models import load_model\n",
    "from keras import backend as K\n",
    "import tensorflow as tf\n",
    "from scipy.misc import imresize\n",
    "import matplotlib.pyplot as plt\n",
    "%matplotlib inline\n",
    "\n",
    "# fix random seed for reproducibility\n",
    "np.random.seed(7)\n"
   ]
  },
  {
   "cell_type": "markdown",
   "metadata": {},
   "source": [
    "# Load data "
   ]
  },
  {
   "cell_type": "code",
   "execution_count": 2,
   "metadata": {
    "collapsed": false
   },
   "outputs": [],
   "source": [
    "from keras.datasets import mnist\n",
    "(Xtrain, Ytrain), (Xtest, Ytest) = mnist.load_data()\n",
    "\n",
    "(ntrain, xdim, ydim) = Xtrain.shape\n",
    "ntest = Xtest.shape[0]\n",
    "\n",
    "# split train data in two\n",
    "X_pr = Xtrain[30000:60000, :, :]\n",
    "Y_pr = Ytrain[30000:60000]\n",
    "\n",
    "Xtrain = Xtrain[0:30000, :, :];\n",
    "Ytrain = Ytrain[0:30000]\n",
    "\n",
    "# downsample\n",
    "factor = 1\n",
    "if factor<1:\n",
    "    Xtrain_down = np.ones((Xtrain.shape[0], int(xdim*factor), int(ydim*factor)))\n",
    "    for i in range(Xtrain.shape[0]):\n",
    "        Xtrain_down[i, :, :] = imresize(Xtrain[i,:,:], factor)\n",
    "\n",
    "    Xtest_down = np.ones((Xtest.shape[0], int(xdim*factor), int(ydim*factor)))\n",
    "    for i in range(Xtest.shape[0]):\n",
    "        Xtest_down[i,:,:] = imresize(Xtest[i,:,:], factor)\n",
    "\n",
    "    X_pr_down = np.ones((X_pr.shape[0], int(xdim*factor), int(ydim*factor)))\n",
    "    for i in range(X_pr.shape[0]):\n",
    "        X_pr_down[i,:,:] = imresize(X_pr[i,:,:], factor)\n",
    "else:\n",
    "    Xtrain_down = Xtrain\n",
    "    Xtest_down = Xtest\n",
    "    X_pr_down = X_pr\n",
    "    \n",
    "# VECTORIZE IMAGES\n",
    "Xtrain_down = Xtrain_down.reshape(Xtrain_down.shape[0], int(xdim*factor)**2).astype('float32') / 255\n",
    "Xtest_down = Xtest_down.reshape(ntest, int(xdim*factor)**2).astype('float32') / 255\n",
    "X_pr_down = X_pr_down.reshape(X_pr_down.shape[0], int(xdim*factor)**2).astype('float32') / 255\n",
    "\n",
    "# CATEGORICAL OUTPUTS\n",
    "Ytrain_cat = np_utils.to_categorical(Ytrain, 10)\n",
    "Ytest_cat = np_utils.to_categorical(Ytest, 10)\n"
   ]
  },
  {
   "cell_type": "markdown",
   "metadata": {},
   "source": [
    "# TRAIN A FULLY-CONNECTED NN WITH 4 ReLU HIDDEN LAYERS "
   ]
  },
  {
   "cell_type": "code",
   "execution_count": 3,
   "metadata": {
    "collapsed": false
   },
   "outputs": [
    {
     "name": "stderr",
     "output_type": "stream",
     "text": [
      "/opt/anaconda/anaconda2/lib/python2.7/site-packages/keras/models.py:826: UserWarning: The `nb_epoch` argument in `fit` has been renamed `epochs`.\n",
      "  warnings.warn('The `nb_epoch` argument in `fit` '\n"
     ]
    },
    {
     "name": "stdout",
     "output_type": "stream",
     "text": [
      "Epoch 1/50\n",
      "1s - loss: 0.2993 - acc: 0.9084\n",
      "Epoch 2/50\n",
      "1s - loss: 0.1327 - acc: 0.9594\n",
      "Epoch 3/50\n",
      "1s - loss: 0.0959 - acc: 0.9716\n",
      "Epoch 4/50\n",
      "1s - loss: 0.0774 - acc: 0.9765\n",
      "Epoch 5/50\n",
      "1s - loss: 0.0648 - acc: 0.9799\n",
      "Epoch 6/50\n",
      "1s - loss: 0.0549 - acc: 0.9836\n",
      "Epoch 7/50\n",
      "1s - loss: 0.0470 - acc: 0.9864\n",
      "Epoch 8/50\n",
      "1s - loss: 0.0407 - acc: 0.9874\n",
      "Epoch 9/50\n",
      "1s - loss: 0.0375 - acc: 0.9894\n",
      "Epoch 10/50\n",
      "1s - loss: 0.0312 - acc: 0.9908\n",
      "Epoch 11/50\n",
      "1s - loss: 0.0337 - acc: 0.9897\n",
      "Epoch 12/50\n",
      "1s - loss: 0.0280 - acc: 0.9923\n",
      "Epoch 13/50\n",
      "1s - loss: 0.0284 - acc: 0.9918\n",
      "Epoch 14/50\n",
      "1s - loss: 0.0256 - acc: 0.9930\n",
      "Epoch 15/50\n",
      "1s - loss: 0.0230 - acc: 0.9928\n",
      "Epoch 16/50\n",
      "1s - loss: 0.0248 - acc: 0.9929\n",
      "Epoch 17/50\n",
      "1s - loss: 0.0205 - acc: 0.9942\n",
      "Epoch 18/50\n",
      "1s - loss: 0.0193 - acc: 0.9943\n",
      "Epoch 19/50\n",
      "1s - loss: 0.0230 - acc: 0.9937\n",
      "Epoch 20/50\n",
      "1s - loss: 0.0183 - acc: 0.9952\n",
      "Epoch 21/50\n",
      "1s - loss: 0.0243 - acc: 0.9939\n",
      "Epoch 22/50\n",
      "1s - loss: 0.0193 - acc: 0.9948\n",
      "Epoch 23/50\n",
      "1s - loss: 0.0168 - acc: 0.9953\n",
      "Epoch 24/50\n",
      "1s - loss: 0.0182 - acc: 0.9955\n",
      "Epoch 25/50\n",
      "1s - loss: 0.0193 - acc: 0.9954\n",
      "Epoch 26/50\n",
      "1s - loss: 0.0171 - acc: 0.9961\n",
      "Epoch 27/50\n",
      "1s - loss: 0.0179 - acc: 0.9958\n",
      "Epoch 28/50\n",
      "1s - loss: 0.0170 - acc: 0.9957\n",
      "Epoch 29/50\n",
      "1s - loss: 0.0147 - acc: 0.9965\n",
      "Epoch 30/50\n",
      "1s - loss: 0.0171 - acc: 0.9959\n",
      "Epoch 31/50\n",
      "1s - loss: 0.0129 - acc: 0.9972\n",
      "Epoch 32/50\n",
      "1s - loss: 0.0146 - acc: 0.9963\n",
      "Epoch 33/50\n",
      "1s - loss: 0.0160 - acc: 0.9962\n",
      "Epoch 34/50\n",
      "1s - loss: 0.0127 - acc: 0.9967\n",
      "Epoch 35/50\n",
      "1s - loss: 0.0184 - acc: 0.9961\n",
      "Epoch 36/50\n",
      "1s - loss: 0.0131 - acc: 0.9968\n",
      "Epoch 37/50\n",
      "1s - loss: 0.0152 - acc: 0.9967\n",
      "Epoch 38/50\n",
      "1s - loss: 0.0186 - acc: 0.9962\n",
      "Epoch 39/50\n",
      "1s - loss: 0.0148 - acc: 0.9968\n",
      "Epoch 40/50\n",
      "1s - loss: 0.0135 - acc: 0.9972\n",
      "Epoch 41/50\n",
      "1s - loss: 0.0165 - acc: 0.9965\n",
      "Epoch 42/50\n",
      "1s - loss: 0.0124 - acc: 0.9972\n",
      "Epoch 43/50\n",
      "1s - loss: 0.0103 - acc: 0.9981\n",
      "Epoch 44/50\n",
      "1s - loss: 0.0210 - acc: 0.9962\n",
      "Epoch 45/50\n",
      "1s - loss: 0.0099 - acc: 0.9977\n",
      "Epoch 46/50\n",
      "1s - loss: 0.0142 - acc: 0.9967\n",
      "Epoch 47/50\n",
      "1s - loss: 0.0106 - acc: 0.9977\n",
      "Epoch 48/50\n",
      "1s - loss: 0.0173 - acc: 0.9966\n",
      "Epoch 49/50\n",
      "1s - loss: 0.0176 - acc: 0.9966\n",
      "Epoch 50/50\n",
      "1s - loss: 0.0065 - acc: 0.9987\n",
      "\n",
      "acc: 97.51%\n"
     ]
    }
   ],
   "source": [
    "# create model\n",
    "model = Sequential()\n",
    "model.add(Dense(128, input_shape=(int(xdim*factor)**2,), activation='relu'))\n",
    "model.add(Dense(128, activation='relu'))\n",
    "model.add(Dense(128, activation='relu'))\n",
    "model.add(Dense(128, activation='relu'))\n",
    "model.add(Dense(10, activation='softmax'))\n",
    "\n",
    "# Compile model\n",
    "model.compile(loss='categorical_crossentropy', optimizer='adam', metrics=['accuracy'])\n",
    "# model.compile(loss='sparse_categorical_crossentropy', optimizer='adam', metrics=['accuracy'])\n",
    " \n",
    "model.fit(Xtrain_down, Ytrain_cat, nb_epoch=50, batch_size=16, verbose=2)\n",
    "\n",
    "# evaluate the model\n",
    "scores = model.evaluate(Xtest_down, Ytest_cat, verbose=0)\n",
    "print(\"\\n%s: %.2f%%\" % (model.metrics_names[1], scores[1]*100))\n",
    "\n",
    "# Load NN and get output values\n",
    "# from keras import backend as K\n",
    "# from keras.models import load_model\n",
    "\n",
    "# Save the model\n",
    "#model.save('nonlinear_nn.h5')\n",
    "\n",
    "# GET THE OUTPUT OF EACH LAYER AFTER TRAINING\n",
    "inp = model.input                                           # input placeholder\n",
    "outputs = [layer.output for layer in model.layers]          # all layer outputs\n",
    "functor = K.function([inp]+ [K.learning_phase()], outputs ) # evaluation function\n",
    "layer_outs = functor([X_pr_down, 1.])                       # compute on 2nd training set\n",
    "layer_outs_test = functor([Xtest_down, 1.])                 # compute on test set\n",
    "#print(layer_outs)\n",
    "\n"
   ]
  },
  {
   "cell_type": "markdown",
   "metadata": {},
   "source": [
    "# Save Layer Outputs"
   ]
  },
  {
   "cell_type": "code",
   "execution_count": 4,
   "metadata": {
    "collapsed": true
   },
   "outputs": [],
   "source": [
    "# import pickle\n",
    "# with open('results/NN_layer_outputs.dat','wb') as f:\n",
    "#     pickle.dump([layer_outs, layer_outs_test], f)\n",
    "# f.close()"
   ]
  },
  {
   "cell_type": "code",
   "execution_count": 6,
   "metadata": {
    "collapsed": false
   },
   "outputs": [
    {
     "data": {
      "text/plain": [
       "[array([[ 0.        ,  0.        ,  0.        , ...,  0.        ,\n",
       "          0.        ,  0.        ],\n",
       "        [ 0.        ,  3.16805243,  0.        , ...,  1.25666952,\n",
       "          0.        ,  2.58325386],\n",
       "        [ 0.        ,  0.        ,  4.39460564, ...,  0.        ,\n",
       "          0.        ,  0.        ],\n",
       "        ..., \n",
       "        [ 0.        ,  0.        ,  4.16263247, ...,  0.        ,\n",
       "          0.24436386,  0.        ],\n",
       "        [ 0.        ,  0.        ,  0.        , ...,  0.42510724,\n",
       "          4.08305883,  0.        ],\n",
       "        [ 0.        ,  0.        ,  0.        , ...,  0.        ,\n",
       "          0.        ,  0.        ]], dtype=float32),\n",
       " array([[  0.        ,   0.        ,   0.        , ...,   0.38174966,\n",
       "           0.        ,   0.        ],\n",
       "        [  0.        ,   0.        ,  14.20276451, ...,   0.        ,\n",
       "           7.18004131,   0.        ],\n",
       "        [  0.        ,   0.        ,   0.        , ...,   0.        ,\n",
       "           0.20144165,   0.        ],\n",
       "        ..., \n",
       "        [  0.        ,   0.        ,   0.        , ...,   0.        ,\n",
       "           4.62462711,   0.        ],\n",
       "        [  0.        ,   0.        ,   0.        , ...,   0.        ,\n",
       "           0.        ,   0.        ],\n",
       "        [  0.        ,   0.98522604,   0.        , ...,   0.        ,\n",
       "           0.        ,   0.        ]], dtype=float32),\n",
       " array([[  0.        ,   0.        ,   0.        , ...,   0.        ,\n",
       "           0.        ,   0.        ],\n",
       "        [  0.        ,   0.        ,   0.        , ...,   0.        ,\n",
       "          33.22548676,   9.94502544],\n",
       "        [  0.        ,   0.        ,   0.        , ...,   0.        ,\n",
       "           0.        ,   0.        ],\n",
       "        ..., \n",
       "        [  0.        ,   0.        ,   0.        , ...,   0.        ,\n",
       "           0.        ,   0.        ],\n",
       "        [  0.        ,   0.        ,   0.        , ...,   0.        ,\n",
       "          40.84746933,   0.        ],\n",
       "        [  0.        ,   0.        ,   0.        , ...,   1.40751493,\n",
       "           0.        ,   0.        ]], dtype=float32),\n",
       " array([[  0.        ,   6.87247515,  10.92467403, ...,   0.        ,\n",
       "           0.        ,   0.        ],\n",
       "        [ 17.40727806,  14.41041851,  15.98467731, ...,  14.25654793,\n",
       "           0.        ,   6.60553122],\n",
       "        [  0.        ,  16.49120522,  20.25732994, ...,   0.        ,\n",
       "           0.        ,   0.        ],\n",
       "        ..., \n",
       "        [  0.        ,   0.        ,   0.        , ...,   0.        ,\n",
       "           0.        ,   0.        ],\n",
       "        [  0.        ,   0.        ,   0.        , ...,   0.        ,\n",
       "           0.        ,   0.        ],\n",
       "        [  0.        ,   0.        ,   0.        , ...,   6.82041216,\n",
       "           0.        ,   0.        ]], dtype=float32),\n",
       " array([[  3.72563707e-32,   1.55263870e-42,   6.07249120e-21, ...,\n",
       "           9.53527627e-28,   4.46523377e-17,   4.04351395e-22],\n",
       "        [  0.00000000e+00,   5.83579719e-31,   7.62378390e-30, ...,\n",
       "           1.00000000e+00,   2.91610210e-42,   8.89671320e-27],\n",
       "        [  0.00000000e+00,   0.00000000e+00,   0.00000000e+00, ...,\n",
       "           0.00000000e+00,   0.00000000e+00,   0.00000000e+00],\n",
       "        ..., \n",
       "        [  0.00000000e+00,   0.00000000e+00,   0.00000000e+00, ...,\n",
       "           0.00000000e+00,   1.52741533e-43,   0.00000000e+00],\n",
       "        [  0.00000000e+00,   0.00000000e+00,   0.00000000e+00, ...,\n",
       "           0.00000000e+00,   2.22021729e-40,   0.00000000e+00],\n",
       "        [  1.75768333e-35,   7.14794789e-34,   1.03699029e-39, ...,\n",
       "           1.40129846e-45,   1.00000000e+00,   5.74013374e-37]], dtype=float32)]"
      ]
     },
     "execution_count": 6,
     "metadata": {},
     "output_type": "execute_result"
    }
   ],
   "source": [
    "layer_outs"
   ]
  },
  {
   "cell_type": "code",
   "execution_count": null,
   "metadata": {
    "collapsed": true
   },
   "outputs": [],
   "source": []
  }
 ],
 "metadata": {
  "anaconda-cloud": {},
  "kernelspec": {
   "display_name": "Python [Root]",
   "language": "python",
   "name": "Python [Root]"
  },
  "language_info": {
   "codemirror_mode": {
    "name": "ipython",
    "version": 2
   },
   "file_extension": ".py",
   "mimetype": "text/x-python",
   "name": "python",
   "nbconvert_exporter": "python",
   "pygments_lexer": "ipython2",
   "version": "2.7.12"
  }
 },
 "nbformat": 4,
 "nbformat_minor": 0
}

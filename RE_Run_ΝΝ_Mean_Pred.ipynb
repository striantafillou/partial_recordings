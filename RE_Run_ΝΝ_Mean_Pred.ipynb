{
 "cells": [
  {
   "cell_type": "markdown",
   "metadata": {},
   "source": [
    "# Load Layer outputs"
   ]
  },
  {
   "cell_type": "code",
   "execution_count": 1,
   "metadata": {
    "collapsed": false
   },
   "outputs": [],
   "source": [
    "nn = 'NN'\n",
    "\n",
    "import pickle\n",
    "with open('results/' + nn + '_layer_outputs.dat', 'rb') as f:\n",
    "    layer_outs,layer_outs_test= pickle.load(f)\n",
    "f.close()\n"
   ]
  },
  {
   "cell_type": "markdown",
   "metadata": {},
   "source": [
    "# Load recording and test data"
   ]
  },
  {
   "cell_type": "code",
   "execution_count": 2,
   "metadata": {
    "collapsed": false
   },
   "outputs": [
    {
     "name": "stderr",
     "output_type": "stream",
     "text": [
      "Using Theano backend.\n"
     ]
    }
   ],
   "source": [
    "import numpy as np\n",
    "from keras.datasets import mnist\n",
    "from scipy.misc import imresize\n",
    "\n",
    "(Xtrain, Ytrain), (Xtest, Ytest) = mnist.load_data()\n",
    "\n",
    "(ntrain, xdim, ydim) = Xtrain.shape\n",
    "ntest = Xtest.shape[0]\n",
    "\n",
    "# Recording data\n",
    "X_pr = Xtrain[30000:60000, :, :]\n",
    "Y_pr = Ytrain[30000:60000]\n",
    "\n",
    "# downsample\n",
    "factor = 1\n",
    "if factor<1:\n",
    "    Xtest_down = np.ones((Xtest.shape[0], int(xdim*factor), int(ydim*factor)))\n",
    "    for i in range(Xtest.shape[0]):\n",
    "        Xtest_down[i,:,:] = imresize(Xtest[i,:,:], factor)\n",
    "\n",
    "    X_pr_down = np.ones((X_pr.shape[0], int(xdim*factor), int(ydim*factor)))\n",
    "    for i in range(X_pr.shape[0]):\n",
    "        X_pr_down[i,:,:] = imresize(X_pr[i,:,:], factor)\n",
    "else:\n",
    "    Xtest_down = Xtest\n",
    "    X_pr_down = X_pr\n",
    "    \n",
    "# VECTORIZE IMAGES\n",
    "Xtest_down = Xtest_down.reshape(ntest, int(xdim*factor)**2).astype('float32') / 255\n",
    "X_pr_down = X_pr_down.reshape(X_pr_down.shape[0], int(xdim*factor)**2).astype('float32') / 255\n"
   ]
  },
  {
   "cell_type": "markdown",
   "metadata": {},
   "source": [
    "# Run Neural Networks and average outputs"
   ]
  },
  {
   "cell_type": "code",
   "execution_count": 3,
   "metadata": {
    "collapsed": false
   },
   "outputs": [
    {
     "name": "stdout",
     "output_type": "stream",
     "text": [
      "('Layer #', 2)\n",
      "1\n"
     ]
    },
    {
     "name": "stderr",
     "output_type": "stream",
     "text": [
      "/opt/anaconda/anaconda2/lib/python2.7/site-packages/keras/models.py:826: UserWarning: The `nb_epoch` argument in `fit` has been renamed `epochs`.\n",
      "  warnings.warn('The `nb_epoch` argument in `fit` '\n"
     ]
    },
    {
     "name": "stdout",
     "output_type": "stream",
     "text": [
      "236.874207973\n",
      "predicting, mean RMSEs=0.282033\n",
      "257.694216967\n",
      "predicting, mean RMSEs=0.288554\n",
      "236.35535717\n",
      "predicting, mean RMSEs=0.287188\n",
      "257.990689993\n",
      "predicting, mean RMSEs=0.285514\n",
      "269.890087843\n",
      "predicting, mean RMSEs=0.285521\n",
      "2\n",
      "179.876955032\n",
      "predicting, mean RMSEs=0.267442\n",
      "181.177634001\n",
      "predicting, mean RMSEs=0.266678\n",
      "151.465945005\n",
      "predicting, mean RMSEs=0.265589\n",
      "166.893733025\n",
      "predicting, mean RMSEs=0.271509\n",
      "162.076573133\n",
      "predicting, mean RMSEs=0.272831\n",
      "4\n",
      "116.439636946\n",
      "predicting, mean RMSEs=0.260336\n",
      "102.191302061\n",
      "predicting, mean RMSEs=0.241246\n",
      "119.271636009\n",
      "predicting, mean RMSEs=0.240004\n",
      "113.86674118\n",
      "predicting, mean RMSEs=0.248563\n",
      "113.195714951\n",
      "predicting, mean RMSEs=0.248644\n",
      "8\n",
      "84.4532051086\n",
      "predicting, mean RMSEs=0.194669\n",
      "85.8731939793\n",
      "predicting, mean RMSEs=0.187588\n",
      "81.5252099037\n",
      "predicting, mean RMSEs=0.208254\n",
      "78.9892151356\n",
      "predicting, mean RMSEs=0.177570\n",
      "73.0041861534\n",
      "predicting, mean RMSEs=0.190318\n",
      "16\n",
      "49.3108201027\n",
      "predicting, mean RMSEs=0.121354\n",
      "53.3264780045\n",
      "predicting, mean RMSEs=0.113374\n",
      "48.5167961121\n",
      "predicting, mean RMSEs=0.112334\n",
      "50.3084881306\n",
      "predicting, mean RMSEs=0.101807\n",
      "50.937568903\n",
      "predicting, mean RMSEs=0.109341\n",
      "32\n",
      "31.0350329876\n",
      "predicting, mean RMSEs=0.055662\n",
      "31.4563140869\n",
      "predicting, mean RMSEs=0.058188\n",
      "28.8493490219\n",
      "predicting, mean RMSEs=0.064770\n",
      "34.2966141701\n",
      "predicting, mean RMSEs=0.064622\n",
      "33.5470368862\n",
      "predicting, mean RMSEs=0.055584\n",
      "64\n",
      "21.1190028191\n",
      "predicting, mean RMSEs=0.039176\n",
      "22.9794001579\n",
      "predicting, mean RMSEs=0.038208\n",
      "23.540471077\n",
      "predicting, mean RMSEs=0.040421\n",
      "21.6682050228\n",
      "predicting, mean RMSEs=0.039744\n",
      "20.290389061\n",
      "predicting, mean RMSEs=0.042142\n",
      "128\n",
      "17.5038528442\n",
      "predicting, mean RMSEs=0.035744\n",
      "19.8093168736\n",
      "predicting, mean RMSEs=0.034111\n",
      "18.1139140129\n",
      "predicting, mean RMSEs=0.033825\n",
      "17.6626570225\n",
      "predicting, mean RMSEs=0.035153\n",
      "19.6029450893\n",
      "predicting, mean RMSEs=0.043163\n"
     ]
    }
   ],
   "source": [
    "from copy import copy, deepcopy\n",
    "from RE_PartialRecData2 import RE_PartialRecData2\n",
    "from sklearn import preprocessing, linear_model\n",
    "import pickle\n",
    "from keras.models import Sequential\n",
    "from keras.layers import Dense\n",
    "from keras.utils import np_utils\n",
    "from keras.models import load_model\n",
    "from keras.callbacks import EarlyStopping\n",
    "#from keras import backend as K\n",
    "#import tensorflow as tf\n",
    "import time\n",
    "\n",
    "# how many recordings?\n",
    "nRecordings = 10\n",
    "# how many neurons from the firs hidden layer?\n",
    "subnetSize = [2**x for x in range(8)]\n",
    "nSubnetSize = len(subnetSize)\n",
    "# which layers?\n",
    "#iLayer = 0\n",
    "# how many samples per recording?\n",
    "nSamples = np.divide(int(X_pr_down.shape[0]/nRecordings),subnetSize)*100\n",
    "# how many iterations\n",
    "nIterations = 5\n",
    "\n",
    "# baseline prediction error\n",
    "#bl = np.std(layer_outs_test[oLayer]-np.mean(layer_outs_test[oLayer]));\n",
    "\n",
    "oLayer = len(layer_outs)-1  # index of output layer\n",
    "nOutNeurons = layer_outs[oLayer].shape[1]\n",
    "rmses = np.zeros([nIterations, nOutNeurons, nSubnetSize])\n",
    "\n",
    "for iLayer in range(2, len(layer_outs)-1,2):\n",
    "    print('Layer #', iLayer)\n",
    "    for ss in range(nSubnetSize):\n",
    "        #r_coefs = np.zeros((nIterations, 10, 128))\n",
    "        #nLayerNeurons = [subnetSize[ss], 0, 0, 0, 10]\n",
    "        nLayerNeurons = subnetSize[ss]\n",
    "        print(subnetSize[ss])    \n",
    "        for it in range(nIterations):\n",
    "            start = time.time()\n",
    "            # copy data - is this necessary?\n",
    "            layer_outputs = deepcopy(layer_outs)\n",
    "            rmses_rec = np.zeros((nRecordings, nOutNeurons))\n",
    "            for iRec in range(nRecordings):\n",
    "                # subsample\n",
    "                X_subsample, Y_subsample = RE_PartialRecData2(layer_outputs[iLayer], layer_outputs[oLayer], \n",
    "                                                              nLayerNeurons, 1, nSamples[ss])\n",
    "                # impute X_subsample with mean value, apply imputation to test set\n",
    "                imp = preprocessing.Imputer(missing_values='NaN', strategy='mean')\n",
    "                impf = imp.fit(X_subsample)\n",
    "                X_new = impf.transform(X_subsample)\n",
    "                X_test_new = impf.transform(layer_outs_test[iLayer])\n",
    "                # fit ΝΝ\n",
    "                model = Sequential()\n",
    "                model.add(Dense(16, input_shape=(X_new.shape[1],), activation='relu'))\n",
    "                model.add(Dense(16, activation='relu'))\n",
    "                model.add(Dense(16, activation='relu'))                \n",
    "                model.add(Dense(10, activation='softmax'))\n",
    "                # Compile model\n",
    "                model.compile(loss='mean_squared_error', optimizer='adam')\n",
    "                callbacks = [EarlyStopping(monitor='val_loss', min_delta=0.0001, patience=2, verbose=0)]\n",
    "                model.fit(X_new, Y_subsample, nb_epoch=30, batch_size=16, shuffle=True, verbose=0, \n",
    "                          validation_split=0.1, callbacks=callbacks)\n",
    "\n",
    "                rmses_rec[iRec, :] = np.sqrt(np.mean((model.predict(X_test_new) - layer_outs_test[oLayer])**2, axis=0))\n",
    "            stop = time.time()\n",
    "            duration = stop-start\n",
    "            print(duration)\n",
    "            rmses[it,:,ss] = np.mean(rmses_rec, axis=0)\n",
    "\n",
    "            print ('predicting, mean RMSEs=%f' %np.mean(rmses[it, :, ss]))\n",
    "    fName = 'results/NNMP_RMSES_Layer' + str(iLayer) + 'nRec' + str(nRecordings) + nn + '.dat'\n",
    "    with open(fName,'wb') as f:\n",
    "        pickle.dump(rmses, f)\n",
    "    f.close()\n",
    "    "
   ]
  }
 ],
 "metadata": {
  "kernelspec": {
   "display_name": "Python [Root]",
   "language": "python",
   "name": "Python [Root]"
  },
  "language_info": {
   "codemirror_mode": {
    "name": "ipython",
    "version": 2
   },
   "file_extension": ".py",
   "mimetype": "text/x-python",
   "name": "python",
   "nbconvert_exporter": "python",
   "pygments_lexer": "ipython2",
   "version": "2.7.12"
  }
 },
 "nbformat": 4,
 "nbformat_minor": 0
}

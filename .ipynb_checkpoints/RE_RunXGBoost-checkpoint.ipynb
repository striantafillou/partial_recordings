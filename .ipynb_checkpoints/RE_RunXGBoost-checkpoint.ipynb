{
 "cells": [
  {
   "cell_type": "markdown",
   "metadata": {},
   "source": [
    "# Load Layer outputs"
   ]
  },
  {
   "cell_type": "code",
   "execution_count": 1,
   "metadata": {
    "collapsed": false
   },
   "outputs": [],
   "source": [
    "nn = 'NNd'\n",
    "\n",
    "import pickle\n",
    "with open('results/' + nn + '_layer_outputs.dat','rb') as f:\n",
    "    layer_outs,layer_outs_test= pickle.load(f)\n",
    "f.close()"
   ]
  },
  {
   "cell_type": "markdown",
   "metadata": {},
   "source": [
    "# Load recording and test data"
   ]
  },
  {
   "cell_type": "code",
   "execution_count": 2,
   "metadata": {
    "collapsed": false
   },
   "outputs": [
    {
     "name": "stderr",
     "output_type": "stream",
     "text": [
      "Using TensorFlow backend.\n"
     ]
    }
   ],
   "source": [
    "import numpy as np\n",
    "from keras.datasets import mnist\n",
    "from scipy.misc import imresize\n",
    "\n",
    "(Xtrain, Ytrain), (Xtest, Ytest) = mnist.load_data()\n",
    "\n",
    "(ntrain, xdim, ydim) = Xtrain.shape\n",
    "ntest = Xtest.shape[0]\n",
    "\n",
    "# Recording data\n",
    "X_pr = Xtrain[30000:60000, :, :]\n",
    "Y_pr = Ytrain[30000:60000]\n",
    "\n",
    "# downsample\n",
    "factor = 0.25\n",
    "\n",
    "Xtest_down = np.ones((Xtest.shape[0], int(xdim*factor), int(ydim*factor)))\n",
    "for i in range(Xtest.shape[0]):\n",
    "    Xtest_down[i,:,:] = imresize(Xtest[i,:,:], factor)\n",
    "\n",
    "X_pr_down = np.ones((X_pr.shape[0], int(xdim*factor), int(ydim*factor)))\n",
    "for i in range(X_pr.shape[0]):\n",
    "    X_pr_down[i,:,:] = imresize(X_pr[i,:,:], factor)\n",
    "    \n",
    "# VECTORIZE IMAGES\n",
    "Xtest_down = Xtest_down.reshape(ntest, int(xdim*factor)**2).astype('float32') / 255\n",
    "X_pr_down = X_pr_down.reshape(X_pr_down.shape[0], int(xdim*factor)**2).astype('float32') / 255"
   ]
  },
  {
   "cell_type": "markdown",
   "metadata": {},
   "source": [
    "# Run XGBOOST"
   ]
  },
  {
   "cell_type": "code",
   "execution_count": 3,
   "metadata": {
    "collapsed": false
   },
   "outputs": [
    {
     "name": "stderr",
     "output_type": "stream",
     "text": [
      "/opt/anaconda/anaconda2/lib/python2.7/site-packages/sklearn/cross_validation.py:44: DeprecationWarning: This module was deprecated in version 0.18 in favor of the model_selection module into which all the refactored classes and functions are moved. Also note that the interface of the new CV iterators are different from that of this module. This module will be removed in 0.20.\n",
      "  \"This module will be removed in 0.20.\", DeprecationWarning)\n"
     ]
    },
    {
     "name": "stdout",
     "output_type": "stream",
     "text": [
      "1\n",
      "predicting, RMSE=0.288615\n",
      "predicting, RMSE=0.294825\n",
      "predicting, RMSE=0.296605\n",
      "predicting, RMSE=0.287310\n",
      "predicting, RMSE=0.295660\n",
      "2\n",
      "predicting, RMSE=0.281554\n",
      "predicting, RMSE=0.281626\n",
      "predicting, RMSE=0.274415\n",
      "predicting, RMSE=0.270405\n",
      "predicting, RMSE=0.284221\n",
      "4\n",
      "predicting, RMSE=0.255754\n",
      "predicting, RMSE=0.258102\n",
      "predicting, RMSE=0.250059\n",
      "predicting, RMSE=0.254969\n",
      "predicting, RMSE=0.257734\n",
      "8\n",
      "predicting, RMSE=0.218777\n",
      "predicting, RMSE=0.232294\n",
      "predicting, RMSE=0.204725\n",
      "predicting, RMSE=0.228358\n",
      "predicting, RMSE=0.222374\n",
      "16\n",
      "predicting, RMSE=0.181719\n",
      "predicting, RMSE=0.145600\n",
      "predicting, RMSE=0.181745\n",
      "predicting, RMSE=0.174359\n",
      "predicting, RMSE=0.171261\n",
      "32\n",
      "predicting, RMSE=0.140360\n",
      "predicting, RMSE=0.146179\n",
      "predicting, RMSE=0.145121\n",
      "predicting, RMSE=0.146809\n",
      "predicting, RMSE=0.149310\n",
      "64\n",
      "predicting, RMSE=0.125023\n",
      "predicting, RMSE=0.125150\n",
      "predicting, RMSE=0.119690\n",
      "predicting, RMSE=0.122938\n",
      "predicting, RMSE=0.126748\n",
      "128\n",
      "predicting, RMSE=0.115470\n",
      "predicting, RMSE=0.114049\n",
      "predicting, RMSE=0.115092\n",
      "predicting, RMSE=0.115250\n",
      "predicting, RMSE=0.115492\n",
      "1\n",
      "predicting, RMSE=0.279915\n",
      "predicting, RMSE=0.282731\n",
      "predicting, RMSE=0.284822\n",
      "predicting, RMSE=0.286394\n",
      "predicting, RMSE=0.277095\n",
      "2\n",
      "predicting, RMSE=0.269624\n",
      "predicting, RMSE=0.278457\n",
      "predicting, RMSE=0.271321\n",
      "predicting, RMSE=0.273816\n",
      "predicting, RMSE=0.278755\n",
      "4\n",
      "predicting, RMSE=0.254068\n",
      "predicting, RMSE=0.245800\n",
      "predicting, RMSE=0.247280\n",
      "predicting, RMSE=0.244821\n",
      "predicting, RMSE=0.255010\n",
      "8\n",
      "predicting, RMSE=0.223996\n",
      "predicting, RMSE=0.218910\n",
      "predicting, RMSE=0.215167\n",
      "predicting, RMSE=0.210423\n",
      "predicting, RMSE=0.222842\n",
      "16\n",
      "predicting, RMSE=0.188378\n",
      "predicting, RMSE=0.182442\n",
      "predicting, RMSE=0.188407\n",
      "predicting, RMSE=0.187816\n",
      "predicting, RMSE=0.186488\n",
      "32\n",
      "predicting, RMSE=0.155334\n",
      "predicting, RMSE=0.158827\n",
      "predicting, RMSE=0.159894\n",
      "predicting, RMSE=0.154823\n",
      "predicting, RMSE=0.161629\n",
      "64\n",
      "predicting, RMSE=0.135501\n",
      "predicting, RMSE=0.133454\n",
      "predicting, RMSE=0.133226\n",
      "predicting, RMSE=0.131082\n",
      "predicting, RMSE=0.133358\n",
      "128\n",
      "predicting, RMSE=0.116483\n",
      "predicting, RMSE=0.114292\n",
      "predicting, RMSE=0.115877\n",
      "predicting, RMSE=0.115490\n",
      "predicting, RMSE=0.114425\n",
      "1\n",
      "predicting, RMSE=0.259504\n",
      "predicting, RMSE=0.259181\n",
      "predicting, RMSE=0.251577\n",
      "predicting, RMSE=0.256648\n",
      "predicting, RMSE=0.256567\n",
      "2\n",
      "predicting, RMSE=0.247543\n",
      "predicting, RMSE=0.236042\n",
      "predicting, RMSE=0.244054\n",
      "predicting, RMSE=0.246856\n",
      "predicting, RMSE=0.238871\n",
      "4\n",
      "predicting, RMSE=0.240159\n",
      "predicting, RMSE=0.255600\n",
      "predicting, RMSE=0.232641\n",
      "predicting, RMSE=0.251499\n",
      "predicting, RMSE=0.245331\n",
      "8\n",
      "predicting, RMSE=0.235800\n",
      "predicting, RMSE=0.248841\n",
      "predicting, RMSE=0.253487\n",
      "predicting, RMSE=0.249975\n",
      "predicting, RMSE=0.231610\n",
      "16\n",
      "predicting, RMSE=0.244699\n",
      "predicting, RMSE=0.247268\n",
      "predicting, RMSE=0.246583\n",
      "predicting, RMSE=0.242052\n",
      "predicting, RMSE=0.251449\n",
      "32\n",
      "predicting, RMSE=0.217472\n",
      "predicting, RMSE=0.208158\n",
      "predicting, RMSE=0.218759\n",
      "predicting, RMSE=0.210857\n",
      "predicting, RMSE=0.198538\n",
      "64\n",
      "predicting, RMSE=0.151780\n",
      "predicting, RMSE=0.148837\n",
      "predicting, RMSE=0.150811\n",
      "predicting, RMSE=0.148435\n",
      "predicting, RMSE=0.146335\n",
      "128\n",
      "predicting, RMSE=0.115902\n",
      "predicting, RMSE=0.115025\n",
      "predicting, RMSE=0.114120\n",
      "predicting, RMSE=0.115299\n",
      "predicting, RMSE=0.115139\n",
      "1\n",
      "predicting, RMSE=0.239358\n",
      "predicting, RMSE=0.235340\n",
      "predicting, RMSE=0.245310\n",
      "predicting, RMSE=0.255031\n",
      "predicting, RMSE=0.252804\n",
      "2\n",
      "predicting, RMSE=0.242498\n",
      "predicting, RMSE=0.241881\n",
      "predicting, RMSE=0.249240\n",
      "predicting, RMSE=0.237078\n",
      "predicting, RMSE=0.250836\n",
      "4\n",
      "predicting, RMSE=0.243938\n",
      "predicting, RMSE=0.254524\n",
      "predicting, RMSE=0.239412\n",
      "predicting, RMSE=0.255756\n",
      "predicting, RMSE=0.236342\n",
      "8\n",
      "predicting, RMSE=0.272699\n",
      "predicting, RMSE=0.279579\n",
      "predicting, RMSE=0.267555\n",
      "predicting, RMSE=0.263827\n",
      "predicting, RMSE=0.259531\n",
      "16\n",
      "predicting, RMSE=0.262670\n",
      "predicting, RMSE=0.268491\n",
      "predicting, RMSE=0.287973\n",
      "predicting, RMSE=0.289081\n",
      "predicting, RMSE=0.284760\n",
      "32\n",
      "predicting, RMSE=0.242727\n",
      "predicting, RMSE=0.234813\n",
      "predicting, RMSE=0.242377\n",
      "predicting, RMSE=0.232032\n",
      "predicting, RMSE=0.239777\n",
      "64\n",
      "predicting, RMSE=0.155320\n",
      "predicting, RMSE=0.152418\n",
      "predicting, RMSE=0.151146\n",
      "predicting, RMSE=0.156978\n",
      "predicting, RMSE=0.156337\n",
      "128\n",
      "predicting, RMSE=0.116297\n",
      "predicting, RMSE=0.116909\n",
      "predicting, RMSE=0.117292\n",
      "predicting, RMSE=0.115944\n",
      "predicting, RMSE=0.116685\n"
     ]
    }
   ],
   "source": [
    "from copy import copy, deepcopy\n",
    "from RE_PartialRecData import RE_PartialRecData\n",
    "from RE_PartialRecData2 import RE_PartialRecData2\n",
    "import os\n",
    "import xgboost as xgb\n",
    "import sklearn\n",
    "from xgboost.sklearn import XGBClassifier\n",
    "import pickle\n",
    "\n",
    "params = {}\n",
    "# use softmax multi-class classification 'multi:softmax'\n",
    "# use linear regression 'reg:linear'\n",
    "params['objective'] = 'reg:linear'\n",
    "# scale weight of positive examples\n",
    "params['eta'] = 0.5               # Makes the model more robust by shrinking the weights on each step (0.01-0.2)\n",
    "params['max_depth'] = 6           # Used to control over-fitting as higher depth will allow model to learn relations \n",
    "                                  # very specific to a particular sample. (3-10)\n",
    "params['silent'] = 1\n",
    "params['nthread'] = 4\n",
    "# params['num_class'] = 10\n",
    "num_round = 5\n",
    "\n",
    "# how many recordings?\n",
    "recordings = [2**x for x in range(8)]\n",
    "nRecordings = len(recordings)\n",
    "# how many neurons from the firs hidden layer?\n",
    "subnetSize = [2**x for x in range(8)]\n",
    "nSubnetSize = len(subnetSize)\n",
    "# which layers?\n",
    "iLayer = 0\n",
    "# how many samples per recording?\n",
    "nSamples = np.divide(int(X_pr_down.shape[0]/nRecordings),subnetSize)*100\n",
    "# how many iterations\n",
    "nIterations = 5\n",
    "\n",
    "# baseline prediction error\n",
    "#bl = np.std(layer_outs_test[oLayer]-np.mean(layer_outs_test[oLayer]));\n",
    "\n",
    "oLayer = len(layer_outs)-1  # index of output layer\n",
    "nOutNeurons = layer_outs[oLayer].shape[1]\n",
    "rmses = np.zeros([nOutNeurons, nIterations, nSubnetSize, nRecordings])\n",
    "\n",
    "for nr in range(nRecordings):\n",
    "    # how many samples per recording?\n",
    "    nSamples = np.divide(int(X_pr_down.shape[0]/recordings[nr]),subnetSize)*100\n",
    "    for ss in range(nSubnetSize):\n",
    "        print(subnetSize[ss])\n",
    "        for it in range(nIterations):\n",
    "            # copy data\n",
    "            layer_outputs = deepcopy(layer_outs)\n",
    "            # subsample\n",
    "            X_subsample, Y_subsample = RE_PartialRecData2(layer_outputs[iLayer], layer_outputs[oLayer], \n",
    "                                                          subnetSize[ss], recordings[nr],nSamples[ss])\n",
    "    #        print('# nan values: ',np.count_nonzero(np.isnan(X_subsample)))\n",
    "            # prepare data for xgboost\n",
    "            for iN in range(nOutNeurons):\n",
    "                #print('#neuron, #iteratin, subnetsize: ', iN,it,subnetSize[ss])\n",
    "                xg_train  = xgb.DMatrix(X_subsample, label=Y_subsample[:, iN])\n",
    "                xg_test   = xgb.DMatrix(layer_outs_test[iLayer], label=layer_outs_test[oLayer][:,iN])\n",
    "                watchlist = [(xg_train, 'train'), (xg_test, 'test')]\n",
    "                # train XGboost\n",
    "                bst = xgb.train(params, xg_train, num_round, watchlist, verbose_eval=False)\n",
    "                # get predictions\n",
    "                pred = bst.predict(xg_test)\n",
    "                rmses[iN,it,ss,nr] = np.sqrt(np.mean(np.square([(pred[i] - layer_outs_test[oLayer][:,iN][i]) \n",
    "                                             for i in range(len(layer_outs_test[oLayer][:,1]))])))\n",
    "            print ('predicting, RMSE=%f' %np.mean(rmses[nr, it, :, ss]))\n",
    "\n"
   ]
  },
  {
   "cell_type": "markdown",
   "metadata": {},
   "source": [
    "# Save RMSE's"
   ]
  },
  {
   "cell_type": "code",
   "execution_count": 4,
   "metadata": {
    "collapsed": false
   },
   "outputs": [],
   "source": [
    "fName = 'results/XGB_RMSES_Layer' + str(iLayer) + 'diff_nRec' + nn + '.dat'\n",
    "# save the rmse's\n",
    "with open(fName,'wb') as f:\n",
    "    pickle.dump(rmses, f)\n",
    "f.close()\n"
   ]
  },
  {
   "cell_type": "markdown",
   "metadata": {},
   "source": [
    "# Plot RMSE's"
   ]
  },
  {
   "cell_type": "code",
   "execution_count": 38,
   "metadata": {
    "collapsed": false
   },
   "outputs": [
    {
     "name": "stdout",
     "output_type": "stream",
     "text": [
      "(4, 8)\n"
     ]
    },
    {
     "data": {
      "image/png": "[encoded data removed]",
      "text/plain": [
       "<matplotlib.figure.Figure at 0x7fe8db9dd310>"
      ]
     },
     "metadata": {},
     "output_type": "display_data"
    }
   ],
   "source": [
    "import matplotlib.pyplot as pl\n",
    "%matplotlib inline\n",
    "import numpy as np\n",
    "RMSE = np.mean(np.mean(rmses, axis=0), axis=0)\n",
    "print(RMSE.shape)\n",
    "fig = pl.figure(figsize=(10,6))\n",
    "ax = fig.add_subplot(111)\n",
    "cax = ax.pcolor(RMSE)\n",
    "ax.set_xlabel('# observed neurons (out of 128)', fontsize=18)\n",
    "ax.set_ylabel('# partial recordings', fontsize=18)\n",
    "ax.set_xticks(np.arange(0.5,nSubnetSize))\n",
    "ax.set_xticklabels(subnetSize)\n",
    "ax.set_yticks(np.arange(0.5,nRecordings))\n",
    "ax.set_yticklabels(recordings)\n",
    "ax.set_title('RMSE (Layer '+str(iLayer)+')', fontsize=24)\n",
    "fig.colorbar(cax)\n",
    "pl.draw()\n",
    "figName = 'figures/1XGB_RMSES_Layer' + str(iLayer) + '_diff_nRec_' + nn\n",
    "pl.savefig(figName +'.pdf', format='pdf')\n",
    "pl.savefig(figName +'.eps', format='eps', dpi=1000)\n"
   ]
  },
  {
   "cell_type": "markdown",
   "metadata": {},
   "source": [
    "# Plot RMSE's vs. No. observed neurons per recordings"
   ]
  },
  {
   "cell_type": "code",
   "execution_count": 17,
   "metadata": {
    "collapsed": false
   },
   "outputs": [
    {
     "data": {
      "text/plain": [
       "(0, 0.5)"
      ]
     },
     "execution_count": 17,
     "metadata": {},
     "output_type": "execute_result"
    },
    {
     "data": {
      "image/png": "[encoded data removed]",
      "text/plain": [
       "<matplotlib.figure.Figure at 0x7f16c7879d10>"
      ]
     },
     "metadata": {},
     "output_type": "display_data"
    }
   ],
   "source": [
    "# import matplotlib.pyplot as pl\n",
    "# %matplotlib inline\n",
    "# import numpy as np\n",
    "\n",
    "# fig=pl.figure(figsize=(10,6))\n",
    "# ax1 = fig.add_subplot(111)\n",
    "# ax1.set_xlim([0, 128])\n",
    "# ax2 = ax1.twiny()\n",
    "\n",
    "# x = subnetSize;\n",
    "# y = np.mean(np.median(rmses, axis=1), axis=0)\n",
    "# error = np.std(np.mean(rmses, axis=1), axis=0)\n",
    "# bl = np.std(layer_outs_test[oLayer]-np.mean(layer_outs_test[oLayer]));\n",
    "\n",
    "# pl.semilogx(x, y, 'k-')\n",
    "# # horiz_line_data = np.array([bl for i in xrange(len(x))])\n",
    "# # pl.plot(x, horiz_line_data, 'k--') \n",
    "# pl.fill_between(x, y-error, y+error, alpha=0.2, facecolor='#808080')\n",
    "\n",
    "# ax1.set_xlabel('# observed neurons on Layer' + str(iLayer) + '(out of 128)', fontsize=18)\n",
    "# ax2.set_xlabel('Samples per recording',  fontsize=16)\n",
    "\n",
    "# new_tick_locations = subnetSize\n",
    "# ax1.set_xlim(ax1.get_xlim())\n",
    "# ax1.set_xticks(new_tick_locations)\n",
    "# ax1.set_xticklabels(new_tick_locations)\n",
    "\n",
    "# new_tick_locations = subnetSize\n",
    "# ax2.set_xlim(ax1.get_xlim())\n",
    "# ax2.set_xticks(new_tick_locations)\n",
    "# ax2.set_xticklabels(nSamples)\n",
    "\n",
    "\n",
    "# # ax2.set_xticks(nSamples)\n",
    "# # ax2.set_xticklabels(nSamples[range(0, 5, 20)])\n",
    "# ax1.set_ylabel('RMSE', fontsize=18)\n",
    "# ax1.set_ylim([0, .50])\n",
    "\n",
    "# # pl.text(110,bl+0.005, 'baseline')\n"
   ]
  },
  {
   "cell_type": "code",
   "execution_count": null,
   "metadata": {
    "collapsed": true
   },
   "outputs": [],
   "source": []
  }
 ],
 "metadata": {
  "kernelspec": {
   "display_name": "Python [Root]",
   "language": "python",
   "name": "Python [Root]"
  },
  "language_info": {
   "codemirror_mode": {
    "name": "ipython",
    "version": 2
   },
   "file_extension": ".py",
   "mimetype": "text/x-python",
   "name": "python",
   "nbconvert_exporter": "python",
   "pygments_lexer": "ipython2",
   "version": "2.7.12"
  }
 },
 "nbformat": 4,
 "nbformat_minor": 0
}

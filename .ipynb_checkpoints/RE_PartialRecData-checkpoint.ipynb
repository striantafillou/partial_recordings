{
 "cells": [
  {
   "cell_type": "code",
   "execution_count": null,
   "metadata": {
    "collapsed": true
   },
   "outputs": [],
   "source": [
    "def RE_PartialRecData(layer_outputs, nLayerNeurons, nRecordings, nSamples):\n",
    "    import numpy as np\n",
    "    # returns a data set where, from each layer, nLayerNeurons[i] neurons are recorded from each layer, for each of nRecordings.\n",
    "    # Each partial recording has nSamples.\n",
    "    \n",
    "    oLayer = len(layer_outputs)-1\n",
    "    layerNeurons = list()\n",
    "    # randomly permute samples\n",
    "    totalNSamples = layer_outputs[0].shape[0]\n",
    "    random_inds  = np.random.choice(range(totalNSamples), size=totalNSamples, replace=False)\n",
    "    #print(random_inds[1])\n",
    "    # choose observed neurons for each layer\n",
    "    for iLayer in range(len(layer_outputs)):\n",
    "        #print(iLayer)\n",
    "        layerArray = np.zeros((nRecordings, nLayerNeurons[iLayer]))\n",
    "        for iRec in range(nRecordings):\n",
    "            layerArray[iRec, :]= np.random.choice(range(layer_outputs[iLayer].shape[1]), size=nLayerNeurons[iLayer], replace=False)      \n",
    "        layerNeurons.append(layerArray)   \n",
    "\n",
    "    # get the data\n",
    "    for iLayer in range(len(layer_outputs)):\n",
    "        if nLayerNeurons[iLayer]==0:\n",
    "            continue\n",
    "        sample_ind =0;\n",
    "        #permuted data\n",
    "        X_l = layer_outputs[iLayer][random_inds, :]\n",
    "        for iRec in range(nRecordings):\n",
    "            notObserved = np.setdiff1d(range(layer_outputs[iLayer].shape[1]), layerNeurons[iLayer][iRec, :])\n",
    "            inds = np.array(range(sample_ind,((iRec+1)*nSamples)))\n",
    "            X_l[inds[:, None], notObserved] = np.nan;\n",
    "            sample_ind = sample_ind + nSamples\n",
    "        if np.sum(nLayerNeurons[0:iLayer])==0:\n",
    "            X=X_l\n",
    "        elif iLayer<oLayer:\n",
    "            X = np.append(X, X_l, axis=1)\n",
    "        else:\n",
    "            Y=X_l\n",
    "        \n",
    "    X=X[0:sample_ind, :]\n",
    "    Y=Y[0:sample_ind, :]\n",
    "    return X, Y;"
   ]
  }
 ],
 "metadata": {
  "kernelspec": {
   "display_name": "Python [Root]",
   "language": "python",
   "name": "Python [Root]"
  },
  "language_info": {
   "codemirror_mode": {
    "name": "ipython",
    "version": 2
   },
   "file_extension": ".py",
   "mimetype": "text/x-python",
   "name": "python",
   "nbconvert_exporter": "python",
   "pygments_lexer": "ipython2",
   "version": "2.7.12"
  }
 },
 "nbformat": 4,
 "nbformat_minor": 0
}

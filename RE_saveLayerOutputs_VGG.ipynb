{
 "cells": [
  {
   "cell_type": "code",
   "execution_count": 1,
   "metadata": {
    "collapsed": false
   },
   "outputs": [
    {
     "name": "stderr",
     "output_type": "stream",
     "text": [
      "Using Theano backend.\n",
      "WARNING (theano.sandbox.cuda): The cuda backend is deprecated and will be removed in the next release (v0.10).  Please switch to the gpuarray backend. You can get more information about how to switch at this URL:\n",
      " https://github.com/Theano/Theano/wiki/Converting-to-the-new-gpu-back-end%28gpuarray%29\n",
      "\n",
      "Using gpu device 1: GeForce GTX TITAN X (CNMeM is enabled with initial size: 50.0% of memory, cuDNN 5103)\n"
     ]
    }
   ],
   "source": [
    "from keras.applications.vgg16 import VGG16\n",
    "from keras.preprocessing import image\n",
    "from keras import backend as K\n",
    "from keras.models import load_model\n",
    "import keras.utils\n",
    "import numpy as np\n",
    "import pickle\n",
    "\n",
    "#Get back the convolutional part of a VGG network trained on ImageNet\n",
    "model_vgg16 = VGG16(weights='imagenet', include_top=True)\n",
    "#model_vgg16_conv.summary()\n",
    "\n",
    "# Load ImageNet validation data and split it into Xpr and Xtest\n",
    "\n",
    "# Generate dummy data as Xpr and Xtest\n",
    "Xpr = np.random.random((300, 224, 224, 3))\n",
    "Ypr = keras.utils.to_categorical(np.random.randint(10, size=(30000, 1)), num_classes=10)\n",
    "Xtest = np.random.random((100, 224, 224, 3))\n",
    "Ytest = keras.utils.to_categorical(np.random.randint(10, size=(10000, 1)), num_classes=10)\n",
    "\n",
    "\n",
    "# GET THE OUTPUT OF EACH LAYER AFTER TRAINING\n",
    "inp = model_vgg16.input                                     # input placeholder\n",
    "layIndx = np.array([10,22], dtype=np.dtype(np.int_))        # selected layer [2,3,9,10,20] and output layer [22]\n",
    "modelSel = [model_vgg16.layers[i] for i in layIndx]\n",
    "outputs = [layer.output for layer in modelSel]              # all selected layer outputs\n",
    "functor = K.function([inp]+ [K.learning_phase()], outputs ) # evaluation function\n",
    "layer_outs = functor([Xpr, 1.])                             # compute on 2nd training set\n",
    "layer_outs_test = functor([Xtest, 1.])                      # compute on test set\n",
    "\n",
    "# SAVE THE OUTPUT OF LAYERS\n",
    "with open('results/VGG_layer' + str(layIndx[0]) + '_outputs.dat','wb') as f:\n",
    "    pickle.dump([layer_outs, layer_outs_test], f)\n",
    "f.close()\n"
   ]
  },
  {
   "cell_type": "code",
   "execution_count": 2,
   "metadata": {
    "collapsed": false
   },
   "outputs": [
    {
     "data": {
      "text/plain": [
       "(300, 28, 28, 256)"
      ]
     },
     "execution_count": 2,
     "metadata": {},
     "output_type": "execute_result"
    }
   ],
   "source": [
    "layer_outs[0].shape"
   ]
  },
  {
   "cell_type": "code",
   "execution_count": null,
   "metadata": {
    "collapsed": true
   },
   "outputs": [],
   "source": []
  }
 ],
 "metadata": {
  "kernelspec": {
   "display_name": "Python [Root]",
   "language": "python",
   "name": "Python [Root]"
  },
  "language_info": {
   "codemirror_mode": {
    "name": "ipython",
    "version": 2
   },
   "file_extension": ".py",
   "mimetype": "text/x-python",
   "name": "python",
   "nbconvert_exporter": "python",
   "pygments_lexer": "ipython2",
   "version": "2.7.12"
  }
 },
 "nbformat": 4,
 "nbformat_minor": 0
}

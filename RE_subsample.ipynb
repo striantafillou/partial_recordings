{
 "cells": [
  {
   "cell_type": "code",
   "execution_count": null,
   "metadata": {
    "collapsed": false
   },
   "outputs": [],
   "source": [
    "import numpy as np\n",
    "from keras.models import Sequential\n",
    "from keras.layers import Dense\n",
    "from keras.utils import np_utils\n",
    "from scipy.misc import imresize\n",
    "import matplotlib.pyplot as plt\n",
    "%matplotlib inline\n",
    "\n",
    "# fix random seed for reproducibility\n",
    "# Load MNIST dataset\n",
    "from keras.datasets import mnist\n",
    "(Xtrain, Ytrain), (Xtest, Ytest) = mnist.load_data()\n",
    "\n",
    "(ntrain, xdim, ydim) = Xtrain.shape\n",
    "ntest = Xtest.shape[0]\n",
    "\n",
    "# split train data in two\n",
    "X_pr = Xtrain[30001:60000, :, :]\n",
    "Y_pr = Ytrain[30001:60000]\n",
    "\n",
    "Xtrain = Xtrain[0:30000, :, :];\n",
    "Ytrain = Ytrain[0:30000]\n",
    "\n",
    "# downsample\n",
    "factor = 0.25\n",
    "\n",
    "Xtrain_down = np.ones((Xtrain.shape[0], int(xdim*factor), int(ydim*factor)))\n",
    "for i in range(Xtrain.shape[0]):\n",
    "    Xtrain_down[i, :, :] = imresize(Xtrain[i,:,:], factor)\n",
    "\n",
    "Xtest_down = np.ones((Xtest.shape[0], int(xdim*factor), int(ydim*factor)))\n",
    "for i in range(Xtest.shape[0]):\n",
    "    Xtest_down[i,:,:] = imresize(Xtest[i,:,:], factor)\n",
    "\n",
    "    \n",
    "X_pr_down = np.ones((X_pr.shape[0], int(xdim*factor), int(ydim*factor)))\n",
    "for i in range(X_pr.shape[0]):\n",
    "    X_pr_down[i,:,:] = imresize(X_pr[i,:,:], factor)\n",
    "    \n",
    "# *** VECTORIZE IMAGES ***\n",
    "Xtrain_down = Xtrain_down.reshape(Xtrain_down.shape[0], int(xdim*factor)**2).astype('float32') / 255\n",
    "Xtest_down = Xtest_down.reshape(ntest, int(xdim*factor)**2).astype('float32') / 255\n",
    "X_pr_down = X_pr_down.reshape(X_pr_down.shape[0], int(xdim*factor)**2).astype('float32') / 255\n",
    "\n",
    "# Categorical labels\n",
    "Ytrain = np_utils.to_categorical(Ytrain, 10)\n",
    "Ytest = np_utils.to_categorical(Ytest, 10)\n",
    "Y_pr = np_utils.to_categorical(Y_pr, 10)"
   ]
  },
  {
   "cell_type": "code",
   "execution_count": 94,
   "metadata": {
    "collapsed": false
   },
   "outputs": [],
   "source": [
    "from keras import backend as K\n",
    "from keras.models import load_model\n",
    "\n",
    "model = load_model('nn.h5')\n",
    "\n",
    "inp = model.input                                           # input placeholder\n",
    "outputs = [layer.output for layer in model.layers]          # all layer outputs\n",
    "#functors = [K.function([inp], [out]) for out in outputs]    # evaluation functions\n",
    "functor = K.function([inp]+ [K.learning_phase()], outputs ) # evaluation function\n",
    "\n",
    "# Testing: layer_outs is a list with 4 data sets\n",
    "layer_outs = functor([X_pr_down, 1.])\n"
   ]
  },
  {
   "cell_type": "code",
   "execution_count": 134,
   "metadata": {
    "collapsed": false
   },
   "outputs": [
    {
     "name": "stdout",
     "output_type": "stream",
     "text": [
      "0\n",
      "1\n",
      "2\n",
      "3\n"
     ]
    }
   ],
   "source": [
    "# how many recordings?\n",
    "nRecordings = 10\n",
    "# which layers?\n",
    "layer_outputs = layer_outs\n",
    "nLayerNeurons = [2, 0, 0, 2]\n",
    "layerNeurons = list()\n",
    "\n",
    "# how many samples?\n",
    "nSamples = X_pr_down.shape[0]/nRecordings\n",
    "for iLayer in range(len(layer_outputs)):\n",
    "    print(iLayer)\n",
    "    layerArray = np.zeros((nRecordings, nLayerNeurons[iLayer]))\n",
    "    for iRec in range(nRecordings):\n",
    "        layerArray[iRec, :]= np.random.choice(range(model.layers[iLayer].output_dim), size=nLayerNeurons[iLayer], replace=True)      \n",
    "    layerNeurons.append(layerArray)   \n",
    "\n",
    "if len(np.unique(layerNeurons[3]))<model.layers[3].output_dim:\n",
    "#     #pick #outputs random places and replace them with 1:#outputs.\n",
    "     layerNeurons[3][np.random.choice(range(nRecordings), size =model.layers[3].output_dim, replace=False), 0] = range(10)   \n",
    "\n",
    "for iLayer in range(len(layer_outputs)):\n",
    "    if nLayerNeurons[iLayer]==0:\n",
    "        continue\n",
    "    sample_ind =0;\n",
    "    X_l = layer_outputs[iLayer]\n",
    "    for iRec in range(nRecordings):\n",
    "        notObserved = np.setdiff1d(range(model.layers[iLayer].output_dim), layerNeurons[iLayer][iRec, :])\n",
    "        inds = np.array(range(sample_ind,((iRec+1)*nSamples)))\n",
    "        X_l[inds[:, None], notObserved] = np.nan;\n",
    "        sample_ind = sample_ind + nSamples\n",
    "    if np.sum(nLayerNeurons[0:iLayer])==0:\n",
    "        data=X_l\n",
    "    else:\n",
    "        data = np.append(data, X_l, axis=1)\n",
    "    \n",
    "# split the data in nRecordings\n",
    "# X_rec =  np.random.rand(500, nNeurons)\n",
    "# nSamples=X_rec.shape[0]/nRecordings\n",
    "\n",
    "# #nSamples =\n",
    "# # randomly sample from the first hidden layer\n",
    "# rand_l1_inds = np.random.choice(range(model.layers[1].output_dim), size=nRecordings, replace=True)\n",
    "# #randomly sample from the output layer\n",
    "# rand_o_inds = np.random.choice(range(model.layers[3].output_dim), size=nRecordings, replace=True)\n",
    "\n",
    "# # make sure you have seen all output units at least once\n",
    "# if len(np.unique(rand_o_inds))<model.layers[3].output_dim:\n",
    "#     #pick #outputs random places and replace them with 1:#outputs.\n",
    "#     rand_o_inds[np.random.choice(range(nRecordings), size =model.layers[3].output_dim, replace=False)] = range(10)\n",
    "    \n",
    "# # random permutation of the lines\n",
    "# X_rec = X_rec[np.random.choice(range(X_rec.shape[0]), size=X_rec.shape[0], replace=False), :]                         \n",
    "# X_rec_pr = np.nan*np.ones(X_rec.shape)\n",
    "\n",
    "\n",
    "# sample_ind =0;\n",
    "# for iRec in range(nRecordings):\n",
    "#     inds = np.array(range(sample_ind,((iRec+1)*nSamples)))\n",
    "#     sample_ind = sample_ind + nSamples\n",
    "#     print(inds)\n",
    "#     a = np.array([rand_o_inds[iRec], rand_l1_inds[iRec]])\n",
    "#     X_rec_pr[inds[:, None], a] = X_rec[inds[:, None], a]"
   ]
  },
  {
   "cell_type": "code",
   "execution_count": 135,
   "metadata": {
    "collapsed": false
   },
   "outputs": [
    {
     "data": {
      "text/plain": [
       "(29999, 110)"
      ]
     },
     "execution_count": 135,
     "metadata": {},
     "output_type": "execute_result"
    }
   ],
   "source": []
  }
 ],
 "metadata": {
  "kernelspec": {
   "display_name": "Python [Root]",
   "language": "python",
   "name": "Python [Root]"
  },
  "language_info": {
   "codemirror_mode": {
    "name": "ipython",
    "version": 2
   },
   "file_extension": ".py",
   "mimetype": "text/x-python",
   "name": "python",
   "nbconvert_exporter": "python",
   "pygments_lexer": "ipython2",
   "version": "2.7.12"
  }
 },
 "nbformat": 4,
 "nbformat_minor": 0
}

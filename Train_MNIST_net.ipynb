{
 "cells": [
  {
   "cell_type": "code",
   "execution_count": 70,
   "metadata": {
    "collapsed": false
   },
   "outputs": [],
   "source": [
    "import numpy as np\n",
    "from keras.models import Sequential\n",
    "from keras.layers import Dense\n",
    "from keras.utils import np_utils\n",
    "from scipy.misc import imresize\n",
    "import matplotlib.pyplot as plt\n",
    "%matplotlib inline\n",
    "\n",
    "# fix random seed for reproducibility\n",
    "np.random.seed(7)\n",
    "\n",
    "# Load MNIST dataset\n",
    "from keras.datasets import mnist\n",
    "(Xtrain, Ytrain), (Xtest, Ytest) = mnist.load_data()\n",
    "(ntrain, xdim, ydim) = Xtrain.shape\n",
    "ntest = Xtest.shape[0]\n"
   ]
  },
  {
   "cell_type": "code",
   "execution_count": 71,
   "metadata": {
    "collapsed": false
   },
   "outputs": [],
   "source": [
    "# *** DOWNSAMPLE THE IMAGES ***\n",
    "factor = 1/4\n",
    "\n",
    "Xtrain_down = np.ones((ntrain, int(xdim*factor), int(ydim*factor)))\n",
    "for i in range(ntrain):\n",
    "    Xtrain_down[i, :, :] = imresize(Xtrain[i,:,:], factor)\n",
    "\n",
    "Xtest_down = np.ones((ntest, int(xdim*factor), int(ydim*factor)))\n",
    "for i in range(ntest):\n",
    "    Xtest_down[i,:,:] = imresize(Xtest[i,:,:], factor)\n"
   ]
  },
  {
   "cell_type": "code",
   "execution_count": 81,
   "metadata": {
    "collapsed": false
   },
   "outputs": [],
   "source": [
    "# *** VECTORIZE IMAGES ***\n",
    "Xtrain_down = Xtrain_down.reshape(ntrain, int(xdim*factor)**2).astype('float32') / 255\n",
    "Xtest_down = Xtest_down.reshape(ntest, int(xdim*factor)**2).astype('float32') / 255\n",
    "Xtrain = Xtrain.reshape(ntrain, xdim**2).astype('float32') / 255\n",
    "Xtest = Xtest.reshape(ntest, xdim**2).astype('float32') / 255\n",
    "# Categorical labels\n",
    "Ytrain = np_utils.to_categorical(Ytrain, 10)\n",
    "Ytest = np_utils.to_categorical(Ytest, 10)\n"
   ]
  },
  {
   "cell_type": "code",
   "execution_count": 73,
   "metadata": {
    "collapsed": false
   },
   "outputs": [
    {
     "data": {
      "image/png": "[encoded data removed]",
      "text/plain": [
       "<matplotlib.figure.Figure at 0x12bbccda0>"
      ]
     },
     "metadata": {},
     "output_type": "display_data"
    }
   ],
   "source": [
    "# *** VISUALIZATION 20 RANDOM TRAINING SAMPLES ***\n",
    "# Create 20 subplots\n",
    "fig, axes = plt.subplots(2, 10, figsize=(10, 2))\n",
    "\n",
    "for i in range(2):\n",
    "    for j in range(10):\n",
    "        axes[i][j].imshow(Xtrain_down[np.random.randint(0, 6000),:].reshape(int(xdim*factor), \n",
    "                          int(ydim*factor)), cmap='gray_r', interpolation='nearest')\n",
    "        axes[i][j].set_xticks([])\n",
    "        axes[i][j].set_yticks([])\n",
    "        "
   ]
  },
  {
   "cell_type": "code",
   "execution_count": 74,
   "metadata": {
    "collapsed": false
   },
   "outputs": [
    {
     "name": "stderr",
     "output_type": "stream",
     "text": [
      "/Users/elahe/anaconda3/lib/python3.5/site-packages/sklearn/discriminant_analysis.py:455: UserWarning: The priors do not sum to 1. Renormalizing\n",
      "  UserWarning)\n",
      "/Users/elahe/anaconda3/lib/python3.5/site-packages/sklearn/discriminant_analysis.py:387: UserWarning: Variables are collinear.\n",
      "  warnings.warn(\"Variables are collinear.\")\n"
     ]
    },
    {
     "name": "stdout",
     "output_type": "stream",
     "text": [
      "0.873\n",
      "0.8644\n"
     ]
    }
   ],
   "source": [
    "# # *** LDA ***\n",
    "# from sklearn.discriminant_analysis import LinearDiscriminantAnalysis\n",
    "\n",
    "# # Original images\n",
    "# clf = LinearDiscriminantAnalysis()\n",
    "# clf.fit(Xtrain, Ytrain)\n",
    "# LinearDiscriminantAnalysis(n_components=9, priors=None, shrinkage=None,\n",
    "#               solver='svd', store_covariance=False, tol=0.0001)\n",
    "\n",
    "# # Returns the mean accuracy on the given test data and labels.\n",
    "# score = clf.score(Xtest, Ytest, sample_weight=None)\n",
    "# print(score)\n",
    "\n",
    "# # Down-sampled images\n",
    "# clf = LinearDiscriminantAnalysis()\n",
    "# clf.fit(Xtrain_down, Ytrain)\n",
    "# LinearDiscriminantAnalysis(n_components=9, priors=None, shrinkage=None,\n",
    "#               solver='svd', store_covariance=False, tol=0.0001)\n",
    "\n",
    "# # Returns the mean accuracy on the given test data and labels.\n",
    "# score = clf.score(Xtest_down, Ytest, sample_weight=None)\n",
    "# print(score)\n",
    "# # print(clf.predict(Xtest))\n"
   ]
  },
  {
   "cell_type": "code",
   "execution_count": 84,
   "metadata": {
    "collapsed": false
   },
   "outputs": [
    {
     "name": "stderr",
     "output_type": "stream",
     "text": [
      "/Users/elahe/anaconda3/lib/python3.5/site-packages/keras/models.py:834: UserWarning: The `nb_epoch` argument in `fit` has been renamed `epochs`.\n",
      "  warnings.warn('The `nb_epoch` argument in `fit` '\n"
     ]
    },
    {
     "name": "stdout",
     "output_type": "stream",
     "text": [
      "Epoch 1/50\n",
      "60000/60000 [==============================] - 15s - loss: 1.8134 - acc: 0.3032    \n",
      "Epoch 2/50\n",
      "60000/60000 [==============================] - 14s - loss: 1.1683 - acc: 0.5814    \n",
      "Epoch 3/50\n",
      "60000/60000 [==============================] - 14s - loss: 1.0605 - acc: 0.6158    \n",
      "Epoch 4/50\n",
      "60000/60000 [==============================] - 15s - loss: 0.9991 - acc: 0.6431    \n",
      "Epoch 5/50\n",
      "60000/60000 [==============================] - 14s - loss: 0.9194 - acc: 0.6736    \n",
      "Epoch 6/50\n",
      "60000/60000 [==============================] - 14s - loss: 0.8046 - acc: 0.7160    \n",
      "Epoch 7/50\n",
      "60000/60000 [==============================] - 14s - loss: 0.6792 - acc: 0.7742    \n",
      "Epoch 8/50\n",
      "60000/60000 [==============================] - 14s - loss: 0.6215 - acc: 0.7994    \n",
      "Epoch 9/50\n",
      "60000/60000 [==============================] - 14s - loss: 0.5842 - acc: 0.8129    \n",
      "Epoch 10/50\n",
      "60000/60000 [==============================] - 15s - loss: 0.5402 - acc: 0.8288    \n",
      "Epoch 11/50\n",
      "60000/60000 [==============================] - 14s - loss: 0.5028 - acc: 0.8408    \n",
      "Epoch 12/50\n",
      "60000/60000 [==============================] - 14s - loss: 0.4774 - acc: 0.8496    \n",
      "Epoch 13/50\n",
      "60000/60000 [==============================] - 14s - loss: 0.4548 - acc: 0.8569    \n",
      "Epoch 14/50\n",
      "60000/60000 [==============================] - 15s - loss: 0.4347 - acc: 0.8627    \n",
      "Epoch 15/50\n",
      "60000/60000 [==============================] - 14s - loss: 0.4145 - acc: 0.8698    \n",
      "Epoch 16/50\n",
      "60000/60000 [==============================] - 14s - loss: 0.3917 - acc: 0.8764    \n",
      "Epoch 17/50\n",
      "60000/60000 [==============================] - 14s - loss: 0.3746 - acc: 0.8813    \n",
      "Epoch 18/50\n",
      "60000/60000 [==============================] - 15s - loss: 0.3607 - acc: 0.8862    \n",
      "Epoch 19/50\n",
      "60000/60000 [==============================] - 14s - loss: 0.3469 - acc: 0.8899    \n",
      "Epoch 20/50\n",
      "60000/60000 [==============================] - 14s - loss: 0.3407 - acc: 0.8917    \n",
      "Epoch 21/50\n",
      "60000/60000 [==============================] - 14s - loss: 0.3289 - acc: 0.8951    \n",
      "Epoch 22/50\n",
      "60000/60000 [==============================] - 14s - loss: 0.3221 - acc: 0.8970    \n",
      "Epoch 23/50\n",
      "60000/60000 [==============================] - 14s - loss: 0.3140 - acc: 0.8999    \n",
      "Epoch 24/50\n",
      "60000/60000 [==============================] - 14s - loss: 0.3079 - acc: 0.9014    \n",
      "Epoch 25/50\n",
      "60000/60000 [==============================] - 14s - loss: 0.3001 - acc: 0.9042    \n",
      "Epoch 26/50\n",
      "60000/60000 [==============================] - 14s - loss: 0.2977 - acc: 0.9052    \n",
      "Epoch 27/50\n",
      "60000/60000 [==============================] - 15s - loss: 0.2891 - acc: 0.9073    \n",
      "Epoch 28/50\n",
      "60000/60000 [==============================] - 14s - loss: 0.2840 - acc: 0.9097    \n",
      "Epoch 29/50\n",
      "60000/60000 [==============================] - 14s - loss: 0.2791 - acc: 0.9110    \n",
      "Epoch 30/50\n",
      "60000/60000 [==============================] - 14s - loss: 0.2712 - acc: 0.9143    \n",
      "Epoch 31/50\n",
      "60000/60000 [==============================] - 14s - loss: 0.2675 - acc: 0.9140    \n",
      "Epoch 32/50\n",
      "60000/60000 [==============================] - 13s - loss: 0.2629 - acc: 0.9147    \n",
      "Epoch 33/50\n",
      "60000/60000 [==============================] - 15s - loss: 0.2588 - acc: 0.9170    \n",
      "Epoch 34/50\n",
      "60000/60000 [==============================] - 15s - loss: 0.2547 - acc: 0.9184    \n",
      "Epoch 35/50\n",
      "60000/60000 [==============================] - 15s - loss: 0.2472 - acc: 0.9201    \n",
      "Epoch 36/50\n",
      "60000/60000 [==============================] - 14s - loss: 0.2451 - acc: 0.9221    \n",
      "Epoch 37/50\n",
      "60000/60000 [==============================] - 15s - loss: 0.2407 - acc: 0.9231    \n",
      "Epoch 38/50\n",
      "60000/60000 [==============================] - 15s - loss: 0.2376 - acc: 0.9227    \n",
      "Epoch 39/50\n",
      "60000/60000 [==============================] - 16s - loss: 0.2343 - acc: 0.9256    \n",
      "Epoch 40/50\n",
      "60000/60000 [==============================] - 14s - loss: 0.2317 - acc: 0.9267    \n",
      "Epoch 41/50\n",
      "60000/60000 [==============================] - 14s - loss: 0.2256 - acc: 0.9276    \n",
      "Epoch 42/50\n",
      "60000/60000 [==============================] - 14s - loss: 0.2268 - acc: 0.9270    \n",
      "Epoch 43/50\n",
      "60000/60000 [==============================] - 14s - loss: 0.2229 - acc: 0.9285    \n",
      "Epoch 44/50\n",
      "60000/60000 [==============================] - 14s - loss: 0.2198 - acc: 0.9292    \n",
      "Epoch 45/50\n",
      "60000/60000 [==============================] - 14s - loss: 0.2186 - acc: 0.9300    \n",
      "Epoch 46/50\n",
      "60000/60000 [==============================] - 14s - loss: 0.2158 - acc: 0.9317    \n",
      "Epoch 47/50\n",
      "60000/60000 [==============================] - 14s - loss: 0.2112 - acc: 0.9320    \n",
      "Epoch 48/50\n",
      "60000/60000 [==============================] - 14s - loss: 0.2106 - acc: 0.9318    \n",
      "Epoch 49/50\n",
      "60000/60000 [==============================] - 14s - loss: 0.2083 - acc: 0.9328    \n",
      "Epoch 50/50\n",
      "60000/60000 [==============================] - 14s - loss: 0.2054 - acc: 0.9335    \n",
      "\n",
      "acc: 94.12%\n"
     ]
    }
   ],
   "source": [
    "# *** TRAIN A FULLY-CONNECTED NN WITH TWO HIDDEN LAYERS ***\n",
    "# create model\n",
    "model = Sequential()\n",
    "model.add(Dense(100, input_shape=(int(xdim*factor)**2,), activation='relu'))\n",
    "model.add(Dense(100, activation='relu'))\n",
    "model.add(Dense(100, activation='relu'))\n",
    "model.add(Dense(10, activation='softmax'))\n",
    "\n",
    "# Compile model\n",
    "model.compile(loss='categorical_crossentropy', optimizer='adam', metrics=['accuracy'])\n",
    "# model.compile(loss='sparse_categorical_crossentropy', optimizer='adam', metrics=['accuracy'])\n",
    "\n",
    "# Fit the model\n",
    "model.fit(Xtrain_down, Ytrain, nb_epoch=50, batch_size=16)\n",
    "\n",
    "# evaluate the model\n",
    "scores = model.evaluate(Xtest_down, Ytest, verbose=0)\n",
    "print(\"\\n%s: %.2f%%\" % (model.metrics_names[1], scores[1]*100))\n",
    "\n",
    "# # calculate predictions\n",
    "# Ypredict = model.predict(Xtest)\n",
    "# # round predictions\n",
    "# rounded = [round(x[0]) for x in Ypredict]\n",
    "# print(rounded)\n"
   ]
  },
  {
   "cell_type": "code",
   "execution_count": 97,
   "metadata": {
    "collapsed": false
   },
   "outputs": [
    {
     "name": "stdout",
     "output_type": "stream",
     "text": [
      "[array([[ 0.        ,  0.        ,  0.        , ...,  0.        ,\n",
      "         0.        ,  0.023101  ],\n",
      "       [ 0.        ,  0.        ,  0.        , ...,  0.        ,\n",
      "         0.        ,  0.03259186],\n",
      "       [ 0.        ,  0.        ,  0.        , ...,  0.        ,\n",
      "         0.        ,  0.01482217],\n",
      "       ..., \n",
      "       [ 0.        ,  0.        ,  0.        , ...,  0.        ,\n",
      "         0.        ,  0.        ],\n",
      "       [ 0.        ,  0.        ,  0.        , ...,  0.        ,\n",
      "         0.        ,  0.01421584],\n",
      "       [ 0.        ,  0.        ,  0.        , ...,  0.        ,\n",
      "         0.        ,  0.01554491]], dtype=float32), array([[ 0.        ,  0.        ,  0.        , ...,  0.        ,\n",
      "         0.06885444,  0.        ],\n",
      "       [ 0.        ,  0.        ,  0.        , ...,  0.        ,\n",
      "         0.43515649,  0.10050378],\n",
      "       [ 0.02554294,  0.        ,  0.        , ...,  0.        ,\n",
      "         0.23359326,  0.0940301 ],\n",
      "       ..., \n",
      "       [ 0.19536428,  0.        ,  0.        , ...,  0.        ,\n",
      "         0.12916145,  0.03500222],\n",
      "       [ 0.15678462,  0.        ,  0.        , ...,  0.        ,\n",
      "         0.11911228,  0.        ],\n",
      "       [ 0.        ,  0.        ,  0.        , ...,  0.        ,\n",
      "         0.26854488,  0.22753656]], dtype=float32), array([[ 0.        ,  0.        ,  0.        , ...,  0.        ,\n",
      "         0.        ,  0.39481941],\n",
      "       [ 0.        ,  0.        ,  0.        , ...,  0.        ,\n",
      "         0.        ,  1.46803093],\n",
      "       [ 0.        ,  0.        ,  0.        , ...,  0.        ,\n",
      "         0.        ,  0.        ],\n",
      "       ..., \n",
      "       [ 0.        ,  0.        ,  0.        , ...,  0.        ,\n",
      "         0.        ,  0.        ],\n",
      "       [ 0.        ,  0.        ,  0.        , ...,  0.        ,\n",
      "         0.        ,  0.64285648],\n",
      "       [ 0.        ,  0.        ,  0.        , ...,  0.        ,\n",
      "         0.        ,  1.44292665]], dtype=float32), array([[  1.34049333e-06,   4.25047489e-07,   6.36389770e-04, ...,\n",
      "          9.97962594e-01,   1.13594515e-05,   6.07864466e-04],\n",
      "       [  3.27722454e-08,   4.51357849e-03,   9.94393587e-01, ...,\n",
      "          1.95112852e-06,   1.27635712e-05,   6.32643826e-10],\n",
      "       [  2.00732466e-05,   9.97654140e-01,   1.04252214e-03, ...,\n",
      "          2.00772745e-04,   5.11452730e-04,   3.05363210e-05],\n",
      "       ..., \n",
      "       [  2.33938735e-07,   1.74275261e-09,   5.15125339e-06, ...,\n",
      "          2.32428225e-04,   3.97925178e-04,   3.01803313e-02],\n",
      "       [  4.73994123e-06,   1.20617015e-05,   2.18176108e-08, ...,\n",
      "          4.76892339e-08,   9.90362093e-03,   8.58462741e-08],\n",
      "       [  1.52192224e-04,   1.64621490e-08,   9.40598984e-05, ...,\n",
      "          1.14659009e-07,   3.95457646e-05,   7.29036298e-09]], dtype=float32)]\n"
     ]
    }
   ],
   "source": [
    "# GET THE OUTPUT OF EACH LAYER AFTER TRAINING\n",
    "from keras import backend as K\n",
    "\n",
    "inp = model.input                                           # input placeholder\n",
    "outputs = [layer.output for layer in model.layers]          # all layer outputs\n",
    "#functors = [K.function([inp], [out]) for out in outputs]    # evaluation functions\n",
    "functor = K.function([inp]+ [K.learning_phase()], outputs ) # evaluation function\n",
    "\n",
    "# Testing\n",
    "layer_outs = functor([Xtest_down, 1.])\n",
    "print(layer_outs)"
   ]
  },
  {
   "cell_type": "code",
   "execution_count": null,
   "metadata": {
    "collapsed": true
   },
   "outputs": [],
   "source": []
  }
 ],
 "metadata": {
  "anaconda-cloud": {},
  "kernelspec": {
   "display_name": "Python [default]",
   "language": "python",
   "name": "python3"
  },
  "language_info": {
   "codemirror_mode": {
    "name": "ipython",
    "version": 3
   },
   "file_extension": ".py",
   "mimetype": "text/x-python",
   "name": "python",
   "nbconvert_exporter": "python",
   "pygments_lexer": "ipython3",
   "version": "3.5.2"
  }
 },
 "nbformat": 4,
 "nbformat_minor": 1
}

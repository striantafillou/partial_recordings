{
 "cells": [
  {
   "cell_type": "code",
   "execution_count": 1,
   "metadata": {
    "collapsed": false
   },
   "outputs": [
    {
     "name": "stderr",
     "output_type": "stream",
     "text": [
      "Using TensorFlow backend.\n"
     ]
    }
   ],
   "source": [
    "import numpy as np\n",
    "from keras.models import Sequential\n",
    "from keras.layers import Dense\n",
    "from keras.utils import np_utils\n",
    "from keras.models import load_model\n",
    "from keras import backend as K\n",
    "import tensorflow as tf\n",
    "from scipy.misc import imresize\n",
    "import matplotlib.pyplot as plt\n",
    "%matplotlib inline\n",
    "\n",
    "# fix random seed for reproducibility\n",
    "np.random.seed(7)\n"
   ]
  },
  {
   "cell_type": "markdown",
   "metadata": {},
   "source": [
    "# Load MNIST and some preprocessing"
   ]
  },
  {
   "cell_type": "code",
   "execution_count": 2,
   "metadata": {
    "collapsed": false
   },
   "outputs": [
    {
     "data": {
      "image/png": "[encoded data removed]",
      "text/plain": [
       "<matplotlib.figure.Figure at 0x7f6d62e93510>"
      ]
     },
     "metadata": {},
     "output_type": "display_data"
    }
   ],
   "source": [
    "from keras.datasets import mnist\n",
    "(Xtrain, Ytrain), (Xtest, Ytest) = mnist.load_data()\n",
    "\n",
    "(ntrain, xdim, ydim) = Xtrain.shape\n",
    "ntest = Xtest.shape[0]\n",
    "\n",
    "# split train data in two parts\n",
    "X_pr = Xtrain[30000:60000, :, :]\n",
    "Y_pr = Ytrain[30000:60000]\n",
    "\n",
    "Xtrain = Xtrain[0:30000, :, :];\n",
    "Ytrain = Ytrain[0:30000]\n",
    "\n",
    "# DOWNSAMPLE THE IMAGES\n",
    "factor = 0.25\n",
    "\n",
    "Xtrain_down = np.ones((Xtrain.shape[0], int(xdim*factor), int(ydim*factor)))\n",
    "for i in range(Xtrain.shape[0]):\n",
    "    Xtrain_down[i, :, :] = imresize(Xtrain[i,:,:], factor)\n",
    "\n",
    "Xtest_down = np.ones((Xtest.shape[0], int(xdim*factor), int(ydim*factor)))\n",
    "for i in range(Xtest.shape[0]):\n",
    "    Xtest_down[i,:,:] = imresize(Xtest[i,:,:], factor)\n",
    "\n",
    "    \n",
    "X_pr_down = np.ones((X_pr.shape[0], int(xdim*factor), int(ydim*factor)))\n",
    "for i in range(X_pr.shape[0]):\n",
    "    X_pr_down[i,:,:] = imresize(X_pr[i,:,:], factor)\n",
    "\n",
    "    \n",
    "# VECTORIZE IMAGES\n",
    "Xtrain_down = Xtrain_down.reshape(Xtrain.shape[0], int(xdim*factor)**2).astype('float32') / 255\n",
    "Xtest_down  = Xtest_down.reshape(ntest, int(xdim*factor)**2).astype('float32') / 255\n",
    "X_pr_down   = X_pr_down.reshape(X_pr.shape[0], int(xdim*factor)**2).astype('float32') / 255\n",
    "Xtrain      = Xtrain.reshape(Xtrain.shape[0], xdim**2).astype('float32') / 255\n",
    "Xtest       = Xtest.reshape(ntest, xdim**2).astype('float32') / 255\n",
    "\n",
    "# Categorical labels\n",
    "Ytrain_cat = np_utils.to_categorical(Ytrain, 10)\n",
    "Ytest_cat = np_utils.to_categorical(Ytest, 10)\n",
    "\n",
    "# VISUALIZATION 20 RANDOM TRAINING SAMPLES\n",
    "# Create 20 subplots\n",
    "fig, axes = plt.subplots(2, 10, figsize=(10, 2))\n",
    "\n",
    "for i in range(2):\n",
    "    for j in range(10):\n",
    "        axes[i][j].imshow(Xtrain_down[np.random.randint(0, 3000),:].reshape(int(xdim*factor), \n",
    "                          int(ydim*factor)), cmap='gray_r', interpolation='nearest')\n",
    "        axes[i][j].set_xticks([])\n",
    "        axes[i][j].set_yticks([])\n",
    "        "
   ]
  },
  {
   "cell_type": "markdown",
   "metadata": {},
   "source": [
    "# TRAIN A FULLY-CONNECTED NN WITH 4 \"LINEAR\" HIDDEN LAYERS "
   ]
  },
  {
   "cell_type": "code",
   "execution_count": 3,
   "metadata": {
    "collapsed": false
   },
   "outputs": [
    {
     "name": "stdout",
     "output_type": "stream",
     "text": [
      "Epoch 1/50\n",
      "30000/30000 [==============================] - 5s - loss: 9.3614 - acc: 0.1273     \n",
      "Epoch 2/50\n",
      "30000/30000 [==============================] - 3s - loss: 9.4645 - acc: 0.1259     \n",
      "Epoch 3/50\n",
      "30000/30000 [==============================] - 3s - loss: 9.4645 - acc: 0.1259     \n",
      "Epoch 4/50\n",
      "30000/30000 [==============================] - 3s - loss: 9.4645 - acc: 0.1259     \n",
      "Epoch 5/50\n",
      "30000/30000 [==============================] - 3s - loss: 9.4645 - acc: 0.1259     \n",
      "Epoch 6/50\n",
      "30000/30000 [==============================] - 3s - loss: 9.4645 - acc: 0.1259     \n",
      "Epoch 7/50\n",
      "30000/30000 [==============================] - 3s - loss: 9.4645 - acc: 0.1259     \n",
      "Epoch 8/50\n",
      "30000/30000 [==============================] - 3s - loss: 9.4645 - acc: 0.1259     \n",
      "Epoch 9/50\n",
      "30000/30000 [==============================] - 3s - loss: 9.4645 - acc: 0.1259     \n",
      "Epoch 10/50\n",
      "30000/30000 [==============================] - 3s - loss: 9.4645 - acc: 0.1259     \n",
      "Epoch 11/50\n",
      "30000/30000 [==============================] - 3s - loss: 9.4645 - acc: 0.1259     \n",
      "Epoch 12/50\n",
      "30000/30000 [==============================] - 3s - loss: 9.4645 - acc: 0.1259     \n",
      "Epoch 13/50\n",
      "30000/30000 [==============================] - 3s - loss: 9.4645 - acc: 0.1259     \n",
      "Epoch 14/50\n",
      "30000/30000 [==============================] - 3s - loss: 9.4645 - acc: 0.1259     \n",
      "Epoch 15/50\n",
      "30000/30000 [==============================] - 3s - loss: 9.4645 - acc: 0.1259     \n",
      "Epoch 16/50\n",
      "30000/30000 [==============================] - 3s - loss: 9.4645 - acc: 0.1259     \n",
      "Epoch 17/50\n",
      "30000/30000 [==============================] - 3s - loss: 9.4645 - acc: 0.1259     \n",
      "Epoch 18/50\n",
      "30000/30000 [==============================] - 3s - loss: 9.4645 - acc: 0.1259     \n",
      "Epoch 19/50\n",
      "30000/30000 [==============================] - 3s - loss: 9.4645 - acc: 0.1259     \n",
      "Epoch 20/50\n",
      "30000/30000 [==============================] - 3s - loss: 9.4645 - acc: 0.1259     \n",
      "Epoch 21/50\n",
      "30000/30000 [==============================] - 3s - loss: 9.4645 - acc: 0.1259     \n",
      "Epoch 22/50\n",
      "30000/30000 [==============================] - 3s - loss: 9.4645 - acc: 0.1259     \n",
      "Epoch 23/50\n",
      "30000/30000 [==============================] - 3s - loss: 9.4645 - acc: 0.1259     \n",
      "Epoch 24/50\n",
      "30000/30000 [==============================] - 3s - loss: 9.4645 - acc: 0.1259     \n",
      "Epoch 25/50\n",
      "30000/30000 [==============================] - 3s - loss: 9.4645 - acc: 0.1259     \n",
      "Epoch 26/50\n",
      "30000/30000 [==============================] - 3s - loss: 9.4645 - acc: 0.1259     \n",
      "Epoch 27/50\n",
      "30000/30000 [==============================] - 3s - loss: 9.4645 - acc: 0.1259     \n",
      "Epoch 28/50\n",
      "30000/30000 [==============================] - 3s - loss: 9.4645 - acc: 0.1259     \n",
      "Epoch 29/50\n",
      "30000/30000 [==============================] - 3s - loss: 9.4645 - acc: 0.1259     \n",
      "Epoch 30/50\n",
      "30000/30000 [==============================] - 3s - loss: 9.4645 - acc: 0.1259     \n",
      "Epoch 31/50\n",
      "30000/30000 [==============================] - 3s - loss: 9.4645 - acc: 0.1259     \n",
      "Epoch 32/50\n",
      "30000/30000 [==============================] - 3s - loss: 9.4645 - acc: 0.1259     \n",
      "Epoch 33/50\n",
      "30000/30000 [==============================] - 3s - loss: 9.4645 - acc: 0.1259     \n",
      "Epoch 34/50\n",
      "30000/30000 [==============================] - 3s - loss: 9.4645 - acc: 0.1259     \n",
      "Epoch 35/50\n",
      "30000/30000 [==============================] - 3s - loss: 9.4645 - acc: 0.1259     \n",
      "Epoch 36/50\n",
      "30000/30000 [==============================] - 3s - loss: 9.4645 - acc: 0.1259     \n",
      "Epoch 37/50\n",
      "30000/30000 [==============================] - 3s - loss: 9.4645 - acc: 0.1259     \n",
      "Epoch 38/50\n",
      "30000/30000 [==============================] - 3s - loss: 9.4645 - acc: 0.1259     \n",
      "Epoch 39/50\n",
      "30000/30000 [==============================] - 3s - loss: 9.4645 - acc: 0.1259     \n",
      "Epoch 40/50\n",
      "30000/30000 [==============================] - 3s - loss: 9.4645 - acc: 0.1259     \n",
      "Epoch 41/50\n",
      "30000/30000 [==============================] - 3s - loss: 9.4645 - acc: 0.1259     \n",
      "Epoch 42/50\n",
      "30000/30000 [==============================] - 3s - loss: 9.4645 - acc: 0.1259     \n",
      "Epoch 43/50\n",
      "30000/30000 [==============================] - 3s - loss: 9.4645 - acc: 0.1259     \n",
      "Epoch 44/50\n",
      "30000/30000 [==============================] - 3s - loss: 9.4645 - acc: 0.1259     \n",
      "Epoch 45/50\n",
      "30000/30000 [==============================] - 3s - loss: 9.4645 - acc: 0.1259     \n",
      "Epoch 46/50\n",
      "30000/30000 [==============================] - 3s - loss: 9.4645 - acc: 0.1259     \n",
      "Epoch 47/50\n",
      "30000/30000 [==============================] - 3s - loss: 9.4645 - acc: 0.1259     \n",
      "Epoch 48/50\n",
      "30000/30000 [==============================] - 3s - loss: 9.4645 - acc: 0.1259     \n",
      "Epoch 49/50\n",
      "30000/30000 [==============================] - 3s - loss: 9.4645 - acc: 0.1259     \n",
      "Epoch 50/50\n",
      "30000/30000 [==============================] - 3s - loss: 9.4645 - acc: 0.1259     \n",
      "\n",
      "acc: 12.95%\n"
     ]
    }
   ],
   "source": [
    "# create model\n",
    "model = Sequential()\n",
    "model.add(Dense(128, input_shape=(int(xdim*factor)**2,)))\n",
    "model.add(Dense(128))\n",
    "model.add(Dense(128))\n",
    "model.add(Dense(128))\n",
    "model.add(Dense(10))\n",
    "\n",
    "# Compile model\n",
    "model.compile(loss='categorical_crossentropy', optimizer='adam', metrics=['accuracy'])\n",
    "# model.compile(loss='sparse_categorical_crossentropy', optimizer='adam', metrics=['accuracy'])\n",
    "\n",
    "# Fit the model\n",
    "with tf.device('/gpu:1'):\n",
    "    model.fit(Xtrain_down, Ytrain_cat, nb_epoch=50, batch_size=32)\n",
    "\n",
    "# evaluate the model\n",
    "scores = model.evaluate(Xtest_down, Ytest_cat, verbose=0)\n",
    "print(\"\\n%s: %.2f%%\" % (model.metrics_names[1], scores[1]*100))\n",
    "\n",
    "# # calculate predictions\n",
    "# Ypredict = model.predict(Xtest)\n",
    "# # round predictions\n",
    "# rounded = [round(x[0]) for x in Ypredict]\n",
    "# print(rounded)\n",
    "\n",
    "# Save the model\n",
    "model.save('linear_nn.h5')\n",
    "\n",
    "# GET THE OUTPUT OF EACH LAYER AFTER TRAINING\n",
    "inp = model.input                                           # input placeholder\n",
    "outputs = [layer.output for layer in model.layers]          # all layer outputs\n",
    "functor = K.function([inp]+ [K.learning_phase()], outputs ) # evaluation function\n",
    "layer_outs = functor([X_pr_down, 1.])                       # compute on 2nd training set\n",
    "layer_outs_test = functor([Xtest_down, 1.])                 # compute on test set\n",
    "#print(layer_outs)\n"
   ]
  },
  {
   "cell_type": "code",
   "execution_count": 4,
   "metadata": {
    "collapsed": true
   },
   "outputs": [],
   "source": [
    "import pickle\n",
    "with open('linear_NN_layer_outputs.dat','wb') as f:\n",
    "    pickle.dump([layer_outs, layer_outs_test], f)\n",
    "f.close()"
   ]
  }
 ],
 "metadata": {
  "kernelspec": {
   "display_name": "Python [Root]",
   "language": "python",
   "name": "Python [Root]"
  },
  "language_info": {
   "codemirror_mode": {
    "name": "ipython",
    "version": 2
   },
   "file_extension": ".py",
   "mimetype": "text/x-python",
   "name": "python",
   "nbconvert_exporter": "python",
   "pygments_lexer": "ipython2",
   "version": "2.7.12"
  }
 },
 "nbformat": 4,
 "nbformat_minor": 0
}
